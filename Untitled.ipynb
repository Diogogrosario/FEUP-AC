{
 "cells": [
  {
   "cell_type": "code",
   "execution_count": 9,
   "metadata": {},
   "outputs": [],
   "source": [
    "import pandas as pd\n",
    "import seaborn as sb\n",
    "\n",
    "from sklearn.linear_model import LogisticRegression"
   ]
  },
  {
   "cell_type": "code",
   "execution_count": 13,
   "metadata": {},
   "outputs": [],
   "source": [
    "df = pd.read_csv('loan_test.csv', sep=';')\n",
    "df = df[df.columns.difference(['status'])]\n",
    "\n",
    "df_train = pd.read_csv('loan_train.csv', sep=';')\n",
    "train_status = df_train['status']\n",
    "train_data = df_train[df_train.columns.difference(['status'])]"
   ]
  },
  {
   "cell_type": "code",
   "execution_count": 14,
   "metadata": {},
   "outputs": [
    {
     "data": {
      "text/html": [
       "<div>\n",
       "<style scoped>\n",
       "    .dataframe tbody tr th:only-of-type {\n",
       "        vertical-align: middle;\n",
       "    }\n",
       "\n",
       "    .dataframe tbody tr th {\n",
       "        vertical-align: top;\n",
       "    }\n",
       "\n",
       "    .dataframe thead th {\n",
       "        text-align: right;\n",
       "    }\n",
       "</style>\n",
       "<table border=\"1\" class=\"dataframe\">\n",
       "  <thead>\n",
       "    <tr style=\"text-align: right;\">\n",
       "      <th></th>\n",
       "      <th>account_id</th>\n",
       "      <th>amount</th>\n",
       "      <th>date</th>\n",
       "      <th>duration</th>\n",
       "      <th>loan_id</th>\n",
       "      <th>payments</th>\n",
       "    </tr>\n",
       "  </thead>\n",
       "  <tbody>\n",
       "    <tr>\n",
       "      <th>0</th>\n",
       "      <td>4473</td>\n",
       "      <td>93960</td>\n",
       "      <td>970103</td>\n",
       "      <td>60</td>\n",
       "      <td>5895</td>\n",
       "      <td>1566</td>\n",
       "    </tr>\n",
       "    <tr>\n",
       "      <th>1</th>\n",
       "      <td>10365</td>\n",
       "      <td>260640</td>\n",
       "      <td>970104</td>\n",
       "      <td>36</td>\n",
       "      <td>7122</td>\n",
       "      <td>7240</td>\n",
       "    </tr>\n",
       "    <tr>\n",
       "      <th>2</th>\n",
       "      <td>5724</td>\n",
       "      <td>232560</td>\n",
       "      <td>970108</td>\n",
       "      <td>48</td>\n",
       "      <td>6173</td>\n",
       "      <td>4845</td>\n",
       "    </tr>\n",
       "    <tr>\n",
       "      <th>3</th>\n",
       "      <td>5591</td>\n",
       "      <td>221880</td>\n",
       "      <td>970121</td>\n",
       "      <td>60</td>\n",
       "      <td>6142</td>\n",
       "      <td>3698</td>\n",
       "    </tr>\n",
       "    <tr>\n",
       "      <th>4</th>\n",
       "      <td>2018</td>\n",
       "      <td>38520</td>\n",
       "      <td>970121</td>\n",
       "      <td>12</td>\n",
       "      <td>5358</td>\n",
       "      <td>3210</td>\n",
       "    </tr>\n",
       "  </tbody>\n",
       "</table>\n",
       "</div>"
      ],
      "text/plain": [
       "   account_id  amount    date  duration  loan_id  payments\n",
       "0        4473   93960  970103        60     5895      1566\n",
       "1       10365  260640  970104        36     7122      7240\n",
       "2        5724  232560  970108        48     6173      4845\n",
       "3        5591  221880  970121        60     6142      3698\n",
       "4        2018   38520  970121        12     5358      3210"
      ]
     },
     "execution_count": 14,
     "metadata": {},
     "output_type": "execute_result"
    }
   ],
   "source": [
    "df.head()"
   ]
  },
  {
   "cell_type": "code",
   "execution_count": 15,
   "metadata": {},
   "outputs": [
    {
     "name": "stdout",
     "output_type": "stream",
     "text": [
      "[ 1  1  1  1  1  1  1 -1  1  1  1 -1 -1  1 -1 -1 -1  1 -1  1  1  1  1  1\n",
      "  1  1  1  1 -1  1  1  1  1  1  1  1  1 -1  1  1  1  1 -1  1 -1  1 -1  1\n",
      "  1  1 -1  1 -1 -1  1  1  1 -1  1  1 -1 -1  1  1  1  1  1  1 -1  1  1  1\n",
      "  1  1  1  1 -1  1 -1  1 -1 -1  1  1 -1  1  1  1  1  1  1  1  1  1 -1 -1\n",
      " -1 -1  1 -1 -1  1  1  1  1 -1  1  1 -1  1  1  1  1  1  1 -1  1  1  1 -1\n",
      "  1  1 -1 -1 -1 -1 -1  1  1  1 -1 -1  1 -1  1 -1  1 -1 -1 -1  1  1  1 -1\n",
      "  1  1  1 -1  1  1 -1  1  1  1 -1  1  1  1  1  1 -1 -1  1 -1  1  1 -1  1\n",
      " -1 -1  1  1  1  1 -1  1  1  1  1  1  1  1  1  1  1  1  1  1 -1 -1 -1 -1\n",
      "  1  1  1  1  1  1  1  1 -1  1  1 -1  1  1 -1  1  1 -1  1  1 -1 -1  1  1\n",
      "  1  1  1  1  1  1  1 -1 -1 -1 -1  1  1  1  1  1  1  1  1  1  1 -1  1  1\n",
      "  1  1 -1  1  1  1  1 -1  1  1  1  1  1  1  1  1  1  1 -1  1  1  1  1  1\n",
      " -1  1  1  1 -1 -1 -1  1  1  1  1  1 -1 -1  1 -1  1  1  1  1  1  1  1  1\n",
      "  1 -1  1  1  1  1  1 -1  1  1  1  1 -1 -1 -1  1  1 -1  1 -1  1  1  1 -1\n",
      " -1 -1 -1  1  1 -1 -1  1  1  1 -1  1  1 -1  1 -1  1  1  1  1  1 -1  1 -1\n",
      " -1 -1  1  1  1  1  1  1  1 -1  1 -1 -1 -1 -1  1  1  1]\n"
     ]
    }
   ],
   "source": [
    "logreg = LogisticRegression(solver='liblinear', max_iter=1000, class_weight='balanced', C=0.25)\n",
    "logreg.fit(train_data, train_status)\n",
    "\n",
    "predictions = logreg.predict(df)\n",
    "\n",
    "print(predictions)"
   ]
  },
  {
   "cell_type": "code",
   "execution_count": 24,
   "metadata": {},
   "outputs": [
    {
     "name": "stdout",
     "output_type": "stream",
     "text": [
      "<class 'numpy.ndarray'>\n"
     ]
    }
   ],
   "source": [
    "df_final = df['account_id']\n",
    "df_final = pd.DataFrame({\"Id\" : df['loan_id'], \"Predicted\" : predictions})\n",
    "\n",
    "df_final.to_csv('test.csv', index=False)\n",
    "print(type(predictions))"
   ]
  },
  {
   "cell_type": "code",
   "execution_count": null,
   "metadata": {},
   "outputs": [],
   "source": []
  }
 ],
 "metadata": {
  "kernelspec": {
   "display_name": "Python 3",
   "language": "python",
   "name": "python3"
  },
  "language_info": {
   "codemirror_mode": {
    "name": "ipython",
    "version": 3
   },
   "file_extension": ".py",
   "mimetype": "text/x-python",
   "name": "python",
   "nbconvert_exporter": "python",
   "pygments_lexer": "ipython3",
   "version": "3.8.5"
  }
 },
 "nbformat": 4,
 "nbformat_minor": 4
}
