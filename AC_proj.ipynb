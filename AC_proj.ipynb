{
 "cells": [
  {
   "cell_type": "markdown",
   "metadata": {},
   "source": [
    "# Data Mining Project - To Loan or Not to Loan"
   ]
  },
  {
   "cell_type": "markdown",
   "metadata": {},
   "source": [
    "## Table of contents\n",
    "\n",
    "1. [Introduction](#Introduction)\n",
    "\n",
    "2. [Required libraries](#Required-libraries)\n",
    "\n",
    "4. [The Problem](#Problem)\n",
    "\n",
    "5. [Initialization / Preprocessing](#Initialization-/-Preprocessing)\n",
    "\n",
    "6. [Plots](#Plots)\n",
    "\n",
    "7. [Exploratory analysis](#Step-4:-Exploratory-analysis)\n",
    "\n",
    "8. [Classification](#Step-5:-Classification)\n",
    "\n",
    "    - [Cross-validation](#Cross-validation)\n",
    "\n",
    "    - [Parameter tuning](#Parameter-tuning)\n",
    "\n",
    "9. [Conclusions](#Conclusions)"
   ]
  },
  {
   "cell_type": "markdown",
   "metadata": {},
   "source": [
    "## Introduction\n",
    "\n",
    "In this project, we intend to use Supervised Machine Learning methods to predict whether a loan should be refused or not. In order to do this, we make use of a [Bank Loan dataset](https://www.kaggle.com/c/to-loan-or-not-to-loan-that-is-the-question-ac2122) from a Kaggle competition."
   ]
  },
  {
   "cell_type": "markdown",
   "metadata": {},
   "source": [
    "## Required libraries\n",
    "\n",
    "(mudar isto depois)\n",
    "\n",
    "- **numpy** - provides support for large multidimensional arrays and matrices along with a collection of high-level mathematical functions to execute these functions swiftly.\n",
    "- **pandas** - enables the provision of easy data structure and quicker data analysis for Python. For operations like data analysis and modelling, Pandas makes it possible to carry these out without needing to switch to more domain-specific language.\n",
    "- **scikit-learn** - can be effectively used for a variety of applications which include classification, regression, clustering, model selection, naive Bayes’, grade boosting, K-means, and preprocessing.\n",
    "- **matplotlib** - widely used for publication of quality figures in a variety of hard copy formats and interactive environments across platforms. Used to design charts, graphs, pie charts, scatterplots, histograms, error charts, etc.\n",
    "- **seaborn** - visualisation of statistical models like heat maps."
   ]
  },
  {
   "cell_type": "markdown",
   "metadata": {},
   "source": []
  },
  {
   "cell_type": "markdown",
   "metadata": {},
   "source": [
    "## Initialization / Preprocessing"
   ]
  },
  {
   "cell_type": "markdown",
   "metadata": {},
   "source": [
    "### Import modules"
   ]
  },
  {
   "cell_type": "code",
   "execution_count": 1,
   "metadata": {},
   "outputs": [],
   "source": [
    "import pandas as pd\n",
    "import seaborn as sb\n",
    "import numpy as np\n",
    "import matplotlib.pyplot as plt\n",
    "from tabulate import tabulate\n",
    "\n",
    "import category_encoders as ce\n",
    "\n",
    "from sklearn.metrics import precision_recall_curve\n",
    "from sklearn.metrics import plot_precision_recall_curve\n",
    "from sklearn.metrics import fbeta_score\n",
    "\n",
    "from sklearn.metrics import roc_curve\n",
    "from sklearn.metrics import auc\n",
    "\n",
    "from sklearn.metrics import cohen_kappa_score\n",
    "from sklearn.metrics import matthews_corrcoef\n",
    "from sklearn.metrics import matthews_corrcoef\n",
    "\n",
    "from sklearn.metrics import mean_absolute_error\n",
    "from sklearn.metrics import mean_squared_error\n",
    "from sklearn.metrics import r2_score\n",
    "\n",
    "from sklearn.metrics import average_precision_score\n",
    "from sklearn.metrics import classification_report\n",
    "\n",
    "from sklearn.preprocessing import LabelEncoder\n",
    "from sklearn.preprocessing import OneHotEncoder\n",
    "\n",
    "\n",
    "from sklearn.model_selection import StratifiedKFold\n",
    "from sklearn.model_selection import cross_val_score\n",
    "\n",
    "from sklearn.impute import KNNImputer\n",
    "\n",
    "\n",
    "from sklearn import svm\n",
    "from sklearn.linear_model import LogisticRegression\n",
    "from sklearn.tree import DecisionTreeClassifier\n",
    "\n"
   ]
  },
  {
   "cell_type": "markdown",
   "metadata": {},
   "source": [
    "## Cleaning Data"
   ]
  },
  {
   "cell_type": "markdown",
   "metadata": {},
   "source": [
    "### Accounts details data"
   ]
  },
  {
   "cell_type": "code",
   "execution_count": 2,
   "metadata": {},
   "outputs": [
    {
     "name": "stdout",
     "output_type": "stream",
     "text": [
      "Frequency unique values: ['monthly issuance' 'issuance after transaction' 'weekly issuance']\n"
     ]
    }
   ],
   "source": [
    "df_accounts = pd.read_csv('datasets/account.csv', sep=';')\n",
    "\n",
    "print('Frequency unique values:', df_accounts['frequency'].unique())"
   ]
  },
  {
   "cell_type": "code",
   "execution_count": 3,
   "metadata": {},
   "outputs": [],
   "source": [
    "# Using binary encoding on frequency column \n",
    "\n",
    "binary_encoder = ce.BinaryEncoder(cols=['frequency'],return_df=True)\n",
    "df_accounts = binary_encoder.fit_transform(df_accounts)"
   ]
  },
  {
   "cell_type": "code",
   "execution_count": 4,
   "metadata": {},
   "outputs": [
    {
     "data": {
      "text/html": [
       "<div>\n",
       "<style scoped>\n",
       "    .dataframe tbody tr th:only-of-type {\n",
       "        vertical-align: middle;\n",
       "    }\n",
       "\n",
       "    .dataframe tbody tr th {\n",
       "        vertical-align: top;\n",
       "    }\n",
       "\n",
       "    .dataframe thead th {\n",
       "        text-align: right;\n",
       "    }\n",
       "</style>\n",
       "<table border=\"1\" class=\"dataframe\">\n",
       "  <thead>\n",
       "    <tr style=\"text-align: right;\">\n",
       "      <th></th>\n",
       "      <th>account_id</th>\n",
       "      <th>district_id</th>\n",
       "      <th>frequency_0</th>\n",
       "      <th>frequency_1</th>\n",
       "      <th>account_date</th>\n",
       "    </tr>\n",
       "  </thead>\n",
       "  <tbody>\n",
       "    <tr>\n",
       "      <th>0</th>\n",
       "      <td>576</td>\n",
       "      <td>55</td>\n",
       "      <td>0</td>\n",
       "      <td>1</td>\n",
       "      <td>1993-01-01</td>\n",
       "    </tr>\n",
       "    <tr>\n",
       "      <th>1</th>\n",
       "      <td>3818</td>\n",
       "      <td>74</td>\n",
       "      <td>0</td>\n",
       "      <td>1</td>\n",
       "      <td>1993-01-01</td>\n",
       "    </tr>\n",
       "    <tr>\n",
       "      <th>2</th>\n",
       "      <td>704</td>\n",
       "      <td>55</td>\n",
       "      <td>0</td>\n",
       "      <td>1</td>\n",
       "      <td>1993-01-01</td>\n",
       "    </tr>\n",
       "    <tr>\n",
       "      <th>3</th>\n",
       "      <td>2378</td>\n",
       "      <td>16</td>\n",
       "      <td>0</td>\n",
       "      <td>1</td>\n",
       "      <td>1993-01-01</td>\n",
       "    </tr>\n",
       "    <tr>\n",
       "      <th>4</th>\n",
       "      <td>2632</td>\n",
       "      <td>24</td>\n",
       "      <td>0</td>\n",
       "      <td>1</td>\n",
       "      <td>1993-01-02</td>\n",
       "    </tr>\n",
       "  </tbody>\n",
       "</table>\n",
       "</div>"
      ],
      "text/plain": [
       "   account_id  district_id  frequency_0  frequency_1 account_date\n",
       "0         576           55            0            1   1993-01-01\n",
       "1        3818           74            0            1   1993-01-01\n",
       "2         704           55            0            1   1993-01-01\n",
       "3        2378           16            0            1   1993-01-01\n",
       "4        2632           24            0            1   1993-01-02"
      ]
     },
     "execution_count": 4,
     "metadata": {},
     "output_type": "execute_result"
    }
   ],
   "source": [
    "# Formatting date column\n",
    "\n",
    "df_accounts['date'] = '19' + df_accounts['date'].astype('str')\n",
    "df_accounts['date'] = pd.to_datetime(df_accounts.date, format=\"%Y%m%d\")\n",
    "df_accounts = df_accounts.rename(columns={\"date\": \"account_date\"})\n",
    "\n",
    "df_accounts.to_csv('clean_datasets/account.csv', index=False)\n",
    "df_accounts.head()"
   ]
  },
  {
   "cell_type": "markdown",
   "metadata": {},
   "source": [
    "### Client details\n",
    "\n",
    "**birth_number** \n",
    "- YYMMDD format for Men\n",
    "- YYMM+50DD format for Women"
   ]
  },
  {
   "cell_type": "code",
   "execution_count": 5,
   "metadata": {},
   "outputs": [
    {
     "data": {
      "text/html": [
       "<div>\n",
       "<style scoped>\n",
       "    .dataframe tbody tr th:only-of-type {\n",
       "        vertical-align: middle;\n",
       "    }\n",
       "\n",
       "    .dataframe tbody tr th {\n",
       "        vertical-align: top;\n",
       "    }\n",
       "\n",
       "    .dataframe thead th {\n",
       "        text-align: right;\n",
       "    }\n",
       "</style>\n",
       "<table border=\"1\" class=\"dataframe\">\n",
       "  <thead>\n",
       "    <tr style=\"text-align: right;\">\n",
       "      <th></th>\n",
       "      <th>client_id</th>\n",
       "      <th>birth_number</th>\n",
       "      <th>district_id</th>\n",
       "    </tr>\n",
       "  </thead>\n",
       "  <tbody>\n",
       "    <tr>\n",
       "      <th>0</th>\n",
       "      <td>1</td>\n",
       "      <td>706213</td>\n",
       "      <td>18</td>\n",
       "    </tr>\n",
       "    <tr>\n",
       "      <th>1</th>\n",
       "      <td>2</td>\n",
       "      <td>450204</td>\n",
       "      <td>1</td>\n",
       "    </tr>\n",
       "    <tr>\n",
       "      <th>2</th>\n",
       "      <td>3</td>\n",
       "      <td>406009</td>\n",
       "      <td>1</td>\n",
       "    </tr>\n",
       "    <tr>\n",
       "      <th>3</th>\n",
       "      <td>4</td>\n",
       "      <td>561201</td>\n",
       "      <td>5</td>\n",
       "    </tr>\n",
       "    <tr>\n",
       "      <th>4</th>\n",
       "      <td>5</td>\n",
       "      <td>605703</td>\n",
       "      <td>5</td>\n",
       "    </tr>\n",
       "  </tbody>\n",
       "</table>\n",
       "</div>"
      ],
      "text/plain": [
       "   client_id  birth_number  district_id\n",
       "0          1        706213           18\n",
       "1          2        450204            1\n",
       "2          3        406009            1\n",
       "3          4        561201            5\n",
       "4          5        605703            5"
      ]
     },
     "execution_count": 5,
     "metadata": {},
     "output_type": "execute_result"
    }
   ],
   "source": [
    "df_clients = pd.read_csv('datasets/client.csv', sep=';')\n",
    "df_clients.head()"
   ]
  },
  {
   "cell_type": "markdown",
   "metadata": {},
   "source": [
    "#### Create column for client's sex and reformat birth date \n",
    "\n",
    "**sex**\n",
    "- 0 - Woman\n",
    "- 1 - Man"
   ]
  },
  {
   "cell_type": "code",
   "execution_count": 6,
   "metadata": {},
   "outputs": [
    {
     "data": {
      "text/html": [
       "<div>\n",
       "<style scoped>\n",
       "    .dataframe tbody tr th:only-of-type {\n",
       "        vertical-align: middle;\n",
       "    }\n",
       "\n",
       "    .dataframe tbody tr th {\n",
       "        vertical-align: top;\n",
       "    }\n",
       "\n",
       "    .dataframe thead th {\n",
       "        text-align: right;\n",
       "    }\n",
       "</style>\n",
       "<table border=\"1\" class=\"dataframe\">\n",
       "  <thead>\n",
       "    <tr style=\"text-align: right;\">\n",
       "      <th></th>\n",
       "      <th>client_id</th>\n",
       "      <th>district_id</th>\n",
       "      <th>sex</th>\n",
       "      <th>birth_date</th>\n",
       "    </tr>\n",
       "  </thead>\n",
       "  <tbody>\n",
       "    <tr>\n",
       "      <th>0</th>\n",
       "      <td>1</td>\n",
       "      <td>18</td>\n",
       "      <td>WOMAN</td>\n",
       "      <td>1970-12-13</td>\n",
       "    </tr>\n",
       "    <tr>\n",
       "      <th>1</th>\n",
       "      <td>2</td>\n",
       "      <td>1</td>\n",
       "      <td>MAN</td>\n",
       "      <td>1945-02-04</td>\n",
       "    </tr>\n",
       "    <tr>\n",
       "      <th>2</th>\n",
       "      <td>3</td>\n",
       "      <td>1</td>\n",
       "      <td>WOMAN</td>\n",
       "      <td>1940-10-09</td>\n",
       "    </tr>\n",
       "    <tr>\n",
       "      <th>3</th>\n",
       "      <td>4</td>\n",
       "      <td>5</td>\n",
       "      <td>MAN</td>\n",
       "      <td>1956-12-01</td>\n",
       "    </tr>\n",
       "    <tr>\n",
       "      <th>4</th>\n",
       "      <td>5</td>\n",
       "      <td>5</td>\n",
       "      <td>WOMAN</td>\n",
       "      <td>1960-07-03</td>\n",
       "    </tr>\n",
       "  </tbody>\n",
       "</table>\n",
       "</div>"
      ],
      "text/plain": [
       "   client_id  district_id    sex birth_date\n",
       "0          1           18  WOMAN 1970-12-13\n",
       "1          2            1    MAN 1945-02-04\n",
       "2          3            1  WOMAN 1940-10-09\n",
       "3          4            5    MAN 1956-12-01\n",
       "4          5            5  WOMAN 1960-07-03"
      ]
     },
     "execution_count": 6,
     "metadata": {},
     "output_type": "execute_result"
    }
   ],
   "source": [
    "df_clients['sex'] = df_clients['birth_number'].apply(lambda bn: \"WOMAN\" if ((bn/100)%100) >= 51 else \"MAN\")\n",
    "\n",
    "df_clients['birth_date'] = df_clients['birth_number'].apply(lambda bn: pd.to_datetime(\"19\" + str(bn - 5000), format=\"%Y%m%d\") if ((bn/100)%100) >= 51 else pd.to_datetime(\"19\" + str(bn)))\n",
    "\n",
    "df_clients = df_clients.drop(columns=['birth_number'])\n",
    "df_clients.to_csv('clean_datasets/client.csv', index=False)\n",
    "df_clients.head()"
   ]
  },
  {
   "cell_type": "markdown",
   "metadata": {},
   "source": [
    "### Disposition data"
   ]
  },
  {
   "cell_type": "code",
   "execution_count": 7,
   "metadata": {},
   "outputs": [
    {
     "data": {
      "text/html": [
       "<div>\n",
       "<style scoped>\n",
       "    .dataframe tbody tr th:only-of-type {\n",
       "        vertical-align: middle;\n",
       "    }\n",
       "\n",
       "    .dataframe tbody tr th {\n",
       "        vertical-align: top;\n",
       "    }\n",
       "\n",
       "    .dataframe thead th {\n",
       "        text-align: right;\n",
       "    }\n",
       "</style>\n",
       "<table border=\"1\" class=\"dataframe\">\n",
       "  <thead>\n",
       "    <tr style=\"text-align: right;\">\n",
       "      <th></th>\n",
       "      <th>disp_id</th>\n",
       "      <th>client_id</th>\n",
       "      <th>account_id</th>\n",
       "      <th>type</th>\n",
       "    </tr>\n",
       "  </thead>\n",
       "  <tbody>\n",
       "    <tr>\n",
       "      <th>0</th>\n",
       "      <td>1</td>\n",
       "      <td>1</td>\n",
       "      <td>1</td>\n",
       "      <td>OWNER</td>\n",
       "    </tr>\n",
       "    <tr>\n",
       "      <th>1</th>\n",
       "      <td>2</td>\n",
       "      <td>2</td>\n",
       "      <td>2</td>\n",
       "      <td>OWNER</td>\n",
       "    </tr>\n",
       "    <tr>\n",
       "      <th>2</th>\n",
       "      <td>3</td>\n",
       "      <td>3</td>\n",
       "      <td>2</td>\n",
       "      <td>DISPONENT</td>\n",
       "    </tr>\n",
       "    <tr>\n",
       "      <th>3</th>\n",
       "      <td>4</td>\n",
       "      <td>4</td>\n",
       "      <td>3</td>\n",
       "      <td>OWNER</td>\n",
       "    </tr>\n",
       "    <tr>\n",
       "      <th>4</th>\n",
       "      <td>5</td>\n",
       "      <td>5</td>\n",
       "      <td>3</td>\n",
       "      <td>DISPONENT</td>\n",
       "    </tr>\n",
       "  </tbody>\n",
       "</table>\n",
       "</div>"
      ],
      "text/plain": [
       "   disp_id  client_id  account_id       type\n",
       "0        1          1           1      OWNER\n",
       "1        2          2           2      OWNER\n",
       "2        3          3           2  DISPONENT\n",
       "3        4          4           3      OWNER\n",
       "4        5          5           3  DISPONENT"
      ]
     },
     "execution_count": 7,
     "metadata": {},
     "output_type": "execute_result"
    }
   ],
   "source": [
    "df_disp = pd.read_csv('datasets/disp.csv', sep=';')\n",
    "df_disp.head()"
   ]
  },
  {
   "cell_type": "code",
   "execution_count": 8,
   "metadata": {},
   "outputs": [
    {
     "name": "stdout",
     "output_type": "stream",
     "text": [
      "All unique Disposition types:  ['OWNER' 'DISPONENT']\n"
     ]
    }
   ],
   "source": [
    "print('All unique Disposition types: ', df_disp['type'].unique())"
   ]
  },
  {
   "cell_type": "markdown",
   "metadata": {},
   "source": [
    "#### Label encoding 'type' column\n",
    "\n",
    "- 0 - OWNER\n",
    "- 1 - DISPONENT"
   ]
  },
  {
   "cell_type": "code",
   "execution_count": 9,
   "metadata": {},
   "outputs": [],
   "source": [
    "#df_disp['type'] = df_disp['type'].apply(lambda x: 0 if x == \"OWNER\" else 1)\n",
    "#df_disp.head()\n",
    "\n",
    "df_disp = df_disp.rename(columns={\"type\":\"disp_type\"})\n",
    "df_disp.to_csv('clean_datasets/disp.csv', index=False)"
   ]
  },
  {
   "cell_type": "markdown",
   "metadata": {},
   "source": [
    "### District data"
   ]
  },
  {
   "cell_type": "code",
   "execution_count": 10,
   "metadata": {},
   "outputs": [
    {
     "data": {
      "text/html": [
       "<div>\n",
       "<style scoped>\n",
       "    .dataframe tbody tr th:only-of-type {\n",
       "        vertical-align: middle;\n",
       "    }\n",
       "\n",
       "    .dataframe tbody tr th {\n",
       "        vertical-align: top;\n",
       "    }\n",
       "\n",
       "    .dataframe thead th {\n",
       "        text-align: right;\n",
       "    }\n",
       "</style>\n",
       "<table border=\"1\" class=\"dataframe\">\n",
       "  <thead>\n",
       "    <tr style=\"text-align: right;\">\n",
       "      <th></th>\n",
       "      <th>code</th>\n",
       "      <th>name</th>\n",
       "      <th>region</th>\n",
       "      <th>no. of inhabitants</th>\n",
       "      <th>no. of municipalities with inhabitants &lt; 499</th>\n",
       "      <th>no. of municipalities with inhabitants 500-1999</th>\n",
       "      <th>no. of municipalities with inhabitants 2000-9999</th>\n",
       "      <th>no. of municipalities with inhabitants &gt;10000</th>\n",
       "      <th>no. of cities</th>\n",
       "      <th>ratio of urban inhabitants</th>\n",
       "      <th>average salary</th>\n",
       "      <th>unemploymant rate '95</th>\n",
       "      <th>unemploymant rate '96</th>\n",
       "      <th>no. of enterpreneurs per 1000 inhabitants</th>\n",
       "      <th>no. of commited crimes '95</th>\n",
       "      <th>no. of commited crimes '96</th>\n",
       "    </tr>\n",
       "  </thead>\n",
       "  <tbody>\n",
       "    <tr>\n",
       "      <th>0</th>\n",
       "      <td>1</td>\n",
       "      <td>Hl.m. Praha</td>\n",
       "      <td>Prague</td>\n",
       "      <td>1204953</td>\n",
       "      <td>0</td>\n",
       "      <td>0</td>\n",
       "      <td>0</td>\n",
       "      <td>1</td>\n",
       "      <td>1</td>\n",
       "      <td>100.0</td>\n",
       "      <td>12541</td>\n",
       "      <td>0.29</td>\n",
       "      <td>0.43</td>\n",
       "      <td>167</td>\n",
       "      <td>85677</td>\n",
       "      <td>99107</td>\n",
       "    </tr>\n",
       "    <tr>\n",
       "      <th>1</th>\n",
       "      <td>2</td>\n",
       "      <td>Benesov</td>\n",
       "      <td>central Bohemia</td>\n",
       "      <td>88884</td>\n",
       "      <td>80</td>\n",
       "      <td>26</td>\n",
       "      <td>6</td>\n",
       "      <td>2</td>\n",
       "      <td>5</td>\n",
       "      <td>46.7</td>\n",
       "      <td>8507</td>\n",
       "      <td>1.67</td>\n",
       "      <td>1.85</td>\n",
       "      <td>132</td>\n",
       "      <td>2159</td>\n",
       "      <td>2674</td>\n",
       "    </tr>\n",
       "    <tr>\n",
       "      <th>2</th>\n",
       "      <td>3</td>\n",
       "      <td>Beroun</td>\n",
       "      <td>central Bohemia</td>\n",
       "      <td>75232</td>\n",
       "      <td>55</td>\n",
       "      <td>26</td>\n",
       "      <td>4</td>\n",
       "      <td>1</td>\n",
       "      <td>5</td>\n",
       "      <td>41.7</td>\n",
       "      <td>8980</td>\n",
       "      <td>1.95</td>\n",
       "      <td>2.21</td>\n",
       "      <td>111</td>\n",
       "      <td>2824</td>\n",
       "      <td>2813</td>\n",
       "    </tr>\n",
       "    <tr>\n",
       "      <th>3</th>\n",
       "      <td>4</td>\n",
       "      <td>Kladno</td>\n",
       "      <td>central Bohemia</td>\n",
       "      <td>149893</td>\n",
       "      <td>63</td>\n",
       "      <td>29</td>\n",
       "      <td>6</td>\n",
       "      <td>2</td>\n",
       "      <td>6</td>\n",
       "      <td>67.4</td>\n",
       "      <td>9753</td>\n",
       "      <td>4.64</td>\n",
       "      <td>5.05</td>\n",
       "      <td>109</td>\n",
       "      <td>5244</td>\n",
       "      <td>5892</td>\n",
       "    </tr>\n",
       "    <tr>\n",
       "      <th>4</th>\n",
       "      <td>5</td>\n",
       "      <td>Kolin</td>\n",
       "      <td>central Bohemia</td>\n",
       "      <td>95616</td>\n",
       "      <td>65</td>\n",
       "      <td>30</td>\n",
       "      <td>4</td>\n",
       "      <td>1</td>\n",
       "      <td>6</td>\n",
       "      <td>51.4</td>\n",
       "      <td>9307</td>\n",
       "      <td>3.85</td>\n",
       "      <td>4.43</td>\n",
       "      <td>118</td>\n",
       "      <td>2616</td>\n",
       "      <td>3040</td>\n",
       "    </tr>\n",
       "  </tbody>\n",
       "</table>\n",
       "</div>"
      ],
      "text/plain": [
       "   code         name            region  no. of inhabitants  \\\n",
       "0      1  Hl.m. Praha           Prague             1204953   \n",
       "1      2      Benesov  central Bohemia               88884   \n",
       "2      3       Beroun  central Bohemia               75232   \n",
       "3      4       Kladno  central Bohemia              149893   \n",
       "4      5        Kolin  central Bohemia               95616   \n",
       "\n",
       "   no. of municipalities with inhabitants < 499   \\\n",
       "0                                              0   \n",
       "1                                             80   \n",
       "2                                             55   \n",
       "3                                             63   \n",
       "4                                             65   \n",
       "\n",
       "   no. of municipalities with inhabitants 500-1999  \\\n",
       "0                                                0   \n",
       "1                                               26   \n",
       "2                                               26   \n",
       "3                                               29   \n",
       "4                                               30   \n",
       "\n",
       "   no. of municipalities with inhabitants 2000-9999   \\\n",
       "0                                                  0   \n",
       "1                                                  6   \n",
       "2                                                  4   \n",
       "3                                                  6   \n",
       "4                                                  4   \n",
       "\n",
       "   no. of municipalities with inhabitants >10000   no. of cities   \\\n",
       "0                                               1               1   \n",
       "1                                               2               5   \n",
       "2                                               1               5   \n",
       "3                                               2               6   \n",
       "4                                               1               6   \n",
       "\n",
       "   ratio of urban inhabitants   average salary  unemploymant rate '95   \\\n",
       "0                        100.0            12541                   0.29   \n",
       "1                         46.7             8507                   1.67   \n",
       "2                         41.7             8980                   1.95   \n",
       "3                         67.4             9753                   4.64   \n",
       "4                         51.4             9307                   3.85   \n",
       "\n",
       "   unemploymant rate '96   no. of enterpreneurs per 1000 inhabitants   \\\n",
       "0                    0.43                                         167   \n",
       "1                    1.85                                         132   \n",
       "2                    2.21                                         111   \n",
       "3                    5.05                                         109   \n",
       "4                    4.43                                         118   \n",
       "\n",
       "  no. of commited crimes '95   no. of commited crimes '96   \n",
       "0                       85677                        99107  \n",
       "1                        2159                         2674  \n",
       "2                        2824                         2813  \n",
       "3                        5244                         5892  \n",
       "4                        2616                         3040  "
      ]
     },
     "execution_count": 10,
     "metadata": {},
     "output_type": "execute_result"
    }
   ],
   "source": [
    "df_district = pd.read_csv('datasets/district.csv', sep=';')\n",
    "df_district.head()"
   ]
  },
  {
   "cell_type": "code",
   "execution_count": 11,
   "metadata": {},
   "outputs": [
    {
     "name": "stdout",
     "output_type": "stream",
     "text": [
      "8  different regions:  ['Prague' 'central Bohemia' 'south Bohemia' 'west Bohemia' 'north Bohemia'\n",
      " 'east Bohemia' 'south Moravia' 'north Moravia']\n"
     ]
    }
   ],
   "source": [
    "print(len(df_district['region'].unique()), ' different regions: ', df_district['region'].unique())"
   ]
  },
  {
   "cell_type": "code",
   "execution_count": 12,
   "metadata": {},
   "outputs": [
    {
     "name": "stdout",
     "output_type": "stream",
     "text": [
      "Index(['code ', 'name ', 'region', 'no. of inhabitants',\n",
      "       'no. of municipalities with inhabitants < 499 ',\n",
      "       'no. of municipalities with inhabitants 500-1999',\n",
      "       'no. of municipalities with inhabitants 2000-9999 ',\n",
      "       'no. of municipalities with inhabitants >10000 ', 'no. of cities ',\n",
      "       'ratio of urban inhabitants ', 'average salary ',\n",
      "       'unemploymant rate '95 ', 'unemploymant rate '96 ',\n",
      "       'no. of enterpreneurs per 1000 inhabitants ',\n",
      "       'no. of commited crimes '95 ', 'no. of commited crimes '96 '],\n",
      "      dtype='object')\n"
     ]
    }
   ],
   "source": [
    "df_district['region'] = df_district['region'].astype('category')\n",
    "\n",
    "print(df_district.columns)"
   ]
  },
  {
   "cell_type": "markdown",
   "metadata": {},
   "source": [
    "**Problems** - Some column names have a space at the end of the string. And 'region' column should be encoded."
   ]
  },
  {
   "cell_type": "code",
   "execution_count": 13,
   "metadata": {},
   "outputs": [],
   "source": [
    "# Using binary encoding on region column \n",
    "\n",
    "binary_encoder = ce.BinaryEncoder(cols=['region'],return_df=True)\n",
    "df_district = binary_encoder.fit_transform(df_district)"
   ]
  },
  {
   "cell_type": "code",
   "execution_count": 14,
   "metadata": {},
   "outputs": [
    {
     "data": {
      "text/html": [
       "<div>\n",
       "<style scoped>\n",
       "    .dataframe tbody tr th:only-of-type {\n",
       "        vertical-align: middle;\n",
       "    }\n",
       "\n",
       "    .dataframe tbody tr th {\n",
       "        vertical-align: top;\n",
       "    }\n",
       "\n",
       "    .dataframe thead th {\n",
       "        text-align: right;\n",
       "    }\n",
       "</style>\n",
       "<table border=\"1\" class=\"dataframe\">\n",
       "  <thead>\n",
       "    <tr style=\"text-align: right;\">\n",
       "      <th></th>\n",
       "      <th>code</th>\n",
       "      <th>region_0</th>\n",
       "      <th>region_1</th>\n",
       "      <th>region_2</th>\n",
       "      <th>region_3</th>\n",
       "      <th>no. of inhabitants</th>\n",
       "      <th>no. of municipalities with inhabitants &lt; 499</th>\n",
       "      <th>no. of municipalities with inhabitants 500-1999</th>\n",
       "      <th>no. of municipalities with inhabitants 2000-9999</th>\n",
       "      <th>no. of municipalities with inhabitants &gt;10000</th>\n",
       "      <th>no. of cities</th>\n",
       "      <th>ratio of urban inhabitants</th>\n",
       "      <th>average salary</th>\n",
       "      <th>unemploymant rate '95</th>\n",
       "      <th>unemploymant rate '96</th>\n",
       "      <th>no. of enterpreneurs per 1000 inhabitants</th>\n",
       "      <th>no. of commited crimes '95</th>\n",
       "      <th>no. of commited crimes '96</th>\n",
       "    </tr>\n",
       "  </thead>\n",
       "  <tbody>\n",
       "    <tr>\n",
       "      <th>0</th>\n",
       "      <td>1</td>\n",
       "      <td>0</td>\n",
       "      <td>0</td>\n",
       "      <td>0</td>\n",
       "      <td>1</td>\n",
       "      <td>1204953</td>\n",
       "      <td>0</td>\n",
       "      <td>0</td>\n",
       "      <td>0</td>\n",
       "      <td>1</td>\n",
       "      <td>1</td>\n",
       "      <td>100.0</td>\n",
       "      <td>12541</td>\n",
       "      <td>0.29</td>\n",
       "      <td>0.43</td>\n",
       "      <td>167</td>\n",
       "      <td>85677</td>\n",
       "      <td>99107</td>\n",
       "    </tr>\n",
       "    <tr>\n",
       "      <th>1</th>\n",
       "      <td>2</td>\n",
       "      <td>0</td>\n",
       "      <td>0</td>\n",
       "      <td>1</td>\n",
       "      <td>0</td>\n",
       "      <td>88884</td>\n",
       "      <td>80</td>\n",
       "      <td>26</td>\n",
       "      <td>6</td>\n",
       "      <td>2</td>\n",
       "      <td>5</td>\n",
       "      <td>46.7</td>\n",
       "      <td>8507</td>\n",
       "      <td>1.67</td>\n",
       "      <td>1.85</td>\n",
       "      <td>132</td>\n",
       "      <td>2159</td>\n",
       "      <td>2674</td>\n",
       "    </tr>\n",
       "    <tr>\n",
       "      <th>2</th>\n",
       "      <td>3</td>\n",
       "      <td>0</td>\n",
       "      <td>0</td>\n",
       "      <td>1</td>\n",
       "      <td>0</td>\n",
       "      <td>75232</td>\n",
       "      <td>55</td>\n",
       "      <td>26</td>\n",
       "      <td>4</td>\n",
       "      <td>1</td>\n",
       "      <td>5</td>\n",
       "      <td>41.7</td>\n",
       "      <td>8980</td>\n",
       "      <td>1.95</td>\n",
       "      <td>2.21</td>\n",
       "      <td>111</td>\n",
       "      <td>2824</td>\n",
       "      <td>2813</td>\n",
       "    </tr>\n",
       "    <tr>\n",
       "      <th>3</th>\n",
       "      <td>4</td>\n",
       "      <td>0</td>\n",
       "      <td>0</td>\n",
       "      <td>1</td>\n",
       "      <td>0</td>\n",
       "      <td>149893</td>\n",
       "      <td>63</td>\n",
       "      <td>29</td>\n",
       "      <td>6</td>\n",
       "      <td>2</td>\n",
       "      <td>6</td>\n",
       "      <td>67.4</td>\n",
       "      <td>9753</td>\n",
       "      <td>4.64</td>\n",
       "      <td>5.05</td>\n",
       "      <td>109</td>\n",
       "      <td>5244</td>\n",
       "      <td>5892</td>\n",
       "    </tr>\n",
       "    <tr>\n",
       "      <th>4</th>\n",
       "      <td>5</td>\n",
       "      <td>0</td>\n",
       "      <td>0</td>\n",
       "      <td>1</td>\n",
       "      <td>0</td>\n",
       "      <td>95616</td>\n",
       "      <td>65</td>\n",
       "      <td>30</td>\n",
       "      <td>4</td>\n",
       "      <td>1</td>\n",
       "      <td>6</td>\n",
       "      <td>51.4</td>\n",
       "      <td>9307</td>\n",
       "      <td>3.85</td>\n",
       "      <td>4.43</td>\n",
       "      <td>118</td>\n",
       "      <td>2616</td>\n",
       "      <td>3040</td>\n",
       "    </tr>\n",
       "  </tbody>\n",
       "</table>\n",
       "</div>"
      ],
      "text/plain": [
       "   code  region_0  region_1  region_2  region_3  no. of inhabitants  \\\n",
       "0     1         0         0         0         1             1204953   \n",
       "1     2         0         0         1         0               88884   \n",
       "2     3         0         0         1         0               75232   \n",
       "3     4         0         0         1         0              149893   \n",
       "4     5         0         0         1         0               95616   \n",
       "\n",
       "   no. of municipalities with inhabitants < 499  \\\n",
       "0                                             0   \n",
       "1                                            80   \n",
       "2                                            55   \n",
       "3                                            63   \n",
       "4                                            65   \n",
       "\n",
       "   no. of municipalities with inhabitants 500-1999  \\\n",
       "0                                                0   \n",
       "1                                               26   \n",
       "2                                               26   \n",
       "3                                               29   \n",
       "4                                               30   \n",
       "\n",
       "   no. of municipalities with inhabitants 2000-9999  \\\n",
       "0                                                 0   \n",
       "1                                                 6   \n",
       "2                                                 4   \n",
       "3                                                 6   \n",
       "4                                                 4   \n",
       "\n",
       "   no. of municipalities with inhabitants >10000  no. of cities  \\\n",
       "0                                              1              1   \n",
       "1                                              2              5   \n",
       "2                                              1              5   \n",
       "3                                              2              6   \n",
       "4                                              1              6   \n",
       "\n",
       "   ratio of urban inhabitants  average salary unemploymant rate '95  \\\n",
       "0                       100.0           12541                  0.29   \n",
       "1                        46.7            8507                  1.67   \n",
       "2                        41.7            8980                  1.95   \n",
       "3                        67.4            9753                  4.64   \n",
       "4                        51.4            9307                  3.85   \n",
       "\n",
       "   unemploymant rate '96  no. of enterpreneurs per 1000 inhabitants  \\\n",
       "0                   0.43                                        167   \n",
       "1                   1.85                                        132   \n",
       "2                   2.21                                        111   \n",
       "3                   5.05                                        109   \n",
       "4                   4.43                                        118   \n",
       "\n",
       "  no. of commited crimes '95  no. of commited crimes '96  \n",
       "0                      85677                       99107  \n",
       "1                       2159                        2674  \n",
       "2                       2824                        2813  \n",
       "3                       5244                        5892  \n",
       "4                       2616                        3040  "
      ]
     },
     "execution_count": 14,
     "metadata": {},
     "output_type": "execute_result"
    }
   ],
   "source": [
    "for column in df_district.columns:\n",
    "    df_district = df_district.rename(columns={column : column.strip()})\n",
    "\n",
    "\n",
    "df_district = df_district.drop(columns=['name'])\n",
    "df_district.head()"
   ]
  },
  {
   "cell_type": "markdown",
   "metadata": {},
   "source": [
    "#### Looking for Missing Values"
   ]
  },
  {
   "cell_type": "code",
   "execution_count": 15,
   "metadata": {},
   "outputs": [
    {
     "name": "stdout",
     "output_type": "stream",
     "text": [
      "No missing values in the data frame\n"
     ]
    }
   ],
   "source": [
    "df_district.isnull().values.any()\n",
    "\n",
    "missing = False\n",
    "\n",
    "for column in df_district.drop(columns=['region_0', 'region_1', 'region_2', 'region_3']).columns:\n",
    "    if df_district[column].isnull().values.any():\n",
    "        missing = True\n",
    "        break\n",
    "        \n",
    "if not missing:\n",
    "    print(\"No missing values in the data frame\")\n",
    "else:\n",
    "    print(\"Missing values present in data frame\")"
   ]
  },
  {
   "cell_type": "markdown",
   "metadata": {},
   "source": [
    "Now that we have verified that there are no missing values in the district dataset, we must check that every column except `region` have **numeric** values"
   ]
  },
  {
   "cell_type": "code",
   "execution_count": 16,
   "metadata": {},
   "outputs": [
    {
     "name": "stdout",
     "output_type": "stream",
     "text": [
      "+----+--------------------------------------------------+------------------+\n",
      "|    | Column                                           | Is All Numeric   |\n",
      "|----+--------------------------------------------------+------------------|\n",
      "|  0 | code                                             | True             |\n",
      "|  1 | no. of inhabitants                               | True             |\n",
      "|  2 | no. of municipalities with inhabitants < 499     | True             |\n",
      "|  3 | no. of municipalities with inhabitants 500-1999  | True             |\n",
      "|  4 | no. of municipalities with inhabitants 2000-9999 | True             |\n",
      "|  5 | no. of municipalities with inhabitants >10000    | True             |\n",
      "|  6 | no. of cities                                    | True             |\n",
      "|  7 | ratio of urban inhabitants                       | True             |\n",
      "|  8 | average salary                                   | True             |\n",
      "|  9 | unemploymant rate '95                            | False            |\n",
      "| 10 | unemploymant rate '96                            | True             |\n",
      "| 11 | no. of enterpreneurs per 1000 inhabitants        | True             |\n",
      "| 12 | no. of commited crimes '95                       | False            |\n",
      "| 13 | no. of commited crimes '96                       | True             |\n",
      "+----+--------------------------------------------------+------------------+\n"
     ]
    }
   ],
   "source": [
    "columns = []\n",
    "is_numeric = []\n",
    "\n",
    "for column in df_district.drop(columns=['region_0', 'region_1', 'region_2', 'region_3']).columns:\n",
    "    columns.append(column)\n",
    "    is_numeric.append(np.issubdtype(df_district[column].dtype, np.number))\n",
    "\n",
    "\n",
    "df = pd.DataFrame({'Column' : columns,\n",
    "                   'Is All Numeric' : is_numeric})\n",
    "print(tabulate(df, headers='keys', tablefmt='psql'))"
   ]
  },
  {
   "cell_type": "markdown",
   "metadata": {},
   "source": [
    "It seems that two columns that should be numeric **have some not numeric values**. It could be that some values are badly formatted numbers or invalid values that make this entry count as a missing value."
   ]
  },
  {
   "cell_type": "code",
   "execution_count": 17,
   "metadata": {},
   "outputs": [
    {
     "name": "stdout",
     "output_type": "stream",
     "text": [
      "Not numeric values in 'unemploymant rate '95':  {'?'}\n",
      "Not numeric values in 'no. of commited crimes '95':  {'?'}\n"
     ]
    }
   ],
   "source": [
    "df_not_numeric = pd.DataFrame({\"unemploymant rate '95\":df_district[\"unemploymant rate '95\"].values, \"no. of commited crimes '95\": df_district[\"no. of commited crimes '95\"].values})\n",
    "\n",
    "df_not_numeric[\"not_numeric1\"] = df_not_numeric[\"unemploymant rate '95\"].apply(lambda x: x if not x.replace('.', '', 1).isdigit() else \"\")\n",
    "df_not_numeric[\"not_numeric2\"] = df_not_numeric[\"no. of commited crimes '95\"].apply(lambda x: x if not x.replace('.', '', 1).isdigit() else \"\")\n",
    "\n",
    "print(\"Not numeric values in 'unemploymant rate '95': \", set(df_not_numeric[\"not_numeric1\"].unique()) - set(['']))\n",
    "print(\"Not numeric values in 'no. of commited crimes '95': \",set(df_not_numeric[\"not_numeric2\"].unique()) - set(['']))"
   ]
  },
  {
   "cell_type": "markdown",
   "metadata": {},
   "source": [
    "As there are values in these columns marked as '?', we assume them as **missing values** and should remove them, for a correct missing values handling later on."
   ]
  },
  {
   "cell_type": "code",
   "execution_count": 18,
   "metadata": {},
   "outputs": [
    {
     "name": "stdout",
     "output_type": "stream",
     "text": [
      "Missing values in 'unemploymant rate '95': 1\n",
      "Missing values in 'no. of commited crimes '95':  1\n"
     ]
    }
   ],
   "source": [
    "df_district[\"unemploymant rate '95\"] = df_district[\"unemploymant rate '95\"].apply(lambda x: x if not x == '?' else None)\n",
    "df_district[\"no. of commited crimes '95\"] = df_district[\"no. of commited crimes '95\"].apply(lambda x: x if not x == '?' else None)\n",
    "\n",
    "print(\"Missing values in 'unemploymant rate '95':\", df_district[\"unemploymant rate '95\"].isnull().values.sum())\n",
    "print(\"Missing values in 'no. of commited crimes '95': \", df_district[\"no. of commited crimes '95\"].isnull().values.sum())"
   ]
  },
  {
   "cell_type": "markdown",
   "metadata": {},
   "source": [
    "#### Handling Missing Values\n",
    "\n",
    "In this data table there are a couple of values missing from two columns. As most classification algorithms do not work with missing values, and dropping the rows is not a viable option since we need the data from all districts to join correctly with all the other data, **data imputation** should be used.\n",
    "\n",
    "In this case, a **K-Nearest-Neighboor** Imputer will be used."
   ]
  },
  {
   "cell_type": "code",
   "execution_count": 19,
   "metadata": {},
   "outputs": [],
   "source": [
    "imputer = KNNImputer(n_neighbors=5, weights=\"uniform\")\n",
    "\n",
    "df_district = pd.DataFrame(imputer.fit_transform(df_district), columns = df_district.columns)\n",
    "\n",
    "for column in (set(df_district.columns) - set((\"ratio of urban inhabitants\", \"unemploymant rate '95\", \"unemploymant rate '96\"))):\n",
    "    df_district[column] = df_district[column].astype('int')"
   ]
  },
  {
   "cell_type": "markdown",
   "metadata": {},
   "source": [
    "#### Merging related columns"
   ]
  },
  {
   "cell_type": "code",
   "execution_count": 20,
   "metadata": {},
   "outputs": [
    {
     "data": {
      "image/png": "[encoded data removed]",
      "text/plain": [
       "<Figure size 432x288 with 2 Axes>"
      ]
     },
     "metadata": {
      "needs_background": "light"
     },
     "output_type": "display_data"
    }
   ],
   "source": [
    "sb.heatmap(df_district.corr(), annot=True)\n",
    "plt.show()"
   ]
  },
  {
   "cell_type": "code",
   "execution_count": 21,
   "metadata": {},
   "outputs": [],
   "source": [
    "df_district.drop(columns=[\"no. of commited crimes '95\", \"no. of commited crimes '96\",\"unemploymant rate '95\"],inplace=True)\n",
    "\n",
    "df_district.rename(columns={\"unemploymant rate '96\": \"unemploymant_rate\"}, inplace=True)"
   ]
  },
  {
   "cell_type": "code",
   "execution_count": 22,
   "metadata": {},
   "outputs": [],
   "source": [
    "# df_district[\"unemploymant rate 95-96\"] = (df_district[\"unemploymant rate '95\"] + df_district[\"unemploymant rate '96\"])/2\n",
    "# df_district = df_district.drop(columns=[\"unemploymant rate '95\", \"unemploymant rate '96\"])"
   ]
  },
  {
   "cell_type": "code",
   "execution_count": 23,
   "metadata": {},
   "outputs": [],
   "source": [
    "# df_district[\"commited crimes 95-96\"] = (df_district[\"no. of commited crimes '95\"] + df_district[\"no. of commited crimes '96\"])\n",
    "# df_district = df_district.drop(columns=[\"no. of commited crimes '95\", \"no. of commited crimes '96\"])"
   ]
  },
  {
   "cell_type": "code",
   "execution_count": 24,
   "metadata": {},
   "outputs": [
    {
     "data": {
      "text/html": [
       "<div>\n",
       "<style scoped>\n",
       "    .dataframe tbody tr th:only-of-type {\n",
       "        vertical-align: middle;\n",
       "    }\n",
       "\n",
       "    .dataframe tbody tr th {\n",
       "        vertical-align: top;\n",
       "    }\n",
       "\n",
       "    .dataframe thead th {\n",
       "        text-align: right;\n",
       "    }\n",
       "</style>\n",
       "<table border=\"1\" class=\"dataframe\">\n",
       "  <thead>\n",
       "    <tr style=\"text-align: right;\">\n",
       "      <th></th>\n",
       "      <th>code</th>\n",
       "      <th>region_0</th>\n",
       "      <th>region_1</th>\n",
       "      <th>region_2</th>\n",
       "      <th>region_3</th>\n",
       "      <th>no. of inhabitants</th>\n",
       "      <th>no. of municipalities with inhabitants &lt; 499</th>\n",
       "      <th>no. of municipalities with inhabitants 500-1999</th>\n",
       "      <th>no. of municipalities with inhabitants 2000-9999</th>\n",
       "      <th>no. of municipalities with inhabitants &gt;10000</th>\n",
       "      <th>no. of cities</th>\n",
       "      <th>ratio of urban inhabitants</th>\n",
       "      <th>average salary</th>\n",
       "      <th>unemploymant_rate</th>\n",
       "      <th>no. of enterpreneurs per 1000 inhabitants</th>\n",
       "    </tr>\n",
       "  </thead>\n",
       "  <tbody>\n",
       "    <tr>\n",
       "      <th>0</th>\n",
       "      <td>1</td>\n",
       "      <td>0</td>\n",
       "      <td>0</td>\n",
       "      <td>0</td>\n",
       "      <td>1</td>\n",
       "      <td>1204953</td>\n",
       "      <td>0</td>\n",
       "      <td>0</td>\n",
       "      <td>0</td>\n",
       "      <td>1</td>\n",
       "      <td>1</td>\n",
       "      <td>100.0</td>\n",
       "      <td>12541</td>\n",
       "      <td>0.43</td>\n",
       "      <td>167</td>\n",
       "    </tr>\n",
       "    <tr>\n",
       "      <th>1</th>\n",
       "      <td>2</td>\n",
       "      <td>0</td>\n",
       "      <td>0</td>\n",
       "      <td>1</td>\n",
       "      <td>0</td>\n",
       "      <td>88884</td>\n",
       "      <td>80</td>\n",
       "      <td>26</td>\n",
       "      <td>6</td>\n",
       "      <td>2</td>\n",
       "      <td>5</td>\n",
       "      <td>46.7</td>\n",
       "      <td>8507</td>\n",
       "      <td>1.85</td>\n",
       "      <td>132</td>\n",
       "    </tr>\n",
       "    <tr>\n",
       "      <th>2</th>\n",
       "      <td>3</td>\n",
       "      <td>0</td>\n",
       "      <td>0</td>\n",
       "      <td>1</td>\n",
       "      <td>0</td>\n",
       "      <td>75232</td>\n",
       "      <td>55</td>\n",
       "      <td>26</td>\n",
       "      <td>4</td>\n",
       "      <td>1</td>\n",
       "      <td>5</td>\n",
       "      <td>41.7</td>\n",
       "      <td>8980</td>\n",
       "      <td>2.21</td>\n",
       "      <td>111</td>\n",
       "    </tr>\n",
       "    <tr>\n",
       "      <th>3</th>\n",
       "      <td>4</td>\n",
       "      <td>0</td>\n",
       "      <td>0</td>\n",
       "      <td>1</td>\n",
       "      <td>0</td>\n",
       "      <td>149893</td>\n",
       "      <td>63</td>\n",
       "      <td>29</td>\n",
       "      <td>6</td>\n",
       "      <td>2</td>\n",
       "      <td>6</td>\n",
       "      <td>67.4</td>\n",
       "      <td>9753</td>\n",
       "      <td>5.05</td>\n",
       "      <td>109</td>\n",
       "    </tr>\n",
       "    <tr>\n",
       "      <th>4</th>\n",
       "      <td>5</td>\n",
       "      <td>0</td>\n",
       "      <td>0</td>\n",
       "      <td>1</td>\n",
       "      <td>0</td>\n",
       "      <td>95616</td>\n",
       "      <td>65</td>\n",
       "      <td>30</td>\n",
       "      <td>4</td>\n",
       "      <td>1</td>\n",
       "      <td>6</td>\n",
       "      <td>51.4</td>\n",
       "      <td>9307</td>\n",
       "      <td>4.43</td>\n",
       "      <td>118</td>\n",
       "    </tr>\n",
       "  </tbody>\n",
       "</table>\n",
       "</div>"
      ],
      "text/plain": [
       "   code  region_0  region_1  region_2  region_3  no. of inhabitants  \\\n",
       "0     1         0         0         0         1             1204953   \n",
       "1     2         0         0         1         0               88884   \n",
       "2     3         0         0         1         0               75232   \n",
       "3     4         0         0         1         0              149893   \n",
       "4     5         0         0         1         0               95616   \n",
       "\n",
       "   no. of municipalities with inhabitants < 499  \\\n",
       "0                                             0   \n",
       "1                                            80   \n",
       "2                                            55   \n",
       "3                                            63   \n",
       "4                                            65   \n",
       "\n",
       "   no. of municipalities with inhabitants 500-1999  \\\n",
       "0                                                0   \n",
       "1                                               26   \n",
       "2                                               26   \n",
       "3                                               29   \n",
       "4                                               30   \n",
       "\n",
       "   no. of municipalities with inhabitants 2000-9999  \\\n",
       "0                                                 0   \n",
       "1                                                 6   \n",
       "2                                                 4   \n",
       "3                                                 6   \n",
       "4                                                 4   \n",
       "\n",
       "   no. of municipalities with inhabitants >10000  no. of cities  \\\n",
       "0                                              1              1   \n",
       "1                                              2              5   \n",
       "2                                              1              5   \n",
       "3                                              2              6   \n",
       "4                                              1              6   \n",
       "\n",
       "   ratio of urban inhabitants  average salary  unemploymant_rate  \\\n",
       "0                       100.0           12541               0.43   \n",
       "1                        46.7            8507               1.85   \n",
       "2                        41.7            8980               2.21   \n",
       "3                        67.4            9753               5.05   \n",
       "4                        51.4            9307               4.43   \n",
       "\n",
       "   no. of enterpreneurs per 1000 inhabitants  \n",
       "0                                        167  \n",
       "1                                        132  \n",
       "2                                        111  \n",
       "3                                        109  \n",
       "4                                        118  "
      ]
     },
     "execution_count": 24,
     "metadata": {},
     "output_type": "execute_result"
    }
   ],
   "source": [
    "df_district.head()"
   ]
  },
  {
   "cell_type": "code",
   "execution_count": 25,
   "metadata": {},
   "outputs": [],
   "source": [
    "df_district = df_district.rename(columns={\"code\":\"district_id\"})\n",
    "df_district.to_csv('clean_datasets/district.csv', index=False)"
   ]
  },
  {
   "cell_type": "markdown",
   "metadata": {},
   "source": [
    "### Loan Data"
   ]
  },
  {
   "cell_type": "code",
   "execution_count": 26,
   "metadata": {},
   "outputs": [],
   "source": [
    "df_loan_train = pd.read_csv('datasets/loan_train.csv', sep=\";\")\n",
    "df_loan_test = pd.read_csv('datasets/loan_test.csv', sep=\";\")"
   ]
  },
  {
   "cell_type": "code",
   "execution_count": 27,
   "metadata": {},
   "outputs": [
    {
     "data": {
      "text/html": [
       "<div>\n",
       "<style scoped>\n",
       "    .dataframe tbody tr th:only-of-type {\n",
       "        vertical-align: middle;\n",
       "    }\n",
       "\n",
       "    .dataframe tbody tr th {\n",
       "        vertical-align: top;\n",
       "    }\n",
       "\n",
       "    .dataframe thead th {\n",
       "        text-align: right;\n",
       "    }\n",
       "</style>\n",
       "<table border=\"1\" class=\"dataframe\">\n",
       "  <thead>\n",
       "    <tr style=\"text-align: right;\">\n",
       "      <th></th>\n",
       "      <th>loan_id</th>\n",
       "      <th>account_id</th>\n",
       "      <th>date</th>\n",
       "      <th>amount</th>\n",
       "      <th>duration</th>\n",
       "      <th>payments</th>\n",
       "    </tr>\n",
       "  </thead>\n",
       "  <tbody>\n",
       "    <tr>\n",
       "      <th>0</th>\n",
       "      <td>5314</td>\n",
       "      <td>1787</td>\n",
       "      <td>930705</td>\n",
       "      <td>96396</td>\n",
       "      <td>12</td>\n",
       "      <td>8033</td>\n",
       "    </tr>\n",
       "    <tr>\n",
       "      <th>1</th>\n",
       "      <td>5316</td>\n",
       "      <td>1801</td>\n",
       "      <td>930711</td>\n",
       "      <td>165960</td>\n",
       "      <td>36</td>\n",
       "      <td>4610</td>\n",
       "    </tr>\n",
       "    <tr>\n",
       "      <th>2</th>\n",
       "      <td>6863</td>\n",
       "      <td>9188</td>\n",
       "      <td>930728</td>\n",
       "      <td>127080</td>\n",
       "      <td>60</td>\n",
       "      <td>2118</td>\n",
       "    </tr>\n",
       "    <tr>\n",
       "      <th>3</th>\n",
       "      <td>5325</td>\n",
       "      <td>1843</td>\n",
       "      <td>930803</td>\n",
       "      <td>105804</td>\n",
       "      <td>36</td>\n",
       "      <td>2939</td>\n",
       "    </tr>\n",
       "    <tr>\n",
       "      <th>4</th>\n",
       "      <td>7240</td>\n",
       "      <td>11013</td>\n",
       "      <td>930906</td>\n",
       "      <td>274740</td>\n",
       "      <td>60</td>\n",
       "      <td>4579</td>\n",
       "    </tr>\n",
       "  </tbody>\n",
       "</table>\n",
       "</div>"
      ],
      "text/plain": [
       "   loan_id  account_id    date  amount  duration  payments\n",
       "0     5314        1787  930705   96396        12      8033\n",
       "1     5316        1801  930711  165960        36      4610\n",
       "2     6863        9188  930728  127080        60      2118\n",
       "3     5325        1843  930803  105804        36      2939\n",
       "4     7240       11013  930906  274740        60      4579"
      ]
     },
     "execution_count": 27,
     "metadata": {},
     "output_type": "execute_result"
    }
   ],
   "source": [
    "df_loans = pd.concat([df_loan_train.drop(columns=[\"status\"]), df_loan_test.drop(columns=[\"status\"])])\n",
    "\n",
    "df_loans.head()"
   ]
  },
  {
   "cell_type": "markdown",
   "metadata": {},
   "source": [
    "#### Loan dates from number to datetime format"
   ]
  },
  {
   "cell_type": "code",
   "execution_count": 28,
   "metadata": {},
   "outputs": [
    {
     "data": {
      "text/html": [
       "<div>\n",
       "<style scoped>\n",
       "    .dataframe tbody tr th:only-of-type {\n",
       "        vertical-align: middle;\n",
       "    }\n",
       "\n",
       "    .dataframe tbody tr th {\n",
       "        vertical-align: top;\n",
       "    }\n",
       "\n",
       "    .dataframe thead th {\n",
       "        text-align: right;\n",
       "    }\n",
       "</style>\n",
       "<table border=\"1\" class=\"dataframe\">\n",
       "  <thead>\n",
       "    <tr style=\"text-align: right;\">\n",
       "      <th></th>\n",
       "      <th>loan_id</th>\n",
       "      <th>account_id</th>\n",
       "      <th>loan_date</th>\n",
       "      <th>amount</th>\n",
       "      <th>duration</th>\n",
       "      <th>payments</th>\n",
       "    </tr>\n",
       "  </thead>\n",
       "  <tbody>\n",
       "    <tr>\n",
       "      <th>0</th>\n",
       "      <td>5314</td>\n",
       "      <td>1787</td>\n",
       "      <td>1993-07-05</td>\n",
       "      <td>96396</td>\n",
       "      <td>12</td>\n",
       "      <td>8033</td>\n",
       "    </tr>\n",
       "    <tr>\n",
       "      <th>1</th>\n",
       "      <td>5316</td>\n",
       "      <td>1801</td>\n",
       "      <td>1993-07-11</td>\n",
       "      <td>165960</td>\n",
       "      <td>36</td>\n",
       "      <td>4610</td>\n",
       "    </tr>\n",
       "    <tr>\n",
       "      <th>2</th>\n",
       "      <td>6863</td>\n",
       "      <td>9188</td>\n",
       "      <td>1993-07-28</td>\n",
       "      <td>127080</td>\n",
       "      <td>60</td>\n",
       "      <td>2118</td>\n",
       "    </tr>\n",
       "    <tr>\n",
       "      <th>3</th>\n",
       "      <td>5325</td>\n",
       "      <td>1843</td>\n",
       "      <td>1993-08-03</td>\n",
       "      <td>105804</td>\n",
       "      <td>36</td>\n",
       "      <td>2939</td>\n",
       "    </tr>\n",
       "    <tr>\n",
       "      <th>4</th>\n",
       "      <td>7240</td>\n",
       "      <td>11013</td>\n",
       "      <td>1993-09-06</td>\n",
       "      <td>274740</td>\n",
       "      <td>60</td>\n",
       "      <td>4579</td>\n",
       "    </tr>\n",
       "  </tbody>\n",
       "</table>\n",
       "</div>"
      ],
      "text/plain": [
       "   loan_id  account_id  loan_date  amount  duration  payments\n",
       "0     5314        1787 1993-07-05   96396        12      8033\n",
       "1     5316        1801 1993-07-11  165960        36      4610\n",
       "2     6863        9188 1993-07-28  127080        60      2118\n",
       "3     5325        1843 1993-08-03  105804        36      2939\n",
       "4     7240       11013 1993-09-06  274740        60      4579"
      ]
     },
     "execution_count": 28,
     "metadata": {},
     "output_type": "execute_result"
    }
   ],
   "source": [
    "df_loans.date = df_loans.date.apply(lambda x: pd.to_datetime(\"19\" + str(x), format=\"%Y%m%d\"))\n",
    "df_loans = df_loans.rename(columns={\"date\": \"loan_date\"})\n",
    "df_loans.loan_date = df_loans.loan_date.astype('datetime64[ns]')\n",
    "df_loans.head()"
   ]
  },
  {
   "cell_type": "code",
   "execution_count": 29,
   "metadata": {},
   "outputs": [
    {
     "name": "stderr",
     "output_type": "stream",
     "text": [
      "<ipython-input-29-486aee7969e7>:2: SettingWithCopyWarning: \n",
      "A value is trying to be set on a copy of a slice from a DataFrame.\n",
      "Try using .loc[row_indexer,col_indexer] = value instead\n",
      "\n",
      "See the caveats in the documentation: https://pandas.pydata.org/pandas-docs/stable/user_guide/indexing.html#returning-a-view-versus-a-copy\n",
      "  df_loans_train_clean['status'] = df_loan_train['status']\n",
      "<ipython-input-29-486aee7969e7>:3: SettingWithCopyWarning: \n",
      "A value is trying to be set on a copy of a slice from a DataFrame.\n",
      "Try using .loc[row_indexer,col_indexer] = value instead\n",
      "\n",
      "See the caveats in the documentation: https://pandas.pydata.org/pandas-docs/stable/user_guide/indexing.html#returning-a-view-versus-a-copy\n",
      "  df_loans_train_clean['status'] = df_loans_train_clean['status'].apply(lambda x: 0 if x == 1 else 1)\n",
      "<ipython-input-29-486aee7969e7>:7: SettingWithCopyWarning: \n",
      "A value is trying to be set on a copy of a slice from a DataFrame.\n",
      "Try using .loc[row_indexer,col_indexer] = value instead\n",
      "\n",
      "See the caveats in the documentation: https://pandas.pydata.org/pandas-docs/stable/user_guide/indexing.html#returning-a-view-versus-a-copy\n",
      "  df_loans_test_clean['status'] = df_loan_test['status']\n",
      "<ipython-input-29-486aee7969e7>:8: SettingWithCopyWarning: \n",
      "A value is trying to be set on a copy of a slice from a DataFrame.\n",
      "Try using .loc[row_indexer,col_indexer] = value instead\n",
      "\n",
      "See the caveats in the documentation: https://pandas.pydata.org/pandas-docs/stable/user_guide/indexing.html#returning-a-view-versus-a-copy\n",
      "  df_loans_test_clean['status'] = df_loans_test_clean['status'].apply(lambda x: 0 if x == 1 else 1)\n"
     ]
    }
   ],
   "source": [
    "df_loans_train_clean = df_loans[df_loans['loan_id'].isin(df_loan_train['loan_id'].values)]\n",
    "df_loans_train_clean['status'] = df_loan_train['status']\n",
    "df_loans_train_clean['status'] = df_loans_train_clean['status'].apply(lambda x: 0 if x == 1 else 1)\n",
    "df_loans_train_clean.to_csv('clean_datasets/loans_train.csv', index=False)\n",
    "\n",
    "df_loans_test_clean = df_loans[df_loans['loan_id'].isin(df_loan_test['loan_id'].values)]\n",
    "df_loans_test_clean['status'] = df_loan_test['status']\n",
    "df_loans_test_clean['status'] = df_loans_test_clean['status'].apply(lambda x: 0 if x == 1 else 1)\n",
    "df_loans_test_clean.to_csv('clean_datasets/loans_test.csv', index=False)"
   ]
  },
  {
   "cell_type": "markdown",
   "metadata": {},
   "source": [
    "### Cards Data"
   ]
  },
  {
   "cell_type": "code",
   "execution_count": 30,
   "metadata": {},
   "outputs": [],
   "source": [
    "df_card_train = pd.read_csv('datasets/card_train.csv', sep=\";\")\n",
    "df_card_test = pd.read_csv('datasets/card_test.csv', sep=\";\")"
   ]
  },
  {
   "cell_type": "code",
   "execution_count": 31,
   "metadata": {},
   "outputs": [
    {
     "data": {
      "text/html": [
       "<div>\n",
       "<style scoped>\n",
       "    .dataframe tbody tr th:only-of-type {\n",
       "        vertical-align: middle;\n",
       "    }\n",
       "\n",
       "    .dataframe tbody tr th {\n",
       "        vertical-align: top;\n",
       "    }\n",
       "\n",
       "    .dataframe thead th {\n",
       "        text-align: right;\n",
       "    }\n",
       "</style>\n",
       "<table border=\"1\" class=\"dataframe\">\n",
       "  <thead>\n",
       "    <tr style=\"text-align: right;\">\n",
       "      <th></th>\n",
       "      <th>card_id</th>\n",
       "      <th>disp_id</th>\n",
       "      <th>type</th>\n",
       "      <th>issued</th>\n",
       "    </tr>\n",
       "  </thead>\n",
       "  <tbody>\n",
       "    <tr>\n",
       "      <th>0</th>\n",
       "      <td>1005</td>\n",
       "      <td>9285</td>\n",
       "      <td>classic</td>\n",
       "      <td>931107</td>\n",
       "    </tr>\n",
       "    <tr>\n",
       "      <th>1</th>\n",
       "      <td>104</td>\n",
       "      <td>588</td>\n",
       "      <td>classic</td>\n",
       "      <td>940119</td>\n",
       "    </tr>\n",
       "    <tr>\n",
       "      <th>2</th>\n",
       "      <td>747</td>\n",
       "      <td>4915</td>\n",
       "      <td>classic</td>\n",
       "      <td>940205</td>\n",
       "    </tr>\n",
       "    <tr>\n",
       "      <th>3</th>\n",
       "      <td>70</td>\n",
       "      <td>439</td>\n",
       "      <td>classic</td>\n",
       "      <td>940208</td>\n",
       "    </tr>\n",
       "    <tr>\n",
       "      <th>4</th>\n",
       "      <td>577</td>\n",
       "      <td>3687</td>\n",
       "      <td>classic</td>\n",
       "      <td>940215</td>\n",
       "    </tr>\n",
       "  </tbody>\n",
       "</table>\n",
       "</div>"
      ],
      "text/plain": [
       "   card_id  disp_id     type  issued\n",
       "0     1005     9285  classic  931107\n",
       "1      104      588  classic  940119\n",
       "2      747     4915  classic  940205\n",
       "3       70      439  classic  940208\n",
       "4      577     3687  classic  940215"
      ]
     },
     "execution_count": 31,
     "metadata": {},
     "output_type": "execute_result"
    }
   ],
   "source": [
    "df_cards = pd.concat([df_card_train, df_card_test])\n",
    "\n",
    "df_cards.head()"
   ]
  },
  {
   "cell_type": "markdown",
   "metadata": {},
   "source": [
    "#### Card issuance dates from number to datetime format"
   ]
  },
  {
   "cell_type": "code",
   "execution_count": 32,
   "metadata": {},
   "outputs": [
    {
     "data": {
      "text/html": [
       "<div>\n",
       "<style scoped>\n",
       "    .dataframe tbody tr th:only-of-type {\n",
       "        vertical-align: middle;\n",
       "    }\n",
       "\n",
       "    .dataframe tbody tr th {\n",
       "        vertical-align: top;\n",
       "    }\n",
       "\n",
       "    .dataframe thead th {\n",
       "        text-align: right;\n",
       "    }\n",
       "</style>\n",
       "<table border=\"1\" class=\"dataframe\">\n",
       "  <thead>\n",
       "    <tr style=\"text-align: right;\">\n",
       "      <th></th>\n",
       "      <th>card_id</th>\n",
       "      <th>disp_id</th>\n",
       "      <th>type</th>\n",
       "      <th>card_date</th>\n",
       "    </tr>\n",
       "  </thead>\n",
       "  <tbody>\n",
       "    <tr>\n",
       "      <th>0</th>\n",
       "      <td>1005</td>\n",
       "      <td>9285</td>\n",
       "      <td>classic</td>\n",
       "      <td>1993-11-07</td>\n",
       "    </tr>\n",
       "    <tr>\n",
       "      <th>1</th>\n",
       "      <td>104</td>\n",
       "      <td>588</td>\n",
       "      <td>classic</td>\n",
       "      <td>1994-01-19</td>\n",
       "    </tr>\n",
       "    <tr>\n",
       "      <th>2</th>\n",
       "      <td>747</td>\n",
       "      <td>4915</td>\n",
       "      <td>classic</td>\n",
       "      <td>1994-02-05</td>\n",
       "    </tr>\n",
       "    <tr>\n",
       "      <th>3</th>\n",
       "      <td>70</td>\n",
       "      <td>439</td>\n",
       "      <td>classic</td>\n",
       "      <td>1994-02-08</td>\n",
       "    </tr>\n",
       "    <tr>\n",
       "      <th>4</th>\n",
       "      <td>577</td>\n",
       "      <td>3687</td>\n",
       "      <td>classic</td>\n",
       "      <td>1994-02-15</td>\n",
       "    </tr>\n",
       "  </tbody>\n",
       "</table>\n",
       "</div>"
      ],
      "text/plain": [
       "   card_id  disp_id     type  card_date\n",
       "0     1005     9285  classic 1993-11-07\n",
       "1      104      588  classic 1994-01-19\n",
       "2      747     4915  classic 1994-02-05\n",
       "3       70      439  classic 1994-02-08\n",
       "4      577     3687  classic 1994-02-15"
      ]
     },
     "execution_count": 32,
     "metadata": {},
     "output_type": "execute_result"
    }
   ],
   "source": [
    "df_cards.issued = df_cards.issued.apply(lambda x: pd.to_datetime(\"19\" + str(x), format=\"%Y%m%d\"))\n",
    "df_cards = df_cards.rename(columns={\"issued\": \"card_date\"})\n",
    "df_cards.card_date = df_cards.card_date.astype('datetime64[ns]')\n",
    "df_cards.head()"
   ]
  },
  {
   "cell_type": "markdown",
   "metadata": {},
   "source": [
    "#### Replace 'type' column categories by numerical values (junior < classic < gold)"
   ]
  },
  {
   "cell_type": "code",
   "execution_count": 33,
   "metadata": {},
   "outputs": [
    {
     "data": {
      "text/html": [
       "<div>\n",
       "<style scoped>\n",
       "    .dataframe tbody tr th:only-of-type {\n",
       "        vertical-align: middle;\n",
       "    }\n",
       "\n",
       "    .dataframe tbody tr th {\n",
       "        vertical-align: top;\n",
       "    }\n",
       "\n",
       "    .dataframe thead th {\n",
       "        text-align: right;\n",
       "    }\n",
       "</style>\n",
       "<table border=\"1\" class=\"dataframe\">\n",
       "  <thead>\n",
       "    <tr style=\"text-align: right;\">\n",
       "      <th></th>\n",
       "      <th>card_id</th>\n",
       "      <th>disp_id</th>\n",
       "      <th>type</th>\n",
       "      <th>card_date</th>\n",
       "    </tr>\n",
       "  </thead>\n",
       "  <tbody>\n",
       "    <tr>\n",
       "      <th>0</th>\n",
       "      <td>1005</td>\n",
       "      <td>9285</td>\n",
       "      <td>0</td>\n",
       "      <td>1993-11-07</td>\n",
       "    </tr>\n",
       "    <tr>\n",
       "      <th>1</th>\n",
       "      <td>104</td>\n",
       "      <td>588</td>\n",
       "      <td>0</td>\n",
       "      <td>1994-01-19</td>\n",
       "    </tr>\n",
       "    <tr>\n",
       "      <th>2</th>\n",
       "      <td>747</td>\n",
       "      <td>4915</td>\n",
       "      <td>0</td>\n",
       "      <td>1994-02-05</td>\n",
       "    </tr>\n",
       "    <tr>\n",
       "      <th>3</th>\n",
       "      <td>70</td>\n",
       "      <td>439</td>\n",
       "      <td>0</td>\n",
       "      <td>1994-02-08</td>\n",
       "    </tr>\n",
       "    <tr>\n",
       "      <th>4</th>\n",
       "      <td>577</td>\n",
       "      <td>3687</td>\n",
       "      <td>0</td>\n",
       "      <td>1994-02-15</td>\n",
       "    </tr>\n",
       "  </tbody>\n",
       "</table>\n",
       "</div>"
      ],
      "text/plain": [
       "   card_id  disp_id  type  card_date\n",
       "0     1005     9285     0 1993-11-07\n",
       "1      104      588     0 1994-01-19\n",
       "2      747     4915     0 1994-02-05\n",
       "3       70      439     0 1994-02-08\n",
       "4      577     3687     0 1994-02-15"
      ]
     },
     "execution_count": 33,
     "metadata": {},
     "output_type": "execute_result"
    }
   ],
   "source": [
    "type_values = {\"junior\": -10, \"classic\": 0, \"gold\": 10}\n",
    "df_cards['type'] = df_cards['type'].apply(lambda x: type_values[x])\n",
    "df_cards.head()"
   ]
  },
  {
   "cell_type": "code",
   "execution_count": 34,
   "metadata": {},
   "outputs": [],
   "source": [
    "df_card_train_clean = df_cards[df_cards['card_id'].isin(df_card_train['card_id'].values)]\n",
    "df_card_train_clean = df_card_train_clean.rename(columns={\"type\":\"card_type\"})\n",
    "df_card_train_clean.to_csv('clean_datasets/cards_train.csv', index=False)\n",
    "\n",
    "df_card_test_clean = df_cards[df_cards['card_id'].isin(df_card_test['card_id'].values)]\n",
    "df_card_test_clean = df_card_test_clean.rename(columns={\"type\":\"card_type\"})\n",
    "df_card_test_clean.to_csv('clean_datasets/cards_test.csv', index=False)"
   ]
  },
  {
   "cell_type": "markdown",
   "metadata": {},
   "source": [
    "### Transactions"
   ]
  },
  {
   "cell_type": "code",
   "execution_count": 35,
   "metadata": {},
   "outputs": [
    {
     "name": "stderr",
     "output_type": "stream",
     "text": [
      "C:\\Users\\Utilizador\\AppData\\Local\\Programs\\Python\\Python39\\lib\\site-packages\\IPython\\core\\interactiveshell.py:3165: DtypeWarning: Columns (8) have mixed types.Specify dtype option on import or set low_memory=False.\n",
      "  has_raised = await self.run_ast_nodes(code_ast.body, cell_name,\n"
     ]
    },
    {
     "name": "stdout",
     "output_type": "stream",
     "text": [
      "30200\n",
      "30200\n"
     ]
    }
   ],
   "source": [
    "df_trans_train = pd.read_csv(\"datasets/trans_train.csv\", sep=\";\")\n",
    "df_trans_test = pd.read_csv(\"datasets/trans_test.csv\", sep=\";\")\n",
    "\n",
    "print(len(df_trans_test[\"trans_id\"]))\n",
    "\n",
    "print(len(set(df_trans_test[\"trans_id\"].values) - set(df_trans_train[\"trans_id\"].values)))"
   ]
  },
  {
   "cell_type": "markdown",
   "metadata": {},
   "source": [
    "No duplicate ids in the test and train"
   ]
  },
  {
   "cell_type": "code",
   "execution_count": 36,
   "metadata": {},
   "outputs": [
    {
     "data": {
      "text/html": [
       "<div>\n",
       "<style scoped>\n",
       "    .dataframe tbody tr th:only-of-type {\n",
       "        vertical-align: middle;\n",
       "    }\n",
       "\n",
       "    .dataframe tbody tr th {\n",
       "        vertical-align: top;\n",
       "    }\n",
       "\n",
       "    .dataframe thead th {\n",
       "        text-align: right;\n",
       "    }\n",
       "</style>\n",
       "<table border=\"1\" class=\"dataframe\">\n",
       "  <thead>\n",
       "    <tr style=\"text-align: right;\">\n",
       "      <th></th>\n",
       "      <th>trans_id</th>\n",
       "      <th>account_id</th>\n",
       "      <th>date</th>\n",
       "      <th>type</th>\n",
       "      <th>operation</th>\n",
       "      <th>amount</th>\n",
       "      <th>balance</th>\n",
       "    </tr>\n",
       "  </thead>\n",
       "  <tbody>\n",
       "    <tr>\n",
       "      <th>0</th>\n",
       "      <td>6145</td>\n",
       "      <td>25</td>\n",
       "      <td>960728</td>\n",
       "      <td>credit</td>\n",
       "      <td>credit in cash</td>\n",
       "      <td>900.0</td>\n",
       "      <td>900.0</td>\n",
       "    </tr>\n",
       "    <tr>\n",
       "      <th>1</th>\n",
       "      <td>6456</td>\n",
       "      <td>25</td>\n",
       "      <td>960827</td>\n",
       "      <td>credit</td>\n",
       "      <td>credit in cash</td>\n",
       "      <td>15800.0</td>\n",
       "      <td>16700.0</td>\n",
       "    </tr>\n",
       "    <tr>\n",
       "      <th>2</th>\n",
       "      <td>6150</td>\n",
       "      <td>25</td>\n",
       "      <td>960903</td>\n",
       "      <td>credit</td>\n",
       "      <td>credit in cash</td>\n",
       "      <td>13067.0</td>\n",
       "      <td>29767.0</td>\n",
       "    </tr>\n",
       "    <tr>\n",
       "      <th>3</th>\n",
       "      <td>6171</td>\n",
       "      <td>25</td>\n",
       "      <td>960905</td>\n",
       "      <td>credit</td>\n",
       "      <td>credit in cash</td>\n",
       "      <td>42054.0</td>\n",
       "      <td>71821.0</td>\n",
       "    </tr>\n",
       "    <tr>\n",
       "      <th>4</th>\n",
       "      <td>6457</td>\n",
       "      <td>25</td>\n",
       "      <td>960906</td>\n",
       "      <td>withdrawal</td>\n",
       "      <td>withdrawal in cash</td>\n",
       "      <td>36000.0</td>\n",
       "      <td>77580.0</td>\n",
       "    </tr>\n",
       "  </tbody>\n",
       "</table>\n",
       "</div>"
      ],
      "text/plain": [
       "   trans_id  account_id    date        type           operation   amount  \\\n",
       "0      6145          25  960728      credit      credit in cash    900.0   \n",
       "1      6456          25  960827      credit      credit in cash  15800.0   \n",
       "2      6150          25  960903      credit      credit in cash  13067.0   \n",
       "3      6171          25  960905      credit      credit in cash  42054.0   \n",
       "4      6457          25  960906  withdrawal  withdrawal in cash  36000.0   \n",
       "\n",
       "   balance  \n",
       "0    900.0  \n",
       "1  16700.0  \n",
       "2  29767.0  \n",
       "3  71821.0  \n",
       "4  77580.0  "
      ]
     },
     "execution_count": 36,
     "metadata": {},
     "output_type": "execute_result"
    }
   ],
   "source": [
    "df_trans_merge = pd.concat([df_trans_test, df_trans_train])\n",
    "df_trans_merge.drop(columns=[\"account\", \"k_symbol\", \"bank\"], inplace=True)\n",
    "\n",
    "df_trans_merge.head()"
   ]
  },
  {
   "cell_type": "code",
   "execution_count": 37,
   "metadata": {},
   "outputs": [],
   "source": [
    "df_credits = df_trans_merge[df_trans_merge[\"type\"] == \"credit\"].groupby(\"account_id\")['amount'].agg([np.mean])\n",
    "df_withdrawals = df_trans_merge[df_trans_merge[\"type\"] == \"withdrawal\"].groupby(\"account_id\")['amount'].agg([np.mean])\n",
    "\n",
    "df_credits = df_credits.rename(columns={\"mean\":\"credits_mean\"})\n",
    "df_withdrawals = df_withdrawals.rename(columns={\"mean\":\"withdrawal_mean\"})\n",
    "\n",
    "df_trans_merge.drop(columns=[\"type\", \"operation\", \"amount\"], inplace=True)\n",
    "\n",
    "df_trans_merge = df_trans_merge.merge(df_credits,on=\"account_id\")\n",
    "df_trans_merge = df_trans_merge.merge(df_withdrawals,on=\"account_id\")"
   ]
  },
  {
   "cell_type": "code",
   "execution_count": 38,
   "metadata": {},
   "outputs": [],
   "source": [
    "df_loans_merge = df_loans_test_clean.append(df_loans_train_clean)\n",
    "df_trans_merge = df_trans_merge[df_trans_merge[\"account_id\"].isin(df_loans_merge[\"account_id\"])]\n",
    "df_trans_merge.date = df_trans_merge.date.apply(lambda x: pd.to_datetime(\"19\" + str(x), format=\"%Y%m%d\"))"
   ]
  },
  {
   "cell_type": "code",
   "execution_count": 39,
   "metadata": {},
   "outputs": [
    {
     "name": "stdout",
     "output_type": "stream",
     "text": [
      "       trans_id  account_id       date  balance  credits_mean  withdrawal_mean\n",
      "0          6145          25 1996-07-28    900.0  19787.319608      8511.106542\n",
      "1          6456          25 1996-08-27  16700.0  19787.319608      8511.106542\n",
      "2          6150          25 1996-09-03  29767.0  19787.319608      8511.106542\n",
      "3          6171          25 1996-09-05  71821.0  19787.319608      8511.106542\n",
      "4          6457          25 1996-09-06  77580.0  19787.319608      8511.106542\n",
      "...         ...         ...        ...      ...           ...              ...\n",
      "54678   3677664        6688 1996-08-31  26007.8   4243.100000      3600.000000\n",
      "54679   1974061        6688 1996-09-12  34162.8   4243.100000      3600.000000\n",
      "54680   1974315        6688 1996-09-23  30562.8   4243.100000      3600.000000\n",
      "54681   3677665        6688 1996-09-30  30676.0   4243.100000      3600.000000\n",
      "54682   1974062        6688 1996-10-12  38831.0   4243.100000      3600.000000\n",
      "\n",
      "[54683 rows x 6 columns]\n"
     ]
    }
   ],
   "source": [
    "print(df_trans_merge)"
   ]
  },
  {
   "cell_type": "code",
   "execution_count": 40,
   "metadata": {},
   "outputs": [
    {
     "name": "stdout",
     "output_type": "stream",
     "text": [
      "     trans_id  account_id       date  balance  credits_mean  withdrawal_mean\n",
      "0         637           2 1993-12-31  27840.6  10394.786364      5276.468966\n",
      "1        4546          19 1996-04-10  15854.0   5264.765217      6188.025000\n",
      "2        6308          25 1997-12-06  31621.9  19787.319608      8511.106542\n",
      "3       11243          37 1998-10-12  16367.8  13979.996875      4748.012195\n",
      "4       11349          38 1998-04-10  37416.7   6452.334783      3390.032258\n",
      "..        ...         ...        ...      ...           ...              ...\n",
      "674   3412456       11327 1998-09-13  62119.2  10715.865217      5946.632258\n",
      "675   3412636       11328 1998-07-09  31303.2   9510.687234      6772.574074\n",
      "676   3419993       11349 1995-10-23  24704.4  21108.227273     29640.857143\n",
      "677   3423217       11359 1996-07-31  25682.6  14509.608889      6094.918812\n",
      "678   3424020       11362 1996-12-10  24199.5   8811.758621      2965.915385\n",
      "\n",
      "[679 rows x 6 columns]\n"
     ]
    }
   ],
   "source": [
    "df_trans_merge = df_trans_merge.merge(df_loans_merge[[\"account_id\", \"loan_date\"]], on=\"account_id\", how=\"left\")\n",
    "\n",
    "df_trans_merge = df_trans_merge[(df_trans_merge[\"date\"] < df_trans_merge[\"loan_date\"])].drop(columns=\"loan_date\")\n",
    "\n",
    "df1 = df_trans_merge.reset_index()\n",
    "g = df1.groupby([\"account_id\",])\n",
    "once = df1[g[\"index\"].transform(len) == 1]\n",
    "more = df1[g[\"index\"].transform(len) > 1]\n",
    "g2 = more.groupby([\"account_id\"], as_index=False)\n",
    "max_mores  = df1.loc[g2[\"date\"].agg(lambda x: x.idxmax())[\"date\"]]\n",
    "df_trans_clean = pd.concat([once, max_mores]).reset_index()\n",
    "df_trans_clean.drop(columns=[\"index\",\"level_0\"],inplace=True) # columns created by reset_index()\n",
    "\n",
    "print(df_trans_clean)"
   ]
  },
  {
   "cell_type": "markdown",
   "metadata": {},
   "source": [
    "## Merging the Data"
   ]
  },
  {
   "cell_type": "code",
   "execution_count": 41,
   "metadata": {},
   "outputs": [],
   "source": [
    "df_loan_train = pd.read_csv('clean_datasets/loans_train.csv', parse_dates=['loan_date'], date_parser=pd.to_datetime)\n",
    "df_loan_test = pd.read_csv('clean_datasets/loans_test.csv', parse_dates=['loan_date'], date_parser=pd.to_datetime)"
   ]
  },
  {
   "cell_type": "code",
   "execution_count": 42,
   "metadata": {},
   "outputs": [],
   "source": [
    "df_accounts_test = pd.read_csv('clean_datasets/account.csv', parse_dates=['account_date'], date_parser=pd.to_datetime)"
   ]
  },
  {
   "cell_type": "code",
   "execution_count": 43,
   "metadata": {},
   "outputs": [],
   "source": [
    "df_districts_test = pd.read_csv('clean_datasets/district.csv', dtype={\"region\":\"category\"})\n",
    "df_districts_test = df_districts_test.reset_index()"
   ]
  },
  {
   "cell_type": "code",
   "execution_count": 44,
   "metadata": {},
   "outputs": [],
   "source": [
    "merge_train = pd.merge(df_loan_train, df_accounts_test, on = 'account_id', how='left')\n",
    "merge_train = pd.merge(merge_train, df_districts_test, on = 'district_id',how='left')"
   ]
  },
  {
   "cell_type": "code",
   "execution_count": 45,
   "metadata": {},
   "outputs": [],
   "source": [
    "merge_test = pd.merge(df_loan_test, df_accounts_test, on = 'account_id', how='left')\n",
    "merge_test = pd.merge(merge_test, df_districts_test, on = 'district_id',how='left')"
   ]
  },
  {
   "cell_type": "code",
   "execution_count": 46,
   "metadata": {},
   "outputs": [
    {
     "data": {
      "text/html": [
       "<div>\n",
       "<style scoped>\n",
       "    .dataframe tbody tr th:only-of-type {\n",
       "        vertical-align: middle;\n",
       "    }\n",
       "\n",
       "    .dataframe tbody tr th {\n",
       "        vertical-align: top;\n",
       "    }\n",
       "\n",
       "    .dataframe thead th {\n",
       "        text-align: right;\n",
       "    }\n",
       "</style>\n",
       "<table border=\"1\" class=\"dataframe\">\n",
       "  <thead>\n",
       "    <tr style=\"text-align: right;\">\n",
       "      <th></th>\n",
       "      <th>loan_id</th>\n",
       "      <th>account_id</th>\n",
       "      <th>loan_date</th>\n",
       "      <th>amount</th>\n",
       "      <th>duration</th>\n",
       "      <th>payments</th>\n",
       "      <th>status</th>\n",
       "      <th>district_id</th>\n",
       "      <th>frequency_0</th>\n",
       "      <th>frequency_1</th>\n",
       "      <th>...</th>\n",
       "      <th>no. of inhabitants</th>\n",
       "      <th>no. of municipalities with inhabitants &lt; 499</th>\n",
       "      <th>no. of municipalities with inhabitants 500-1999</th>\n",
       "      <th>no. of municipalities with inhabitants 2000-9999</th>\n",
       "      <th>no. of municipalities with inhabitants &gt;10000</th>\n",
       "      <th>no. of cities</th>\n",
       "      <th>ratio of urban inhabitants</th>\n",
       "      <th>average salary</th>\n",
       "      <th>unemploymant_rate</th>\n",
       "      <th>no. of enterpreneurs per 1000 inhabitants</th>\n",
       "    </tr>\n",
       "  </thead>\n",
       "  <tbody>\n",
       "    <tr>\n",
       "      <th>0</th>\n",
       "      <td>5314</td>\n",
       "      <td>1787</td>\n",
       "      <td>1993-07-05</td>\n",
       "      <td>96396</td>\n",
       "      <td>12</td>\n",
       "      <td>8033</td>\n",
       "      <td>1</td>\n",
       "      <td>30</td>\n",
       "      <td>1</td>\n",
       "      <td>1</td>\n",
       "      <td>...</td>\n",
       "      <td>94812</td>\n",
       "      <td>15</td>\n",
       "      <td>13</td>\n",
       "      <td>8</td>\n",
       "      <td>2</td>\n",
       "      <td>10</td>\n",
       "      <td>81.8</td>\n",
       "      <td>9650</td>\n",
       "      <td>3.67</td>\n",
       "      <td>100</td>\n",
       "    </tr>\n",
       "    <tr>\n",
       "      <th>1</th>\n",
       "      <td>5316</td>\n",
       "      <td>1801</td>\n",
       "      <td>1993-07-11</td>\n",
       "      <td>165960</td>\n",
       "      <td>36</td>\n",
       "      <td>4610</td>\n",
       "      <td>0</td>\n",
       "      <td>46</td>\n",
       "      <td>0</td>\n",
       "      <td>1</td>\n",
       "      <td>...</td>\n",
       "      <td>112709</td>\n",
       "      <td>48</td>\n",
       "      <td>20</td>\n",
       "      <td>7</td>\n",
       "      <td>3</td>\n",
       "      <td>10</td>\n",
       "      <td>73.5</td>\n",
       "      <td>8369</td>\n",
       "      <td>2.31</td>\n",
       "      <td>117</td>\n",
       "    </tr>\n",
       "    <tr>\n",
       "      <th>2</th>\n",
       "      <td>6863</td>\n",
       "      <td>9188</td>\n",
       "      <td>1993-07-28</td>\n",
       "      <td>127080</td>\n",
       "      <td>60</td>\n",
       "      <td>2118</td>\n",
       "      <td>0</td>\n",
       "      <td>45</td>\n",
       "      <td>0</td>\n",
       "      <td>1</td>\n",
       "      <td>...</td>\n",
       "      <td>77917</td>\n",
       "      <td>85</td>\n",
       "      <td>19</td>\n",
       "      <td>6</td>\n",
       "      <td>1</td>\n",
       "      <td>5</td>\n",
       "      <td>53.5</td>\n",
       "      <td>8390</td>\n",
       "      <td>2.89</td>\n",
       "      <td>132</td>\n",
       "    </tr>\n",
       "    <tr>\n",
       "      <th>3</th>\n",
       "      <td>5325</td>\n",
       "      <td>1843</td>\n",
       "      <td>1993-08-03</td>\n",
       "      <td>105804</td>\n",
       "      <td>36</td>\n",
       "      <td>2939</td>\n",
       "      <td>0</td>\n",
       "      <td>12</td>\n",
       "      <td>0</td>\n",
       "      <td>1</td>\n",
       "      <td>...</td>\n",
       "      <td>107870</td>\n",
       "      <td>84</td>\n",
       "      <td>29</td>\n",
       "      <td>6</td>\n",
       "      <td>1</td>\n",
       "      <td>6</td>\n",
       "      <td>58.0</td>\n",
       "      <td>8754</td>\n",
       "      <td>4.31</td>\n",
       "      <td>137</td>\n",
       "    </tr>\n",
       "    <tr>\n",
       "      <th>4</th>\n",
       "      <td>7240</td>\n",
       "      <td>11013</td>\n",
       "      <td>1993-09-06</td>\n",
       "      <td>274740</td>\n",
       "      <td>60</td>\n",
       "      <td>4579</td>\n",
       "      <td>0</td>\n",
       "      <td>1</td>\n",
       "      <td>1</td>\n",
       "      <td>1</td>\n",
       "      <td>...</td>\n",
       "      <td>1204953</td>\n",
       "      <td>0</td>\n",
       "      <td>0</td>\n",
       "      <td>0</td>\n",
       "      <td>1</td>\n",
       "      <td>1</td>\n",
       "      <td>100.0</td>\n",
       "      <td>12541</td>\n",
       "      <td>0.43</td>\n",
       "      <td>167</td>\n",
       "    </tr>\n",
       "  </tbody>\n",
       "</table>\n",
       "<p>5 rows × 26 columns</p>\n",
       "</div>"
      ],
      "text/plain": [
       "   loan_id  account_id  loan_date  amount  duration  payments  status  \\\n",
       "0     5314        1787 1993-07-05   96396        12      8033       1   \n",
       "1     5316        1801 1993-07-11  165960        36      4610       0   \n",
       "2     6863        9188 1993-07-28  127080        60      2118       0   \n",
       "3     5325        1843 1993-08-03  105804        36      2939       0   \n",
       "4     7240       11013 1993-09-06  274740        60      4579       0   \n",
       "\n",
       "   district_id  frequency_0  frequency_1  ... no. of inhabitants  \\\n",
       "0           30            1            1  ...              94812   \n",
       "1           46            0            1  ...             112709   \n",
       "2           45            0            1  ...              77917   \n",
       "3           12            0            1  ...             107870   \n",
       "4            1            1            1  ...            1204953   \n",
       "\n",
       "   no. of municipalities with inhabitants < 499  \\\n",
       "0                                            15   \n",
       "1                                            48   \n",
       "2                                            85   \n",
       "3                                            84   \n",
       "4                                             0   \n",
       "\n",
       "   no. of municipalities with inhabitants 500-1999  \\\n",
       "0                                               13   \n",
       "1                                               20   \n",
       "2                                               19   \n",
       "3                                               29   \n",
       "4                                                0   \n",
       "\n",
       "   no. of municipalities with inhabitants 2000-9999  \\\n",
       "0                                                 8   \n",
       "1                                                 7   \n",
       "2                                                 6   \n",
       "3                                                 6   \n",
       "4                                                 0   \n",
       "\n",
       "   no. of municipalities with inhabitants >10000  no. of cities  \\\n",
       "0                                              2             10   \n",
       "1                                              3             10   \n",
       "2                                              1              5   \n",
       "3                                              1              6   \n",
       "4                                              1              1   \n",
       "\n",
       "   ratio of urban inhabitants  average salary  unemploymant_rate  \\\n",
       "0                        81.8            9650               3.67   \n",
       "1                        73.5            8369               2.31   \n",
       "2                        53.5            8390               2.89   \n",
       "3                        58.0            8754               4.31   \n",
       "4                       100.0           12541               0.43   \n",
       "\n",
       "   no. of enterpreneurs per 1000 inhabitants  \n",
       "0                                        100  \n",
       "1                                        117  \n",
       "2                                        132  \n",
       "3                                        137  \n",
       "4                                        167  \n",
       "\n",
       "[5 rows x 26 columns]"
      ]
     },
     "execution_count": 46,
     "metadata": {},
     "output_type": "execute_result"
    }
   ],
   "source": [
    "merge_train.head()"
   ]
  },
  {
   "cell_type": "code",
   "execution_count": 47,
   "metadata": {},
   "outputs": [],
   "source": [
    "merge_train['time_since_create'] = (merge_train[\"loan_date\"] - merge_train[\"account_date\"]).dt.days\n",
    "merge_train = merge_train.drop(columns=[\"account_date\", \"loan_date\", \"index\"])\n",
    "\n",
    "merge_test['time_since_create'] = (merge_test[\"loan_date\"] - merge_test[\"account_date\"]).dt.days\n",
    "merge_test = merge_test.drop(columns=[\"account_date\", \"loan_date\", \"index\"])"
   ]
  },
  {
   "cell_type": "code",
   "execution_count": 48,
   "metadata": {},
   "outputs": [
    {
     "data": {
      "text/html": [
       "<div>\n",
       "<style scoped>\n",
       "    .dataframe tbody tr th:only-of-type {\n",
       "        vertical-align: middle;\n",
       "    }\n",
       "\n",
       "    .dataframe tbody tr th {\n",
       "        vertical-align: top;\n",
       "    }\n",
       "\n",
       "    .dataframe thead th {\n",
       "        text-align: right;\n",
       "    }\n",
       "</style>\n",
       "<table border=\"1\" class=\"dataframe\">\n",
       "  <thead>\n",
       "    <tr style=\"text-align: right;\">\n",
       "      <th></th>\n",
       "      <th>loan_id</th>\n",
       "      <th>account_id</th>\n",
       "      <th>amount</th>\n",
       "      <th>duration</th>\n",
       "      <th>payments</th>\n",
       "      <th>status</th>\n",
       "      <th>district_id</th>\n",
       "      <th>frequency_0</th>\n",
       "      <th>frequency_1</th>\n",
       "      <th>region_0</th>\n",
       "      <th>...</th>\n",
       "      <th>no. of municipalities with inhabitants &lt; 499</th>\n",
       "      <th>no. of municipalities with inhabitants 500-1999</th>\n",
       "      <th>no. of municipalities with inhabitants 2000-9999</th>\n",
       "      <th>no. of municipalities with inhabitants &gt;10000</th>\n",
       "      <th>no. of cities</th>\n",
       "      <th>ratio of urban inhabitants</th>\n",
       "      <th>average salary</th>\n",
       "      <th>unemploymant_rate</th>\n",
       "      <th>no. of enterpreneurs per 1000 inhabitants</th>\n",
       "      <th>time_since_create</th>\n",
       "    </tr>\n",
       "  </thead>\n",
       "  <tbody>\n",
       "    <tr>\n",
       "      <th>0</th>\n",
       "      <td>5314</td>\n",
       "      <td>1787</td>\n",
       "      <td>96396</td>\n",
       "      <td>12</td>\n",
       "      <td>8033</td>\n",
       "      <td>1</td>\n",
       "      <td>30</td>\n",
       "      <td>1</td>\n",
       "      <td>1</td>\n",
       "      <td>0</td>\n",
       "      <td>...</td>\n",
       "      <td>15</td>\n",
       "      <td>13</td>\n",
       "      <td>8</td>\n",
       "      <td>2</td>\n",
       "      <td>10</td>\n",
       "      <td>81.8</td>\n",
       "      <td>9650</td>\n",
       "      <td>3.67</td>\n",
       "      <td>100</td>\n",
       "      <td>105</td>\n",
       "    </tr>\n",
       "    <tr>\n",
       "      <th>1</th>\n",
       "      <td>5316</td>\n",
       "      <td>1801</td>\n",
       "      <td>165960</td>\n",
       "      <td>36</td>\n",
       "      <td>4610</td>\n",
       "      <td>0</td>\n",
       "      <td>46</td>\n",
       "      <td>0</td>\n",
       "      <td>1</td>\n",
       "      <td>0</td>\n",
       "      <td>...</td>\n",
       "      <td>48</td>\n",
       "      <td>20</td>\n",
       "      <td>7</td>\n",
       "      <td>3</td>\n",
       "      <td>10</td>\n",
       "      <td>73.5</td>\n",
       "      <td>8369</td>\n",
       "      <td>2.31</td>\n",
       "      <td>117</td>\n",
       "      <td>148</td>\n",
       "    </tr>\n",
       "    <tr>\n",
       "      <th>2</th>\n",
       "      <td>6863</td>\n",
       "      <td>9188</td>\n",
       "      <td>127080</td>\n",
       "      <td>60</td>\n",
       "      <td>2118</td>\n",
       "      <td>0</td>\n",
       "      <td>45</td>\n",
       "      <td>0</td>\n",
       "      <td>1</td>\n",
       "      <td>0</td>\n",
       "      <td>...</td>\n",
       "      <td>85</td>\n",
       "      <td>19</td>\n",
       "      <td>6</td>\n",
       "      <td>1</td>\n",
       "      <td>5</td>\n",
       "      <td>53.5</td>\n",
       "      <td>8390</td>\n",
       "      <td>2.89</td>\n",
       "      <td>132</td>\n",
       "      <td>170</td>\n",
       "    </tr>\n",
       "    <tr>\n",
       "      <th>3</th>\n",
       "      <td>5325</td>\n",
       "      <td>1843</td>\n",
       "      <td>105804</td>\n",
       "      <td>36</td>\n",
       "      <td>2939</td>\n",
       "      <td>0</td>\n",
       "      <td>12</td>\n",
       "      <td>0</td>\n",
       "      <td>1</td>\n",
       "      <td>0</td>\n",
       "      <td>...</td>\n",
       "      <td>84</td>\n",
       "      <td>29</td>\n",
       "      <td>6</td>\n",
       "      <td>1</td>\n",
       "      <td>6</td>\n",
       "      <td>58.0</td>\n",
       "      <td>8754</td>\n",
       "      <td>4.31</td>\n",
       "      <td>137</td>\n",
       "      <td>185</td>\n",
       "    </tr>\n",
       "    <tr>\n",
       "      <th>4</th>\n",
       "      <td>7240</td>\n",
       "      <td>11013</td>\n",
       "      <td>274740</td>\n",
       "      <td>60</td>\n",
       "      <td>4579</td>\n",
       "      <td>0</td>\n",
       "      <td>1</td>\n",
       "      <td>1</td>\n",
       "      <td>1</td>\n",
       "      <td>0</td>\n",
       "      <td>...</td>\n",
       "      <td>0</td>\n",
       "      <td>0</td>\n",
       "      <td>0</td>\n",
       "      <td>1</td>\n",
       "      <td>1</td>\n",
       "      <td>100.0</td>\n",
       "      <td>12541</td>\n",
       "      <td>0.43</td>\n",
       "      <td>167</td>\n",
       "      <td>204</td>\n",
       "    </tr>\n",
       "  </tbody>\n",
       "</table>\n",
       "<p>5 rows × 24 columns</p>\n",
       "</div>"
      ],
      "text/plain": [
       "   loan_id  account_id  amount  duration  payments  status  district_id  \\\n",
       "0     5314        1787   96396        12      8033       1           30   \n",
       "1     5316        1801  165960        36      4610       0           46   \n",
       "2     6863        9188  127080        60      2118       0           45   \n",
       "3     5325        1843  105804        36      2939       0           12   \n",
       "4     7240       11013  274740        60      4579       0            1   \n",
       "\n",
       "   frequency_0  frequency_1  region_0  ...  \\\n",
       "0            1            1         0  ...   \n",
       "1            0            1         0  ...   \n",
       "2            0            1         0  ...   \n",
       "3            0            1         0  ...   \n",
       "4            1            1         0  ...   \n",
       "\n",
       "   no. of municipalities with inhabitants < 499  \\\n",
       "0                                            15   \n",
       "1                                            48   \n",
       "2                                            85   \n",
       "3                                            84   \n",
       "4                                             0   \n",
       "\n",
       "   no. of municipalities with inhabitants 500-1999  \\\n",
       "0                                               13   \n",
       "1                                               20   \n",
       "2                                               19   \n",
       "3                                               29   \n",
       "4                                                0   \n",
       "\n",
       "   no. of municipalities with inhabitants 2000-9999  \\\n",
       "0                                                 8   \n",
       "1                                                 7   \n",
       "2                                                 6   \n",
       "3                                                 6   \n",
       "4                                                 0   \n",
       "\n",
       "   no. of municipalities with inhabitants >10000  no. of cities  \\\n",
       "0                                              2             10   \n",
       "1                                              3             10   \n",
       "2                                              1              5   \n",
       "3                                              1              6   \n",
       "4                                              1              1   \n",
       "\n",
       "   ratio of urban inhabitants  average salary  unemploymant_rate  \\\n",
       "0                        81.8            9650               3.67   \n",
       "1                        73.5            8369               2.31   \n",
       "2                        53.5            8390               2.89   \n",
       "3                        58.0            8754               4.31   \n",
       "4                       100.0           12541               0.43   \n",
       "\n",
       "   no. of enterpreneurs per 1000 inhabitants  time_since_create  \n",
       "0                                        100                105  \n",
       "1                                        117                148  \n",
       "2                                        132                170  \n",
       "3                                        137                185  \n",
       "4                                        167                204  \n",
       "\n",
       "[5 rows x 24 columns]"
      ]
     },
     "execution_count": 48,
     "metadata": {},
     "output_type": "execute_result"
    }
   ],
   "source": [
    "merge_train.head()"
   ]
  },
  {
   "cell_type": "code",
   "execution_count": 49,
   "metadata": {},
   "outputs": [],
   "source": [
    "merge_train.to_csv(\"merge_train.csv\", index=False)\n",
    "merge_test.to_csv(\"merge_test.csv\", index=False)"
   ]
  },
  {
   "cell_type": "markdown",
   "metadata": {},
   "source": [
    "## Analysis"
   ]
  },
  {
   "cell_type": "markdown",
   "metadata": {},
   "source": [
    "### Class Balance"
   ]
  },
  {
   "cell_type": "code",
   "execution_count": 50,
   "metadata": {},
   "outputs": [
    {
     "data": {
      "image/png": "[encoded data removed]",
      "text/plain": [
       "<Figure size 576x576 with 1 Axes>"
      ]
     },
     "metadata": {
      "needs_background": "light"
     },
     "output_type": "display_data"
    }
   ],
   "source": [
    "plt.figure(figsize=(8, 8))\n",
    "\n",
    "cp = sb.countplot(x='status', data=merge_train)\n",
    "total = len(merge_train)\n",
    "\n",
    "patchNegative = cp.patches[0]\n",
    "percentage = '{:.1f}%'.format(100 * patchNegative.get_height() / total)\n",
    "x = patchNegative.get_x() + (patchNegative.get_width() / 2.3)\n",
    "y = patchNegative.get_y() + patchNegative.get_height() + 1.5\n",
    "cp.annotate(percentage, (x, y))\n",
    "\n",
    "patchPositive = cp.patches[1]\n",
    "percentage = '{:.1f}%'.format(100 * patchPositive.get_height() / total)\n",
    "x = patchPositive.get_x() + (patchPositive.get_width() / 2.3)\n",
    "y = patchPositive.get_y() + patchPositive.get_height() + 1.5\n",
    "cp.annotate(percentage, (x, y))\n",
    "\n",
    "plt.show()"
   ]
  },
  {
   "cell_type": "markdown",
   "metadata": {},
   "source": [
    "This dataset is **very unbalanced**. Only 14% of the rows are relative to refused loans."
   ]
  },
  {
   "cell_type": "markdown",
   "metadata": {},
   "source": [
    "### Correlations"
   ]
  },
  {
   "cell_type": "code",
   "execution_count": 51,
   "metadata": {},
   "outputs": [
    {
     "data": {
      "text/html": [
       "<div>\n",
       "<style scoped>\n",
       "    .dataframe tbody tr th:only-of-type {\n",
       "        vertical-align: middle;\n",
       "    }\n",
       "\n",
       "    .dataframe tbody tr th {\n",
       "        vertical-align: top;\n",
       "    }\n",
       "\n",
       "    .dataframe thead th {\n",
       "        text-align: right;\n",
       "    }\n",
       "</style>\n",
       "<table border=\"1\" class=\"dataframe\">\n",
       "  <thead>\n",
       "    <tr style=\"text-align: right;\">\n",
       "      <th></th>\n",
       "      <th>loan_id</th>\n",
       "      <th>account_id</th>\n",
       "      <th>loan_date</th>\n",
       "      <th>amount</th>\n",
       "      <th>duration</th>\n",
       "      <th>payments</th>\n",
       "      <th>district_id</th>\n",
       "      <th>frequency_0</th>\n",
       "      <th>frequency_1</th>\n",
       "      <th>account_date</th>\n",
       "    </tr>\n",
       "  </thead>\n",
       "  <tbody>\n",
       "    <tr>\n",
       "      <th>0</th>\n",
       "      <td>5314</td>\n",
       "      <td>1787</td>\n",
       "      <td>1993-07-05</td>\n",
       "      <td>96396</td>\n",
       "      <td>12</td>\n",
       "      <td>8033</td>\n",
       "      <td>30</td>\n",
       "      <td>1</td>\n",
       "      <td>1</td>\n",
       "      <td>1993-03-22</td>\n",
       "    </tr>\n",
       "    <tr>\n",
       "      <th>1</th>\n",
       "      <td>5316</td>\n",
       "      <td>1801</td>\n",
       "      <td>1993-07-11</td>\n",
       "      <td>165960</td>\n",
       "      <td>36</td>\n",
       "      <td>4610</td>\n",
       "      <td>46</td>\n",
       "      <td>0</td>\n",
       "      <td>1</td>\n",
       "      <td>1993-02-13</td>\n",
       "    </tr>\n",
       "    <tr>\n",
       "      <th>2</th>\n",
       "      <td>6863</td>\n",
       "      <td>9188</td>\n",
       "      <td>1993-07-28</td>\n",
       "      <td>127080</td>\n",
       "      <td>60</td>\n",
       "      <td>2118</td>\n",
       "      <td>45</td>\n",
       "      <td>0</td>\n",
       "      <td>1</td>\n",
       "      <td>1993-02-08</td>\n",
       "    </tr>\n",
       "    <tr>\n",
       "      <th>3</th>\n",
       "      <td>5325</td>\n",
       "      <td>1843</td>\n",
       "      <td>1993-08-03</td>\n",
       "      <td>105804</td>\n",
       "      <td>36</td>\n",
       "      <td>2939</td>\n",
       "      <td>12</td>\n",
       "      <td>0</td>\n",
       "      <td>1</td>\n",
       "      <td>1993-01-30</td>\n",
       "    </tr>\n",
       "    <tr>\n",
       "      <th>4</th>\n",
       "      <td>7240</td>\n",
       "      <td>11013</td>\n",
       "      <td>1993-09-06</td>\n",
       "      <td>274740</td>\n",
       "      <td>60</td>\n",
       "      <td>4579</td>\n",
       "      <td>1</td>\n",
       "      <td>1</td>\n",
       "      <td>1</td>\n",
       "      <td>1993-02-14</td>\n",
       "    </tr>\n",
       "  </tbody>\n",
       "</table>\n",
       "</div>"
      ],
      "text/plain": [
       "   loan_id  account_id  loan_date  amount  duration  payments  district_id  \\\n",
       "0     5314        1787 1993-07-05   96396        12      8033           30   \n",
       "1     5316        1801 1993-07-11  165960        36      4610           46   \n",
       "2     6863        9188 1993-07-28  127080        60      2118           45   \n",
       "3     5325        1843 1993-08-03  105804        36      2939           12   \n",
       "4     7240       11013 1993-09-06  274740        60      4579            1   \n",
       "\n",
       "   frequency_0  frequency_1 account_date  \n",
       "0            1            1   1993-03-22  \n",
       "1            0            1   1993-02-13  \n",
       "2            0            1   1993-02-08  \n",
       "3            0            1   1993-01-30  \n",
       "4            1            1   1993-02-14  "
      ]
     },
     "execution_count": 51,
     "metadata": {},
     "output_type": "execute_result"
    }
   ],
   "source": [
    "df_loans_accounts = pd.merge(df_loans, df_accounts, on=\"account_id\", how=\"left\")\n",
    "df_loans_accounts.head()"
   ]
  },
  {
   "cell_type": "code",
   "execution_count": 52,
   "metadata": {},
   "outputs": [
    {
     "data": {
      "image/png": "[encoded data removed]",
      "text/plain": [
       "<Figure size 432x288 with 2 Axes>"
      ]
     },
     "metadata": {
      "needs_background": "light"
     },
     "output_type": "display_data"
    }
   ],
   "source": [
    "sb.heatmap(df_loans_accounts.corr(), annot=True)\n",
    "plt.show()"
   ]
  },
  {
   "cell_type": "markdown",
   "metadata": {},
   "source": [
    "## Classification"
   ]
  },
  {
   "cell_type": "markdown",
   "metadata": {},
   "source": [
    "### Validation Technique"
   ]
  },
  {
   "cell_type": "markdown",
   "metadata": {},
   "source": [
    "#### Stratified Cross Validation"
   ]
  },
  {
   "cell_type": "code",
   "execution_count": 53,
   "metadata": {},
   "outputs": [],
   "source": [
    "def train_model(model, train, test, fold_no):\n",
    "    \n",
    "    X_train = train[train.columns.difference(['status'])]\n",
    "    y_train = train['status']\n",
    "    X_test = test[test.columns.difference([\"status\"])]\n",
    "    y_test = test['status']\n",
    "    \n",
    "    model.fit(X_train, y_train)\n",
    "    predictions = model.predict(X_test)\n",
    "    predictions_proba = model.predict_proba(X_test)\n",
    "    predictions_proba = predictions_proba[:,1]\n",
    "    \n",
    "    precision, recall, _ = precision_recall_curve(y_test, predictions_proba)\n",
    "    plt.plot(recall, precision, alpha=0.3,\n",
    "                 label='PR fold %d (AP = %0.2f, AUC = %0.2f)' % (fold_no, average_precision_score(y_test, predictions_proba), auc(recall, precision)))\n",
    "    return (model, X_train, y_train, X_test, y_test, predictions_proba, predictions)\n",
    "    \n",
    "def cross_val(model, df, n_splits):\n",
    "    results = []\n",
    "    target = df['status'].values\n",
    "    skf = StratifiedKFold(n_splits=n_splits)\n",
    "    \n",
    "    fold_no = 1\n",
    "    for train_index, test_index in skf.split(df, target):\n",
    "        train = df.iloc[train_index]\n",
    "        test = df.iloc[test_index]\n",
    "        results.append(train_model(model, train, test, fold_no))\n",
    "        fold_no += 1\n",
    "\n",
    "    y_test_all = []\n",
    "    predictions_proba_all = []\n",
    "    predictions_all = []\n",
    "\n",
    "    for result in results:\n",
    "        (_, _, _, _, y_test, predictions_proba, predictions) = result\n",
    "        y_test_all.append(y_test)\n",
    "        predictions_proba_all.append(predictions_proba)\n",
    "        predictions_all.append(predictions)\n",
    "        \n",
    "    y_test_all = np.concatenate(y_test_all)\n",
    "    predictions_proba_all = np.concatenate(predictions_proba_all)\n",
    "    predictions_all = np.concatenate(predictions_all)\n",
    "    \n",
    "    precision, recall, _ = precision_recall_curve(y_test_all, predictions_proba_all)\n",
    "\n",
    "    plt.rcParams[\"figure.figsize\"] = 10,7\n",
    "    plt.plot(recall, precision, color='b',\n",
    "    label=r'PR (AP = %0.2f, AUC = %0.2f)' % (average_precision_score(y_test_all, predictions_proba_all), auc(recall, precision)),\n",
    "    lw=2, alpha=.8)\n",
    "    plt.legend()\n",
    "    plt.title(\"Precision Recall Curve\")\n",
    "    plt.xlabel('Recall')\n",
    "    plt.ylabel('Precision')\n",
    "    \n",
    "    return (y_test_all, predictions_proba_all, predictions_all)"
   ]
  },
  {
   "cell_type": "markdown",
   "metadata": {},
   "source": [
    "### Support Vector Machine"
   ]
  },
  {
   "cell_type": "code",
   "execution_count": 54,
   "metadata": {},
   "outputs": [],
   "source": [
    "\n",
    "#clf = svm.SVC(kernel='linear', class_weight=\"balanced\")\n",
    "\n",
    "#clf.fit(merge_train.drop(columns=[\"status\", \"loan_id\", \"account_id\", \"district_id\"]), merge_train['status'])"
   ]
  },
  {
   "cell_type": "code",
   "execution_count": 55,
   "metadata": {},
   "outputs": [],
   "source": [
    "#y_pred = clf.predict(merge_test.drop(columns=['status', \"loan_id\", \"account_id\", \"district_id\"]))\n",
    "#print(y_pred)"
   ]
  },
  {
   "cell_type": "markdown",
   "metadata": {},
   "source": [
    "### Logistic Regression"
   ]
  },
  {
   "cell_type": "code",
   "execution_count": 56,
   "metadata": {},
   "outputs": [
    {
     "name": "stdout",
     "output_type": "stream",
     "text": [
      "[0 1 0 0 0 0 0 1 0 0 0 0 1 1 1 1 1 0 1 0 0 0 0 0 0 0 0 0 1 1 1 0 1 0 0 0 0\n",
      " 1 0 1 0 1 1 0 0 0 0 0 0 0 0 1 1 1 0 0 0 1 0 0 0 1 0 0 0 1 0 0 1 0 0 1 1 0\n",
      " 1 1 1 1 1 0 1 1 0 0 1 0 0 0 1 0 1 1 0 0 1 1 1 0 0 0 1 1 0 0 0 1 0 0 1 1 0\n",
      " 0 0 0 0 0 1 1 0 1 0 0 1 1 0 1 1 0 0 0 1 1 1 0 1 1 0 1 1 1 1 0 0 1 0 0 1 1\n",
      " 0 0 0 0 0 0 1 0 0 0 0 1 1 0 1 1 0 0 1 1 0 1 0 0 1 0 1 0 0 0 0 0 0 1 0 0 0\n",
      " 0 0 0 1 1 1 1 0 0 1 1 0 0 1 1 1 0 1 0 0 0 1 0 0 1 0 0 1 0 0 0 0 0 0 0 0 1\n",
      " 0 1 1 1 1 1 1 0 1 0 0 0 0 0 1 1 0 1 0 1 0 0 0 0 0 0 0 0 0 0 1 0 0 0 1 0 1\n",
      " 0 1 0 0 0 0 0 0 0 0 1 1 0 0 0 0 0 0 1 1 1 0 0 0 0 0 0 0 0 1 0 0 0 0 0 1 1\n",
      " 0 0 0 0 1 1 1 0 0 0 0 1 1 0 1 1 1 0 0 0 0 0 1 0 1 0 0 0 0 0 0 1 0 0 0 0 0\n",
      " 1 0 1 0 0 0 0 0 0 0 1 0 1 0 0 0 1 0 0 0 0]\n"
     ]
    }
   ],
   "source": [
    "logreg = LogisticRegression(class_weight='balanced', max_iter=500000)\n",
    "logreg.fit(merge_train.drop(columns=[\"status\", \"loan_id\", \"account_id\", \"district_id\"]), merge_train['status'])\n",
    "\n",
    "predictions = logreg.predict(merge_test.drop(columns=['status', \"loan_id\", \"account_id\", \"district_id\"]))\n",
    "\n",
    "print(predictions)"
   ]
  },
  {
   "cell_type": "code",
   "execution_count": 57,
   "metadata": {},
   "outputs": [
    {
     "data": {
      "image/png": "[encoded data removed]",
      "text/plain": [
       "<Figure size 432x288 with 1 Axes>"
      ]
     },
     "metadata": {
      "needs_background": "light"
     },
     "output_type": "display_data"
    },
    {
     "data": {
      "text/plain": [
       "<Figure size 720x504 with 0 Axes>"
      ]
     },
     "metadata": {},
     "output_type": "display_data"
    },
    {
     "name": "stdout",
     "output_type": "stream",
     "text": [
      "Classification Report:\n",
      "              precision    recall  f1-score   support\n",
      "\n",
      "           0       0.90      0.63      0.74       282\n",
      "           1       0.20      0.59      0.30        46\n",
      "\n",
      "    accuracy                           0.62       328\n",
      "   macro avg       0.55      0.61      0.52       328\n",
      "weighted avg       0.81      0.62      0.68       328\n",
      "\n",
      "F2 Score: 0.4272151898734177\n",
      "Cohen's Kappa Score: 0.12041522491349477\n",
      "Matthews Correlation Coefficient (MCC): 0.1519675142271146\n",
      "\n",
      "\n",
      "Mean Absolute Error (MAE): 0.3780487804878049\n",
      "Mean Squared Error (MSE): 0.3780487804878049\n",
      "R Squared: -2.135368485969781\n"
     ]
    },
    {
     "data": {
      "image/png": "[encoded data removed]",
      "text/plain": [
       "<Figure size 720x504 with 2 Axes>"
      ]
     },
     "metadata": {
      "needs_background": "light"
     },
     "output_type": "display_data"
    },
    {
     "data": {
      "text/plain": [
       "<Figure size 720x504 with 0 Axes>"
      ]
     },
     "metadata": {},
     "output_type": "display_data"
    }
   ],
   "source": [
    "(testing_classes, predictions_proba, predictions) = cross_val(logreg, merge_train, 10)\n",
    "plt.figure()\n",
    "plt.show()\n",
    "\n",
    "print(\"Classification Report:\")\n",
    "print(classification_report(testing_classes, predictions))\n",
    "\n",
    "print(\"F2 Score: {}\".format(fbeta_score(testing_classes, predictions, beta=2)))\n",
    "print(\"Cohen's Kappa Score: {}\".format(cohen_kappa_score(testing_classes, predictions)))\n",
    "print(\"Matthews Correlation Coefficient (MCC): {}\".format(matthews_corrcoef(testing_classes, predictions)))\n",
    "print(\"\\n\")\n",
    "print('Mean Absolute Error (MAE):', mean_absolute_error(testing_classes, predictions))\n",
    "print('Mean Squared Error (MSE):', mean_squared_error(testing_classes, predictions))\n",
    "print('R Squared:', r2_score(testing_classes, predictions))\n",
    "\n",
    "confusion_matrix = pd.crosstab(testing_classes, predictions, rownames=['Actual'], colnames=['Predicted'])\n",
    "sb.heatmap(confusion_matrix, annot=True)\n",
    "plt.title(\"Confusion Matrix\")\n",
    "plt.figure()\n",
    "plt.draw()"
   ]
  },
  {
   "cell_type": "markdown",
   "metadata": {},
   "source": [
    "### Decision Tree"
   ]
  },
  {
   "cell_type": "code",
   "execution_count": 58,
   "metadata": {},
   "outputs": [
    {
     "name": "stdout",
     "output_type": "stream",
     "text": [
      "[0 0 1 0 0 0 0 1 0 0 1 0 0 0 1 0 0 0 0 0 0 0 0 0 1 0 0 0 0 0 0 0 0 0 0 0 0\n",
      " 0 1 1 0 0 0 0 0 1 0 0 0 0 0 1 0 1 0 0 0 0 1 0 0 0 0 0 0 1 0 1 1 0 1 0 1 1\n",
      " 1 0 1 0 0 0 0 1 1 0 0 1 0 0 1 0 1 0 0 0 1 1 0 1 0 0 0 0 0 1 0 0 0 0 0 0 0\n",
      " 1 0 1 0 0 0 0 0 0 0 0 0 0 0 0 1 0 0 0 1 0 0 0 0 1 0 1 1 0 0 0 0 1 0 0 1 1\n",
      " 0 0 0 0 0 0 0 0 0 0 0 0 0 0 0 1 0 1 0 0 0 1 0 1 0 0 1 0 0 0 0 0 0 0 1 0 0\n",
      " 0 0 0 1 1 0 1 0 0 0 1 0 0 1 0 0 0 0 0 0 1 0 0 0 0 0 0 0 0 0 0 0 0 0 1 0 0\n",
      " 0 0 1 0 0 0 1 0 0 0 0 0 1 1 0 1 0 1 0 1 0 0 0 0 0 1 1 0 0 0 0 0 0 0 0 0 0\n",
      " 0 0 0 0 0 0 0 0 0 1 1 1 0 0 0 0 0 1 0 0 1 1 0 0 1 0 1 0 0 1 1 0 0 0 0 0 0\n",
      " 0 0 1 0 0 0 0 0 1 0 0 0 0 1 0 1 1 0 0 0 0 0 0 0 1 0 0 0 0 1 0 1 0 0 0 0 0\n",
      " 0 0 0 0 0 0 0 0 0 0 0 0 1 0 0 0 1 0 0 0 0]\n"
     ]
    }
   ],
   "source": [
    "dtc = DecisionTreeClassifier()\n",
    "\n",
    "dtc.fit(merge_train.drop(columns=[\"status\", \"loan_id\", \"account_id\", \"district_id\"]), merge_train['status'])\n",
    "\n",
    "predictions = dtc.predict(merge_test.drop(columns=['status', \"loan_id\", \"account_id\", \"district_id\"]))\n",
    "\n",
    "print(predictions)"
   ]
  },
  {
   "cell_type": "code",
   "execution_count": 59,
   "metadata": {},
   "outputs": [
    {
     "name": "stdout",
     "output_type": "stream",
     "text": [
      "Classification Report:\n",
      "              precision    recall  f1-score   support\n",
      "\n",
      "           0       0.88      0.85      0.87       282\n",
      "           1       0.24      0.28      0.26        46\n",
      "\n",
      "    accuracy                           0.77       328\n",
      "   macro avg       0.56      0.57      0.56       328\n",
      "weighted avg       0.79      0.77      0.78       328\n",
      "\n"
     ]
    },
    {
     "data": {
      "image/png": "[encoded data removed]",
      "text/plain": [
       "<Figure size 720x504 with 1 Axes>"
      ]
     },
     "metadata": {
      "needs_background": "light"
     },
     "output_type": "display_data"
    },
    {
     "data": {
      "image/png": "[encoded data removed]",
      "text/plain": [
       "<Figure size 720x504 with 2 Axes>"
      ]
     },
     "metadata": {
      "needs_background": "light"
     },
     "output_type": "display_data"
    },
    {
     "data": {
      "text/plain": [
       "<Figure size 720x504 with 0 Axes>"
      ]
     },
     "metadata": {},
     "output_type": "display_data"
    }
   ],
   "source": [
    "(testing_classes, predictions_proba, predictions) = cross_val(dtc, merge_train, 5)\n",
    "plt.figure()\n",
    "plt.draw()\n",
    "\n",
    "print(\"Classification Report:\")\n",
    "print(classification_report(testing_classes, predictions))\n",
    "\n",
    "confusion_matrix = pd.crosstab(testing_classes, predictions, rownames=['Actual'], colnames=['Predicted'])\n",
    "sb.heatmap(confusion_matrix, annot=True)\n",
    "plt.title(\"Confusion Matrix\")\n",
    "plt.figure()\n",
    "plt.draw()"
   ]
  },
  {
   "cell_type": "code",
   "execution_count": 60,
   "metadata": {},
   "outputs": [],
   "source": [
    "df_disp = pd.read_csv(\"clean_datasets/disp.csv\")\n",
    "df_clients = pd.read_csv(\"clean_datasets/client.csv\")\n",
    "\n",
    "df_join_disp_clients = pd.merge(df_disp, df_clients, on=\"client_id\", how=\"left\")\n",
    "\n",
    "df_join_disp_clients.head()\n",
    "\n",
    "df_join_disp_clients.to_csv(\"clean_datasets/merge_disp_client.csv\")"
   ]
  },
  {
   "cell_type": "code",
   "execution_count": 61,
   "metadata": {},
   "outputs": [
    {
     "name": "stdout",
     "output_type": "stream",
     "text": [
      "5369\n",
      "5369\n"
     ]
    }
   ],
   "source": [
    "print(len(df_join_disp_clients[\"disp_id\"].unique()))\n",
    "print(len(df_join_disp_clients))"
   ]
  },
  {
   "cell_type": "markdown",
   "metadata": {},
   "source": [
    "No duplicate disp_ids"
   ]
  },
  {
   "cell_type": "code",
   "execution_count": 62,
   "metadata": {},
   "outputs": [
    {
     "data": {
      "text/html": [
       "<div>\n",
       "<style scoped>\n",
       "    .dataframe tbody tr th:only-of-type {\n",
       "        vertical-align: middle;\n",
       "    }\n",
       "\n",
       "    .dataframe tbody tr th {\n",
       "        vertical-align: top;\n",
       "    }\n",
       "\n",
       "    .dataframe thead th {\n",
       "        text-align: right;\n",
       "    }\n",
       "</style>\n",
       "<table border=\"1\" class=\"dataframe\">\n",
       "  <thead>\n",
       "    <tr style=\"text-align: right;\">\n",
       "      <th></th>\n",
       "      <th>card_id</th>\n",
       "      <th>disp_id</th>\n",
       "      <th>card_type</th>\n",
       "      <th>card_date</th>\n",
       "      <th>client_id</th>\n",
       "      <th>account_id</th>\n",
       "      <th>disp_type</th>\n",
       "      <th>district_id</th>\n",
       "      <th>sex</th>\n",
       "      <th>birth_date</th>\n",
       "    </tr>\n",
       "  </thead>\n",
       "  <tbody>\n",
       "    <tr>\n",
       "      <th>0</th>\n",
       "      <td>1005</td>\n",
       "      <td>9285</td>\n",
       "      <td>0</td>\n",
       "      <td>1993-11-07</td>\n",
       "      <td>9593</td>\n",
       "      <td>7753</td>\n",
       "      <td>OWNER</td>\n",
       "      <td>74</td>\n",
       "      <td>WOMAN</td>\n",
       "      <td>1968-01-28</td>\n",
       "    </tr>\n",
       "    <tr>\n",
       "      <th>1</th>\n",
       "      <td>104</td>\n",
       "      <td>588</td>\n",
       "      <td>0</td>\n",
       "      <td>1994-01-19</td>\n",
       "      <td>588</td>\n",
       "      <td>489</td>\n",
       "      <td>OWNER</td>\n",
       "      <td>61</td>\n",
       "      <td>WOMAN</td>\n",
       "      <td>1960-10-20</td>\n",
       "    </tr>\n",
       "    <tr>\n",
       "      <th>2</th>\n",
       "      <td>747</td>\n",
       "      <td>4915</td>\n",
       "      <td>0</td>\n",
       "      <td>1994-02-05</td>\n",
       "      <td>4915</td>\n",
       "      <td>4078</td>\n",
       "      <td>OWNER</td>\n",
       "      <td>40</td>\n",
       "      <td>MAN</td>\n",
       "      <td>1963-07-19</td>\n",
       "    </tr>\n",
       "    <tr>\n",
       "      <th>3</th>\n",
       "      <td>70</td>\n",
       "      <td>439</td>\n",
       "      <td>0</td>\n",
       "      <td>1994-02-08</td>\n",
       "      <td>439</td>\n",
       "      <td>361</td>\n",
       "      <td>OWNER</td>\n",
       "      <td>51</td>\n",
       "      <td>WOMAN</td>\n",
       "      <td>1968-09-12</td>\n",
       "    </tr>\n",
       "    <tr>\n",
       "      <th>4</th>\n",
       "      <td>577</td>\n",
       "      <td>3687</td>\n",
       "      <td>0</td>\n",
       "      <td>1994-02-15</td>\n",
       "      <td>3687</td>\n",
       "      <td>3050</td>\n",
       "      <td>OWNER</td>\n",
       "      <td>49</td>\n",
       "      <td>MAN</td>\n",
       "      <td>1972-02-06</td>\n",
       "    </tr>\n",
       "  </tbody>\n",
       "</table>\n",
       "</div>"
      ],
      "text/plain": [
       "   card_id  disp_id  card_type   card_date  client_id  account_id disp_type  \\\n",
       "0     1005     9285          0  1993-11-07       9593        7753     OWNER   \n",
       "1      104      588          0  1994-01-19        588         489     OWNER   \n",
       "2      747     4915          0  1994-02-05       4915        4078     OWNER   \n",
       "3       70      439          0  1994-02-08        439         361     OWNER   \n",
       "4      577     3687          0  1994-02-15       3687        3050     OWNER   \n",
       "\n",
       "   district_id    sex  birth_date  \n",
       "0           74  WOMAN  1968-01-28  \n",
       "1           61  WOMAN  1960-10-20  \n",
       "2           40    MAN  1963-07-19  \n",
       "3           51  WOMAN  1968-09-12  \n",
       "4           49    MAN  1972-02-06  "
      ]
     },
     "execution_count": 62,
     "metadata": {},
     "output_type": "execute_result"
    }
   ],
   "source": [
    "df_card = pd.read_csv(\"clean_datasets/cards_train.csv\")\n",
    "\n",
    "df_join_disp_clients_card = pd.merge(df_card, df_join_disp_clients, on=\"disp_id\", how=\"left\")\n",
    "\n",
    "df_join_disp_clients_card.head()\n",
    "\n"
   ]
  },
  {
   "cell_type": "code",
   "execution_count": null,
   "metadata": {},
   "outputs": [],
   "source": []
  }
 ],
 "metadata": {
  "kernelspec": {
   "display_name": "Python 3",
   "language": "python",
   "name": "python3"
  },
  "language_info": {
   "codemirror_mode": {
    "name": "ipython",
    "version": 3
   },
   "file_extension": ".py",
   "mimetype": "text/x-python",
   "name": "python",
   "nbconvert_exporter": "python",
   "pygments_lexer": "ipython3",
   "version": "3.9.4"
  }
 },
 "nbformat": 4,
 "nbformat_minor": 4
}
