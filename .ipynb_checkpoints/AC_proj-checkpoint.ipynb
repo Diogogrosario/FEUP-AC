{
 "cells": [
  {
   "cell_type": "markdown",
   "metadata": {},
   "source": [
    "# Data Mining Project - To Loan or Not to Loan"
   ]
  },
  {
   "cell_type": "markdown",
   "metadata": {},
   "source": [
    "## Table of contents\n",
    "\n",
    "1. [Introduction](#Introduction)\n",
    "\n",
    "2. [Required libraries](#Required-libraries)\n",
    "\n",
    "4. [The Problem](#Problem)\n",
    "\n",
    "5. [Initialization / Preprocessing](#Initialization-/-Preprocessing)\n",
    "\n",
    "6. [Plots](#Plots)\n",
    "\n",
    "7. [Exploratory analysis](#Step-4:-Exploratory-analysis)\n",
    "\n",
    "8. [Classification](#Step-5:-Classification)\n",
    "\n",
    "    - [Cross-validation](#Cross-validation)\n",
    "\n",
    "    - [Parameter tuning](#Parameter-tuning)\n",
    "\n",
    "9. [Conclusions](#Conclusions)"
   ]
  },
  {
   "cell_type": "markdown",
   "metadata": {},
   "source": [
    "## Introduction\n",
    "\n",
    "In this project, we intend to use Supervised Machine Learning methods to predict whether a loan should be refused or not. In order to do this, we make use of a [Bank Loan dataset](https://www.kaggle.com/c/to-loan-or-not-to-loan-that-is-the-question-ac2122) from a Kaggle competition."
   ]
  },
  {
   "cell_type": "markdown",
   "metadata": {
    "tags": []
   },
   "source": [
    "## Required libraries\n",
    "\n",
    "(mudar isto depois)\n",
    "\n",
    "- **numpy** - provides support for large multidimensional arrays and matrices along with a collection of high-level mathematical functions to execute these functions swiftly.\n",
    "- **pandas** - enables the provision of easy data structure and quicker data analysis for Python. For operations like data analysis and modelling, Pandas makes it possible to carry these out without needing to switch to more domain-specific language.\n",
    "- **scikit-learn** - can be effectively used for a variety of applications which include classification, regression, clustering, model selection, naive Bayes’, grade boosting, K-means, and preprocessing.\n",
    "- **matplotlib** - widely used for publication of quality figures in a variety of hard copy formats and interactive environments across platforms. Used to design charts, graphs, pie charts, scatterplots, histograms, error charts, etc.\n",
    "- **seaborn** - visualisation of statistical models like heat maps.\n",
    "- **category_encoders** - set of scikit transformers for encoding categorical variables into numeric with different techniques.\n",
    "- **tabulate** - preety-print tabular data.\n",
    "- **imblearn** - deals with imbalanced datasets"
   ]
  },
  {
   "cell_type": "markdown",
   "metadata": {},
   "source": [
    "## Initialization / Preprocessing"
   ]
  },
  {
   "cell_type": "markdown",
   "metadata": {},
   "source": [
    "### Import modules"
   ]
  },
  {
   "cell_type": "code",
   "execution_count": 1,
   "metadata": {},
   "outputs": [
    {
     "name": "stderr",
     "output_type": "stream",
     "text": [
      "/usr/lib/python3/dist-packages/tabulate.py:196: SyntaxWarning: \"is\" with a literal. Did you mean \"==\"?\n",
      "  if isinstance(val, (_text_type, _binary_type)) and val.strip() is \"\":\n"
     ]
    }
   ],
   "source": [
    "import pandas as pd\n",
    "import seaborn as sb\n",
    "import numpy as np\n",
    "import matplotlib.pyplot as plt\n",
    "import category_encoders as ce\n",
    "\n",
    "from sklearn.metrics import precision_recall_curve\n",
    "from sklearn.metrics import roc_curve\n",
    "from sklearn.metrics import fbeta_score\n",
    "from sklearn.metrics import roc_curve\n",
    "from sklearn.metrics import auc\n",
    "from sklearn.metrics import cohen_kappa_score\n",
    "from sklearn.metrics import matthews_corrcoef\n",
    "from sklearn.metrics import matthews_corrcoef\n",
    "from sklearn.metrics import mean_absolute_error\n",
    "from sklearn.metrics import mean_squared_error\n",
    "from sklearn.metrics import r2_score\n",
    "from sklearn.metrics import average_precision_score\n",
    "from sklearn.metrics import classification_report\n",
    "\n",
    "from sklearn.preprocessing import LabelEncoder\n",
    "from sklearn.preprocessing import OneHotEncoder\n",
    "\n",
    "from sklearn.model_selection import StratifiedKFold\n",
    "from sklearn.model_selection import cross_val_score\n",
    "\n",
    "from sklearn.feature_selection import f_classif\n",
    "from sklearn.feature_selection import SelectKBest\n",
    "\n",
    "from sklearn.impute import KNNImputer\n",
    "from sklearn.model_selection import GridSearchCV\n",
    "\n",
    "from sklearn import svm\n",
    "from sklearn.linear_model import LogisticRegression\n",
    "from sklearn.tree import DecisionTreeClassifier\n",
    "from sklearn.ensemble import RandomForestClassifier\n",
    "from sklearn.neighbors import KNeighborsClassifier\n",
    "from sklearn.ensemble import GradientBoostingClassifier\n",
    "from sklearn.naive_bayes import ComplementNB\n",
    "\n",
    "from imblearn.over_sampling import SMOTE\n",
    "\n",
    "from tabulate import tabulate\n",
    "\n"
   ]
  },
  {
   "cell_type": "markdown",
   "metadata": {},
   "source": [
    "## Cleaning Data"
   ]
  },
  {
   "cell_type": "markdown",
   "metadata": {},
   "source": [
    "### Accounts details data"
   ]
  },
  {
   "cell_type": "code",
   "execution_count": 2,
   "metadata": {},
   "outputs": [
    {
     "name": "stdout",
     "output_type": "stream",
     "text": [
      "Frequency unique values: ['monthly issuance' 'issuance after transaction' 'weekly issuance']\n"
     ]
    }
   ],
   "source": [
    "df_accounts = pd.read_csv('datasets/account.csv', sep=';')\n",
    "\n",
    "print('Frequency unique values:', df_accounts['frequency'].unique())"
   ]
  },
  {
   "cell_type": "code",
   "execution_count": 3,
   "metadata": {},
   "outputs": [],
   "source": [
    "df_accounts['frequency'] = df_accounts['frequency'].map({\"monthly issuance\": 1, \"issuance after transaction\": 12, \"weekly issuance\": 4})"
   ]
  },
  {
   "cell_type": "code",
   "execution_count": 4,
   "metadata": {},
   "outputs": [
    {
     "data": {
      "text/html": [
       "<div>\n",
       "<style scoped>\n",
       "    .dataframe tbody tr th:only-of-type {\n",
       "        vertical-align: middle;\n",
       "    }\n",
       "\n",
       "    .dataframe tbody tr th {\n",
       "        vertical-align: top;\n",
       "    }\n",
       "\n",
       "    .dataframe thead th {\n",
       "        text-align: right;\n",
       "    }\n",
       "</style>\n",
       "<table border=\"1\" class=\"dataframe\">\n",
       "  <thead>\n",
       "    <tr style=\"text-align: right;\">\n",
       "      <th></th>\n",
       "      <th>account_id</th>\n",
       "      <th>district_id</th>\n",
       "      <th>frequency</th>\n",
       "      <th>account_date</th>\n",
       "    </tr>\n",
       "  </thead>\n",
       "  <tbody>\n",
       "    <tr>\n",
       "      <th>0</th>\n",
       "      <td>576</td>\n",
       "      <td>55</td>\n",
       "      <td>1</td>\n",
       "      <td>1993-01-01</td>\n",
       "    </tr>\n",
       "    <tr>\n",
       "      <th>1</th>\n",
       "      <td>3818</td>\n",
       "      <td>74</td>\n",
       "      <td>1</td>\n",
       "      <td>1993-01-01</td>\n",
       "    </tr>\n",
       "    <tr>\n",
       "      <th>2</th>\n",
       "      <td>704</td>\n",
       "      <td>55</td>\n",
       "      <td>1</td>\n",
       "      <td>1993-01-01</td>\n",
       "    </tr>\n",
       "    <tr>\n",
       "      <th>3</th>\n",
       "      <td>2378</td>\n",
       "      <td>16</td>\n",
       "      <td>1</td>\n",
       "      <td>1993-01-01</td>\n",
       "    </tr>\n",
       "    <tr>\n",
       "      <th>4</th>\n",
       "      <td>2632</td>\n",
       "      <td>24</td>\n",
       "      <td>1</td>\n",
       "      <td>1993-01-02</td>\n",
       "    </tr>\n",
       "  </tbody>\n",
       "</table>\n",
       "</div>"
      ],
      "text/plain": [
       "   account_id  district_id  frequency account_date\n",
       "0         576           55          1   1993-01-01\n",
       "1        3818           74          1   1993-01-01\n",
       "2         704           55          1   1993-01-01\n",
       "3        2378           16          1   1993-01-01\n",
       "4        2632           24          1   1993-01-02"
      ]
     },
     "execution_count": 4,
     "metadata": {},
     "output_type": "execute_result"
    }
   ],
   "source": [
    "# Formatting date column\n",
    "\n",
    "df_accounts['date'] = '19' + df_accounts['date'].astype('str')\n",
    "df_accounts['date'] = pd.to_datetime(df_accounts.date, format=\"%Y%m%d\")\n",
    "df_accounts = df_accounts.rename(columns={\"date\": \"account_date\"})\n",
    "\n",
    "df_accounts.to_csv('clean_datasets/account.csv', index=False)\n",
    "df_accounts.head()"
   ]
  },
  {
   "cell_type": "markdown",
   "metadata": {},
   "source": [
    "### Client details\n",
    "\n",
    "**birth_number** \n",
    "- YYMMDD format for Men\n",
    "- YYMM+50DD format for Women"
   ]
  },
  {
   "cell_type": "code",
   "execution_count": 5,
   "metadata": {},
   "outputs": [
    {
     "data": {
      "text/html": [
       "<div>\n",
       "<style scoped>\n",
       "    .dataframe tbody tr th:only-of-type {\n",
       "        vertical-align: middle;\n",
       "    }\n",
       "\n",
       "    .dataframe tbody tr th {\n",
       "        vertical-align: top;\n",
       "    }\n",
       "\n",
       "    .dataframe thead th {\n",
       "        text-align: right;\n",
       "    }\n",
       "</style>\n",
       "<table border=\"1\" class=\"dataframe\">\n",
       "  <thead>\n",
       "    <tr style=\"text-align: right;\">\n",
       "      <th></th>\n",
       "      <th>client_id</th>\n",
       "      <th>birth_number</th>\n",
       "      <th>district_id</th>\n",
       "    </tr>\n",
       "  </thead>\n",
       "  <tbody>\n",
       "    <tr>\n",
       "      <th>0</th>\n",
       "      <td>1</td>\n",
       "      <td>706213</td>\n",
       "      <td>18</td>\n",
       "    </tr>\n",
       "    <tr>\n",
       "      <th>1</th>\n",
       "      <td>2</td>\n",
       "      <td>450204</td>\n",
       "      <td>1</td>\n",
       "    </tr>\n",
       "    <tr>\n",
       "      <th>2</th>\n",
       "      <td>3</td>\n",
       "      <td>406009</td>\n",
       "      <td>1</td>\n",
       "    </tr>\n",
       "    <tr>\n",
       "      <th>3</th>\n",
       "      <td>4</td>\n",
       "      <td>561201</td>\n",
       "      <td>5</td>\n",
       "    </tr>\n",
       "    <tr>\n",
       "      <th>4</th>\n",
       "      <td>5</td>\n",
       "      <td>605703</td>\n",
       "      <td>5</td>\n",
       "    </tr>\n",
       "  </tbody>\n",
       "</table>\n",
       "</div>"
      ],
      "text/plain": [
       "   client_id  birth_number  district_id\n",
       "0          1        706213           18\n",
       "1          2        450204            1\n",
       "2          3        406009            1\n",
       "3          4        561201            5\n",
       "4          5        605703            5"
      ]
     },
     "execution_count": 5,
     "metadata": {},
     "output_type": "execute_result"
    }
   ],
   "source": [
    "df_clients = pd.read_csv('datasets/client.csv', sep=';')\n",
    "df_clients.head()"
   ]
  },
  {
   "cell_type": "markdown",
   "metadata": {},
   "source": [
    "#### Create column for client's sex and reformat birth date \n",
    "\n",
    "**sex**\n",
    "- 0 - Woman\n",
    "- 1 - Man"
   ]
  },
  {
   "cell_type": "code",
   "execution_count": 6,
   "metadata": {},
   "outputs": [
    {
     "data": {
      "text/html": [
       "<div>\n",
       "<style scoped>\n",
       "    .dataframe tbody tr th:only-of-type {\n",
       "        vertical-align: middle;\n",
       "    }\n",
       "\n",
       "    .dataframe tbody tr th {\n",
       "        vertical-align: top;\n",
       "    }\n",
       "\n",
       "    .dataframe thead th {\n",
       "        text-align: right;\n",
       "    }\n",
       "</style>\n",
       "<table border=\"1\" class=\"dataframe\">\n",
       "  <thead>\n",
       "    <tr style=\"text-align: right;\">\n",
       "      <th></th>\n",
       "      <th>client_id</th>\n",
       "      <th>district_id</th>\n",
       "      <th>sex</th>\n",
       "      <th>birth_date</th>\n",
       "    </tr>\n",
       "  </thead>\n",
       "  <tbody>\n",
       "    <tr>\n",
       "      <th>0</th>\n",
       "      <td>1</td>\n",
       "      <td>18</td>\n",
       "      <td>WOMAN</td>\n",
       "      <td>1970-12-13</td>\n",
       "    </tr>\n",
       "    <tr>\n",
       "      <th>1</th>\n",
       "      <td>2</td>\n",
       "      <td>1</td>\n",
       "      <td>MAN</td>\n",
       "      <td>1945-02-04</td>\n",
       "    </tr>\n",
       "    <tr>\n",
       "      <th>2</th>\n",
       "      <td>3</td>\n",
       "      <td>1</td>\n",
       "      <td>WOMAN</td>\n",
       "      <td>1940-10-09</td>\n",
       "    </tr>\n",
       "    <tr>\n",
       "      <th>3</th>\n",
       "      <td>4</td>\n",
       "      <td>5</td>\n",
       "      <td>MAN</td>\n",
       "      <td>1956-12-01</td>\n",
       "    </tr>\n",
       "    <tr>\n",
       "      <th>4</th>\n",
       "      <td>5</td>\n",
       "      <td>5</td>\n",
       "      <td>WOMAN</td>\n",
       "      <td>1960-07-03</td>\n",
       "    </tr>\n",
       "  </tbody>\n",
       "</table>\n",
       "</div>"
      ],
      "text/plain": [
       "   client_id  district_id    sex birth_date\n",
       "0          1           18  WOMAN 1970-12-13\n",
       "1          2            1    MAN 1945-02-04\n",
       "2          3            1  WOMAN 1940-10-09\n",
       "3          4            5    MAN 1956-12-01\n",
       "4          5            5  WOMAN 1960-07-03"
      ]
     },
     "execution_count": 6,
     "metadata": {},
     "output_type": "execute_result"
    }
   ],
   "source": [
    "df_clients['sex'] = df_clients['birth_number'].apply(lambda bn: \"WOMAN\" if ((bn/100)%100) >= 51 else \"MAN\")\n",
    "\n",
    "df_clients['birth_date'] = df_clients['birth_number'].apply(lambda bn: pd.to_datetime(\"19\" + str(bn - 5000), format=\"%Y%m%d\") if ((bn/100)%100) >= 51 else pd.to_datetime(\"19\" + str(bn)))\n",
    "\n",
    "df_clients = df_clients.drop(columns=['birth_number'])\n",
    "df_clients.to_csv('clean_datasets/client.csv', index=False)\n",
    "df_clients.head()"
   ]
  },
  {
   "cell_type": "markdown",
   "metadata": {},
   "source": [
    "### Disposition data"
   ]
  },
  {
   "cell_type": "code",
   "execution_count": 7,
   "metadata": {},
   "outputs": [
    {
     "data": {
      "text/html": [
       "<div>\n",
       "<style scoped>\n",
       "    .dataframe tbody tr th:only-of-type {\n",
       "        vertical-align: middle;\n",
       "    }\n",
       "\n",
       "    .dataframe tbody tr th {\n",
       "        vertical-align: top;\n",
       "    }\n",
       "\n",
       "    .dataframe thead th {\n",
       "        text-align: right;\n",
       "    }\n",
       "</style>\n",
       "<table border=\"1\" class=\"dataframe\">\n",
       "  <thead>\n",
       "    <tr style=\"text-align: right;\">\n",
       "      <th></th>\n",
       "      <th>disp_id</th>\n",
       "      <th>client_id</th>\n",
       "      <th>account_id</th>\n",
       "      <th>type</th>\n",
       "    </tr>\n",
       "  </thead>\n",
       "  <tbody>\n",
       "    <tr>\n",
       "      <th>0</th>\n",
       "      <td>1</td>\n",
       "      <td>1</td>\n",
       "      <td>1</td>\n",
       "      <td>OWNER</td>\n",
       "    </tr>\n",
       "    <tr>\n",
       "      <th>1</th>\n",
       "      <td>2</td>\n",
       "      <td>2</td>\n",
       "      <td>2</td>\n",
       "      <td>OWNER</td>\n",
       "    </tr>\n",
       "    <tr>\n",
       "      <th>2</th>\n",
       "      <td>3</td>\n",
       "      <td>3</td>\n",
       "      <td>2</td>\n",
       "      <td>DISPONENT</td>\n",
       "    </tr>\n",
       "    <tr>\n",
       "      <th>3</th>\n",
       "      <td>4</td>\n",
       "      <td>4</td>\n",
       "      <td>3</td>\n",
       "      <td>OWNER</td>\n",
       "    </tr>\n",
       "    <tr>\n",
       "      <th>4</th>\n",
       "      <td>5</td>\n",
       "      <td>5</td>\n",
       "      <td>3</td>\n",
       "      <td>DISPONENT</td>\n",
       "    </tr>\n",
       "  </tbody>\n",
       "</table>\n",
       "</div>"
      ],
      "text/plain": [
       "   disp_id  client_id  account_id       type\n",
       "0        1          1           1      OWNER\n",
       "1        2          2           2      OWNER\n",
       "2        3          3           2  DISPONENT\n",
       "3        4          4           3      OWNER\n",
       "4        5          5           3  DISPONENT"
      ]
     },
     "execution_count": 7,
     "metadata": {},
     "output_type": "execute_result"
    }
   ],
   "source": [
    "df_disp = pd.read_csv('datasets/disp.csv', sep=';')\n",
    "df_disp.head()"
   ]
  },
  {
   "cell_type": "code",
   "execution_count": 8,
   "metadata": {},
   "outputs": [
    {
     "name": "stdout",
     "output_type": "stream",
     "text": [
      "All unique Disposition types:  ['OWNER' 'DISPONENT']\n"
     ]
    }
   ],
   "source": [
    "print('All unique Disposition types: ', df_disp['type'].unique())"
   ]
  },
  {
   "cell_type": "code",
   "execution_count": 9,
   "metadata": {},
   "outputs": [
    {
     "name": "stdout",
     "output_type": "stream",
     "text": [
      "True\n"
     ]
    }
   ],
   "source": [
    "print(df_disp[\"client_id\"].is_unique & np.array_equal(df_disp[\"client_id\"].values, df_clients[\"client_id\"].values))"
   ]
  },
  {
   "cell_type": "code",
   "execution_count": 10,
   "metadata": {},
   "outputs": [],
   "source": [
    "df_disp = df_disp.rename(columns={\"type\":\"disp_type\"})\n",
    "df_disp.to_csv('clean_datasets/disp.csv', index=False)"
   ]
  },
  {
   "cell_type": "markdown",
   "metadata": {},
   "source": [
    "### District data"
   ]
  },
  {
   "cell_type": "code",
   "execution_count": 11,
   "metadata": {},
   "outputs": [
    {
     "data": {
      "text/html": [
       "<div>\n",
       "<style scoped>\n",
       "    .dataframe tbody tr th:only-of-type {\n",
       "        vertical-align: middle;\n",
       "    }\n",
       "\n",
       "    .dataframe tbody tr th {\n",
       "        vertical-align: top;\n",
       "    }\n",
       "\n",
       "    .dataframe thead th {\n",
       "        text-align: right;\n",
       "    }\n",
       "</style>\n",
       "<table border=\"1\" class=\"dataframe\">\n",
       "  <thead>\n",
       "    <tr style=\"text-align: right;\">\n",
       "      <th></th>\n",
       "      <th>code</th>\n",
       "      <th>name</th>\n",
       "      <th>region</th>\n",
       "      <th>no. of inhabitants</th>\n",
       "      <th>no. of municipalities with inhabitants &lt; 499</th>\n",
       "      <th>no. of municipalities with inhabitants 500-1999</th>\n",
       "      <th>no. of municipalities with inhabitants 2000-9999</th>\n",
       "      <th>no. of municipalities with inhabitants &gt;10000</th>\n",
       "      <th>no. of cities</th>\n",
       "      <th>ratio of urban inhabitants</th>\n",
       "      <th>average salary</th>\n",
       "      <th>unemploymant rate '95</th>\n",
       "      <th>unemploymant rate '96</th>\n",
       "      <th>no. of enterpreneurs per 1000 inhabitants</th>\n",
       "      <th>no. of commited crimes '95</th>\n",
       "      <th>no. of commited crimes '96</th>\n",
       "    </tr>\n",
       "  </thead>\n",
       "  <tbody>\n",
       "    <tr>\n",
       "      <th>0</th>\n",
       "      <td>1</td>\n",
       "      <td>Hl.m. Praha</td>\n",
       "      <td>Prague</td>\n",
       "      <td>1204953</td>\n",
       "      <td>0</td>\n",
       "      <td>0</td>\n",
       "      <td>0</td>\n",
       "      <td>1</td>\n",
       "      <td>1</td>\n",
       "      <td>100.0</td>\n",
       "      <td>12541</td>\n",
       "      <td>0.29</td>\n",
       "      <td>0.43</td>\n",
       "      <td>167</td>\n",
       "      <td>85677</td>\n",
       "      <td>99107</td>\n",
       "    </tr>\n",
       "    <tr>\n",
       "      <th>1</th>\n",
       "      <td>2</td>\n",
       "      <td>Benesov</td>\n",
       "      <td>central Bohemia</td>\n",
       "      <td>88884</td>\n",
       "      <td>80</td>\n",
       "      <td>26</td>\n",
       "      <td>6</td>\n",
       "      <td>2</td>\n",
       "      <td>5</td>\n",
       "      <td>46.7</td>\n",
       "      <td>8507</td>\n",
       "      <td>1.67</td>\n",
       "      <td>1.85</td>\n",
       "      <td>132</td>\n",
       "      <td>2159</td>\n",
       "      <td>2674</td>\n",
       "    </tr>\n",
       "    <tr>\n",
       "      <th>2</th>\n",
       "      <td>3</td>\n",
       "      <td>Beroun</td>\n",
       "      <td>central Bohemia</td>\n",
       "      <td>75232</td>\n",
       "      <td>55</td>\n",
       "      <td>26</td>\n",
       "      <td>4</td>\n",
       "      <td>1</td>\n",
       "      <td>5</td>\n",
       "      <td>41.7</td>\n",
       "      <td>8980</td>\n",
       "      <td>1.95</td>\n",
       "      <td>2.21</td>\n",
       "      <td>111</td>\n",
       "      <td>2824</td>\n",
       "      <td>2813</td>\n",
       "    </tr>\n",
       "    <tr>\n",
       "      <th>3</th>\n",
       "      <td>4</td>\n",
       "      <td>Kladno</td>\n",
       "      <td>central Bohemia</td>\n",
       "      <td>149893</td>\n",
       "      <td>63</td>\n",
       "      <td>29</td>\n",
       "      <td>6</td>\n",
       "      <td>2</td>\n",
       "      <td>6</td>\n",
       "      <td>67.4</td>\n",
       "      <td>9753</td>\n",
       "      <td>4.64</td>\n",
       "      <td>5.05</td>\n",
       "      <td>109</td>\n",
       "      <td>5244</td>\n",
       "      <td>5892</td>\n",
       "    </tr>\n",
       "    <tr>\n",
       "      <th>4</th>\n",
       "      <td>5</td>\n",
       "      <td>Kolin</td>\n",
       "      <td>central Bohemia</td>\n",
       "      <td>95616</td>\n",
       "      <td>65</td>\n",
       "      <td>30</td>\n",
       "      <td>4</td>\n",
       "      <td>1</td>\n",
       "      <td>6</td>\n",
       "      <td>51.4</td>\n",
       "      <td>9307</td>\n",
       "      <td>3.85</td>\n",
       "      <td>4.43</td>\n",
       "      <td>118</td>\n",
       "      <td>2616</td>\n",
       "      <td>3040</td>\n",
       "    </tr>\n",
       "  </tbody>\n",
       "</table>\n",
       "</div>"
      ],
      "text/plain": [
       "   code         name            region  no. of inhabitants  \\\n",
       "0      1  Hl.m. Praha           Prague             1204953   \n",
       "1      2      Benesov  central Bohemia               88884   \n",
       "2      3       Beroun  central Bohemia               75232   \n",
       "3      4       Kladno  central Bohemia              149893   \n",
       "4      5        Kolin  central Bohemia               95616   \n",
       "\n",
       "   no. of municipalities with inhabitants < 499   \\\n",
       "0                                              0   \n",
       "1                                             80   \n",
       "2                                             55   \n",
       "3                                             63   \n",
       "4                                             65   \n",
       "\n",
       "   no. of municipalities with inhabitants 500-1999  \\\n",
       "0                                                0   \n",
       "1                                               26   \n",
       "2                                               26   \n",
       "3                                               29   \n",
       "4                                               30   \n",
       "\n",
       "   no. of municipalities with inhabitants 2000-9999   \\\n",
       "0                                                  0   \n",
       "1                                                  6   \n",
       "2                                                  4   \n",
       "3                                                  6   \n",
       "4                                                  4   \n",
       "\n",
       "   no. of municipalities with inhabitants >10000   no. of cities   \\\n",
       "0                                               1               1   \n",
       "1                                               2               5   \n",
       "2                                               1               5   \n",
       "3                                               2               6   \n",
       "4                                               1               6   \n",
       "\n",
       "   ratio of urban inhabitants   average salary  unemploymant rate '95   \\\n",
       "0                        100.0            12541                   0.29   \n",
       "1                         46.7             8507                   1.67   \n",
       "2                         41.7             8980                   1.95   \n",
       "3                         67.4             9753                   4.64   \n",
       "4                         51.4             9307                   3.85   \n",
       "\n",
       "   unemploymant rate '96   no. of enterpreneurs per 1000 inhabitants   \\\n",
       "0                    0.43                                         167   \n",
       "1                    1.85                                         132   \n",
       "2                    2.21                                         111   \n",
       "3                    5.05                                         109   \n",
       "4                    4.43                                         118   \n",
       "\n",
       "  no. of commited crimes '95   no. of commited crimes '96   \n",
       "0                       85677                        99107  \n",
       "1                        2159                         2674  \n",
       "2                        2824                         2813  \n",
       "3                        5244                         5892  \n",
       "4                        2616                         3040  "
      ]
     },
     "execution_count": 11,
     "metadata": {},
     "output_type": "execute_result"
    }
   ],
   "source": [
    "df_district = pd.read_csv('datasets/district.csv', sep=';')\n",
    "df_district.head()"
   ]
  },
  {
   "cell_type": "code",
   "execution_count": 12,
   "metadata": {},
   "outputs": [
    {
     "name": "stdout",
     "output_type": "stream",
     "text": [
      "8  different regions:  ['Prague' 'central Bohemia' 'south Bohemia' 'west Bohemia' 'north Bohemia'\n",
      " 'east Bohemia' 'south Moravia' 'north Moravia']\n"
     ]
    }
   ],
   "source": [
    "print(len(df_district['region'].unique()), ' different regions: ', df_district['region'].unique())"
   ]
  },
  {
   "cell_type": "code",
   "execution_count": 13,
   "metadata": {},
   "outputs": [
    {
     "name": "stdout",
     "output_type": "stream",
     "text": [
      "Index(['code ', 'name ', 'region', 'no. of inhabitants',\n",
      "       'no. of municipalities with inhabitants < 499 ',\n",
      "       'no. of municipalities with inhabitants 500-1999',\n",
      "       'no. of municipalities with inhabitants 2000-9999 ',\n",
      "       'no. of municipalities with inhabitants >10000 ', 'no. of cities ',\n",
      "       'ratio of urban inhabitants ', 'average salary ',\n",
      "       'unemploymant rate '95 ', 'unemploymant rate '96 ',\n",
      "       'no. of enterpreneurs per 1000 inhabitants ',\n",
      "       'no. of commited crimes '95 ', 'no. of commited crimes '96 '],\n",
      "      dtype='object')\n"
     ]
    }
   ],
   "source": [
    "df_district['region'] = df_district['region'].astype('category')\n",
    "\n",
    "print(df_district.columns)"
   ]
  },
  {
   "cell_type": "markdown",
   "metadata": {},
   "source": [
    "**Problems** - Some column names have a space at the end of the string. And 'region' column should be encoded."
   ]
  },
  {
   "cell_type": "code",
   "execution_count": 14,
   "metadata": {},
   "outputs": [],
   "source": [
    "# Using binary encoding on region column \n",
    "\n",
    "binary_encoder = ce.BinaryEncoder(cols=['region'],return_df=True)\n",
    "df_district = binary_encoder.fit_transform(df_district)"
   ]
  },
  {
   "cell_type": "code",
   "execution_count": 15,
   "metadata": {},
   "outputs": [
    {
     "data": {
      "text/html": [
       "<div>\n",
       "<style scoped>\n",
       "    .dataframe tbody tr th:only-of-type {\n",
       "        vertical-align: middle;\n",
       "    }\n",
       "\n",
       "    .dataframe tbody tr th {\n",
       "        vertical-align: top;\n",
       "    }\n",
       "\n",
       "    .dataframe thead th {\n",
       "        text-align: right;\n",
       "    }\n",
       "</style>\n",
       "<table border=\"1\" class=\"dataframe\">\n",
       "  <thead>\n",
       "    <tr style=\"text-align: right;\">\n",
       "      <th></th>\n",
       "      <th>code</th>\n",
       "      <th>region_0</th>\n",
       "      <th>region_1</th>\n",
       "      <th>region_2</th>\n",
       "      <th>region_3</th>\n",
       "      <th>no. of inhabitants</th>\n",
       "      <th>no. of municipalities with inhabitants &lt; 499</th>\n",
       "      <th>no. of municipalities with inhabitants 500-1999</th>\n",
       "      <th>no. of municipalities with inhabitants 2000-9999</th>\n",
       "      <th>no. of municipalities with inhabitants &gt;10000</th>\n",
       "      <th>no. of cities</th>\n",
       "      <th>ratio of urban inhabitants</th>\n",
       "      <th>average salary</th>\n",
       "      <th>unemploymant rate '95</th>\n",
       "      <th>unemploymant rate '96</th>\n",
       "      <th>no. of enterpreneurs per 1000 inhabitants</th>\n",
       "      <th>no. of commited crimes '95</th>\n",
       "      <th>no. of commited crimes '96</th>\n",
       "    </tr>\n",
       "  </thead>\n",
       "  <tbody>\n",
       "    <tr>\n",
       "      <th>0</th>\n",
       "      <td>1</td>\n",
       "      <td>0</td>\n",
       "      <td>0</td>\n",
       "      <td>0</td>\n",
       "      <td>1</td>\n",
       "      <td>1204953</td>\n",
       "      <td>0</td>\n",
       "      <td>0</td>\n",
       "      <td>0</td>\n",
       "      <td>1</td>\n",
       "      <td>1</td>\n",
       "      <td>100.0</td>\n",
       "      <td>12541</td>\n",
       "      <td>0.29</td>\n",
       "      <td>0.43</td>\n",
       "      <td>167</td>\n",
       "      <td>85677</td>\n",
       "      <td>99107</td>\n",
       "    </tr>\n",
       "    <tr>\n",
       "      <th>1</th>\n",
       "      <td>2</td>\n",
       "      <td>0</td>\n",
       "      <td>0</td>\n",
       "      <td>1</td>\n",
       "      <td>0</td>\n",
       "      <td>88884</td>\n",
       "      <td>80</td>\n",
       "      <td>26</td>\n",
       "      <td>6</td>\n",
       "      <td>2</td>\n",
       "      <td>5</td>\n",
       "      <td>46.7</td>\n",
       "      <td>8507</td>\n",
       "      <td>1.67</td>\n",
       "      <td>1.85</td>\n",
       "      <td>132</td>\n",
       "      <td>2159</td>\n",
       "      <td>2674</td>\n",
       "    </tr>\n",
       "    <tr>\n",
       "      <th>2</th>\n",
       "      <td>3</td>\n",
       "      <td>0</td>\n",
       "      <td>0</td>\n",
       "      <td>1</td>\n",
       "      <td>0</td>\n",
       "      <td>75232</td>\n",
       "      <td>55</td>\n",
       "      <td>26</td>\n",
       "      <td>4</td>\n",
       "      <td>1</td>\n",
       "      <td>5</td>\n",
       "      <td>41.7</td>\n",
       "      <td>8980</td>\n",
       "      <td>1.95</td>\n",
       "      <td>2.21</td>\n",
       "      <td>111</td>\n",
       "      <td>2824</td>\n",
       "      <td>2813</td>\n",
       "    </tr>\n",
       "    <tr>\n",
       "      <th>3</th>\n",
       "      <td>4</td>\n",
       "      <td>0</td>\n",
       "      <td>0</td>\n",
       "      <td>1</td>\n",
       "      <td>0</td>\n",
       "      <td>149893</td>\n",
       "      <td>63</td>\n",
       "      <td>29</td>\n",
       "      <td>6</td>\n",
       "      <td>2</td>\n",
       "      <td>6</td>\n",
       "      <td>67.4</td>\n",
       "      <td>9753</td>\n",
       "      <td>4.64</td>\n",
       "      <td>5.05</td>\n",
       "      <td>109</td>\n",
       "      <td>5244</td>\n",
       "      <td>5892</td>\n",
       "    </tr>\n",
       "    <tr>\n",
       "      <th>4</th>\n",
       "      <td>5</td>\n",
       "      <td>0</td>\n",
       "      <td>0</td>\n",
       "      <td>1</td>\n",
       "      <td>0</td>\n",
       "      <td>95616</td>\n",
       "      <td>65</td>\n",
       "      <td>30</td>\n",
       "      <td>4</td>\n",
       "      <td>1</td>\n",
       "      <td>6</td>\n",
       "      <td>51.4</td>\n",
       "      <td>9307</td>\n",
       "      <td>3.85</td>\n",
       "      <td>4.43</td>\n",
       "      <td>118</td>\n",
       "      <td>2616</td>\n",
       "      <td>3040</td>\n",
       "    </tr>\n",
       "  </tbody>\n",
       "</table>\n",
       "</div>"
      ],
      "text/plain": [
       "   code  region_0  region_1  region_2  region_3  no. of inhabitants  \\\n",
       "0     1         0         0         0         1             1204953   \n",
       "1     2         0         0         1         0               88884   \n",
       "2     3         0         0         1         0               75232   \n",
       "3     4         0         0         1         0              149893   \n",
       "4     5         0         0         1         0               95616   \n",
       "\n",
       "   no. of municipalities with inhabitants < 499  \\\n",
       "0                                             0   \n",
       "1                                            80   \n",
       "2                                            55   \n",
       "3                                            63   \n",
       "4                                            65   \n",
       "\n",
       "   no. of municipalities with inhabitants 500-1999  \\\n",
       "0                                                0   \n",
       "1                                               26   \n",
       "2                                               26   \n",
       "3                                               29   \n",
       "4                                               30   \n",
       "\n",
       "   no. of municipalities with inhabitants 2000-9999  \\\n",
       "0                                                 0   \n",
       "1                                                 6   \n",
       "2                                                 4   \n",
       "3                                                 6   \n",
       "4                                                 4   \n",
       "\n",
       "   no. of municipalities with inhabitants >10000  no. of cities  \\\n",
       "0                                              1              1   \n",
       "1                                              2              5   \n",
       "2                                              1              5   \n",
       "3                                              2              6   \n",
       "4                                              1              6   \n",
       "\n",
       "   ratio of urban inhabitants  average salary unemploymant rate '95  \\\n",
       "0                       100.0           12541                  0.29   \n",
       "1                        46.7            8507                  1.67   \n",
       "2                        41.7            8980                  1.95   \n",
       "3                        67.4            9753                  4.64   \n",
       "4                        51.4            9307                  3.85   \n",
       "\n",
       "   unemploymant rate '96  no. of enterpreneurs per 1000 inhabitants  \\\n",
       "0                   0.43                                        167   \n",
       "1                   1.85                                        132   \n",
       "2                   2.21                                        111   \n",
       "3                   5.05                                        109   \n",
       "4                   4.43                                        118   \n",
       "\n",
       "  no. of commited crimes '95  no. of commited crimes '96  \n",
       "0                      85677                       99107  \n",
       "1                       2159                        2674  \n",
       "2                       2824                        2813  \n",
       "3                       5244                        5892  \n",
       "4                       2616                        3040  "
      ]
     },
     "execution_count": 15,
     "metadata": {},
     "output_type": "execute_result"
    }
   ],
   "source": [
    "for column in df_district.columns:\n",
    "    df_district = df_district.rename(columns={column : column.strip()})\n",
    "\n",
    "\n",
    "df_district = df_district.drop(columns=['name'])\n",
    "df_district.head()"
   ]
  },
  {
   "cell_type": "markdown",
   "metadata": {},
   "source": [
    "#### Looking for Missing Values"
   ]
  },
  {
   "cell_type": "code",
   "execution_count": 16,
   "metadata": {},
   "outputs": [
    {
     "name": "stdout",
     "output_type": "stream",
     "text": [
      "No missing values in the data frame\n"
     ]
    }
   ],
   "source": [
    "df_district.isnull().values.any()\n",
    "\n",
    "missing = False\n",
    "\n",
    "for column in df_district.drop(columns=['region_0', 'region_1', 'region_2', 'region_3']).columns:\n",
    "    if df_district[column].isnull().values.any():\n",
    "        missing = True\n",
    "        break\n",
    "        \n",
    "if not missing:\n",
    "    print(\"No missing values in the data frame\")\n",
    "else:\n",
    "    print(\"Missing values present in data frame\")"
   ]
  },
  {
   "cell_type": "markdown",
   "metadata": {},
   "source": [
    "Now that we have verified that there are no missing values in the district dataset, we must check that every column except `region` have **numeric** values"
   ]
  },
  {
   "cell_type": "code",
   "execution_count": 17,
   "metadata": {},
   "outputs": [
    {
     "name": "stdout",
     "output_type": "stream",
     "text": [
      "+----+--------------------------------------------------+------------------+\n",
      "|    | Column                                           | Is All Numeric   |\n",
      "|----+--------------------------------------------------+------------------|\n",
      "|  0 | code                                             | True             |\n",
      "|  1 | no. of inhabitants                               | True             |\n",
      "|  2 | no. of municipalities with inhabitants < 499     | True             |\n",
      "|  3 | no. of municipalities with inhabitants 500-1999  | True             |\n",
      "|  4 | no. of municipalities with inhabitants 2000-9999 | True             |\n",
      "|  5 | no. of municipalities with inhabitants >10000    | True             |\n",
      "|  6 | no. of cities                                    | True             |\n",
      "|  7 | ratio of urban inhabitants                       | True             |\n",
      "|  8 | average salary                                   | True             |\n",
      "|  9 | unemploymant rate '95                            | False            |\n",
      "| 10 | unemploymant rate '96                            | True             |\n",
      "| 11 | no. of enterpreneurs per 1000 inhabitants        | True             |\n",
      "| 12 | no. of commited crimes '95                       | False            |\n",
      "| 13 | no. of commited crimes '96                       | True             |\n",
      "+----+--------------------------------------------------+------------------+\n"
     ]
    }
   ],
   "source": [
    "columns = []\n",
    "is_numeric = []\n",
    "\n",
    "for column in df_district.drop(columns=['region_0', 'region_1', 'region_2', 'region_3']).columns:\n",
    "    columns.append(column)\n",
    "    is_numeric.append(np.issubdtype(df_district[column].dtype, np.number))\n",
    "\n",
    "\n",
    "df = pd.DataFrame({'Column' : columns,\n",
    "                   'Is All Numeric' : is_numeric})\n",
    "print(tabulate(df, headers='keys', tablefmt='psql'))"
   ]
  },
  {
   "cell_type": "markdown",
   "metadata": {},
   "source": [
    "It seems that two columns that should be numeric **have some not numeric values**. It could be that some values are badly formatted numbers or invalid values that make this entry count as a missing value."
   ]
  },
  {
   "cell_type": "code",
   "execution_count": 18,
   "metadata": {},
   "outputs": [
    {
     "name": "stdout",
     "output_type": "stream",
     "text": [
      "Not numeric values in 'unemploymant rate '95':  {'?'}\n",
      "Not numeric values in 'no. of commited crimes '95':  {'?'}\n"
     ]
    }
   ],
   "source": [
    "df_not_numeric = pd.DataFrame({\"unemploymant rate '95\":df_district[\"unemploymant rate '95\"].values, \"no. of commited crimes '95\": df_district[\"no. of commited crimes '95\"].values})\n",
    "\n",
    "df_not_numeric[\"not_numeric1\"] = df_not_numeric[\"unemploymant rate '95\"].apply(lambda x: x if not x.replace('.', '', 1).isdigit() else \"\")\n",
    "df_not_numeric[\"not_numeric2\"] = df_not_numeric[\"no. of commited crimes '95\"].apply(lambda x: x if not x.replace('.', '', 1).isdigit() else \"\")\n",
    "\n",
    "print(\"Not numeric values in 'unemploymant rate '95': \", set(df_not_numeric[\"not_numeric1\"].unique()) - set(['']))\n",
    "print(\"Not numeric values in 'no. of commited crimes '95': \",set(df_not_numeric[\"not_numeric2\"].unique()) - set(['']))"
   ]
  },
  {
   "cell_type": "markdown",
   "metadata": {},
   "source": [
    "As there are values in these columns marked as '?', we assume them as **missing values** and should remove them, for a correct missing values handling later on."
   ]
  },
  {
   "cell_type": "code",
   "execution_count": 19,
   "metadata": {},
   "outputs": [
    {
     "name": "stdout",
     "output_type": "stream",
     "text": [
      "Missing values in 'unemploymant rate '95': 1\n",
      "Missing values in 'no. of commited crimes '95':  1\n"
     ]
    }
   ],
   "source": [
    "df_district[\"unemploymant rate '95\"] = df_district[\"unemploymant rate '95\"].apply(lambda x: x if not x == '?' else None)\n",
    "df_district[\"no. of commited crimes '95\"] = df_district[\"no. of commited crimes '95\"].apply(lambda x: x if not x == '?' else None)\n",
    "\n",
    "print(\"Missing values in 'unemploymant rate '95':\", df_district[\"unemploymant rate '95\"].isnull().values.sum())\n",
    "print(\"Missing values in 'no. of commited crimes '95': \", df_district[\"no. of commited crimes '95\"].isnull().values.sum())"
   ]
  },
  {
   "cell_type": "markdown",
   "metadata": {},
   "source": [
    "#### Handling Missing Values\n",
    "\n",
    "In this data table there are a couple of values missing from two columns. As most classification algorithms do not work with missing values, and dropping the rows is not a viable option since we need the data from all districts to join correctly with all the other data, **data imputation** should be used.\n",
    "\n",
    "In this case, a **K-Nearest-Neighboor** Imputer will be used."
   ]
  },
  {
   "cell_type": "code",
   "execution_count": 20,
   "metadata": {},
   "outputs": [],
   "source": [
    "imputer = KNNImputer(n_neighbors=5, weights=\"uniform\")\n",
    "\n",
    "df_district = pd.DataFrame(imputer.fit_transform(df_district), columns = df_district.columns)\n",
    "\n",
    "for column in (set(df_district.columns) - set((\"ratio of urban inhabitants\", \"unemploymant rate '95\", \"unemploymant rate '96\"))):\n",
    "    df_district[column] = df_district[column].astype('int')"
   ]
  },
  {
   "cell_type": "markdown",
   "metadata": {},
   "source": [
    "#### Merging related columns"
   ]
  },
  {
   "cell_type": "code",
   "execution_count": 21,
   "metadata": {},
   "outputs": [
    {
     "data": {
      "image/png": "[encoded data removed]",
      "text/plain": [
       "<Figure size 1008x720 with 2 Axes>"
      ]
     },
     "metadata": {
      "needs_background": "light"
     },
     "output_type": "display_data"
    }
   ],
   "source": [
    "plt.figure(figsize=(14,10))\n",
    "sb.heatmap(df_district.drop(columns=['code', 'region_0', 'region_1', 'region_2', 'region_3']).corr(method=\"pearson\"), annot=True)\n",
    "plt.show()"
   ]
  },
  {
   "cell_type": "code",
   "execution_count": null,
   "metadata": {},
   "outputs": [],
   "source": [
    "pair_plot = sb.pairplot(df_district, vars=df_district.drop(columns=['code', 'region_0', 'region_1', 'region_2', 'region_3']).columns, corner=True, height=4)\n",
    "pair_plot.savefig('plots/district_corr.png')"
   ]
  },
  {
   "cell_type": "code",
   "execution_count": null,
   "metadata": {},
   "outputs": [],
   "source": [
    "df_district.drop(columns=[\"no. of commited crimes '95\", \"no. of commited crimes '96\",\"unemploymant rate '95\"],inplace=True)\n",
    "\n",
    "df_district.rename(columns={\"unemploymant rate '96\": \"unemploymant_rate\"}, inplace=True)"
   ]
  },
  {
   "cell_type": "code",
   "execution_count": null,
   "metadata": {},
   "outputs": [],
   "source": [
    "# df_district[\"unemploymant rate 95-96\"] = (df_district[\"unemploymant rate '95\"] + df_district[\"unemploymant rate '96\"])/2\n",
    "# df_district = df_district.drop(columns=[\"unemploymant rate '95\", \"unemploymant rate '96\"])"
   ]
  },
  {
   "cell_type": "code",
   "execution_count": null,
   "metadata": {},
   "outputs": [],
   "source": [
    "# df_district[\"commited crimes 95-96\"] = (df_district[\"no. of commited crimes '95\"] + df_district[\"no. of commited crimes '96\"])\n",
    "# df_district = df_district.drop(columns=[\"no. of commited crimes '95\", \"no. of commited crimes '96\"])"
   ]
  },
  {
   "cell_type": "code",
   "execution_count": null,
   "metadata": {},
   "outputs": [],
   "source": [
    "df_district.head()"
   ]
  },
  {
   "cell_type": "code",
   "execution_count": null,
   "metadata": {},
   "outputs": [],
   "source": [
    "df_district = df_district.rename(columns={\"code\":\"district_id\"})\n",
    "df_district.to_csv('clean_datasets/district.csv', index=False)"
   ]
  },
  {
   "cell_type": "markdown",
   "metadata": {},
   "source": [
    "### Loan Data"
   ]
  },
  {
   "cell_type": "code",
   "execution_count": null,
   "metadata": {},
   "outputs": [],
   "source": [
    "df_loan_train = pd.read_csv('datasets/loan_train.csv', sep=\";\")\n",
    "df_loan_test = pd.read_csv('datasets/loan_test.csv', sep=\";\")"
   ]
  },
  {
   "cell_type": "code",
   "execution_count": null,
   "metadata": {},
   "outputs": [],
   "source": [
    "df_loans = pd.concat([df_loan_train.drop(columns=[\"status\"]), df_loan_test.drop(columns=[\"status\"])])\n",
    "\n",
    "df_loans.head()"
   ]
  },
  {
   "cell_type": "markdown",
   "metadata": {},
   "source": [
    "#### Loan dates from number to datetime format"
   ]
  },
  {
   "cell_type": "code",
   "execution_count": null,
   "metadata": {},
   "outputs": [],
   "source": [
    "df_loans.date = df_loans.date.apply(lambda x: pd.to_datetime(\"19\" + str(x), format=\"%Y%m%d\"))\n",
    "df_loans = df_loans.rename(columns={\"date\": \"loan_date\"})\n",
    "df_loans.loan_date = df_loans.loan_date.astype('datetime64[ns]')\n",
    "df_loans.head()"
   ]
  },
  {
   "cell_type": "code",
   "execution_count": null,
   "metadata": {},
   "outputs": [],
   "source": [
    "df_loans_train_clean = df_loans[df_loans['loan_id'].isin(df_loan_train['loan_id'].values)]\n",
    "df_loans_train_clean['status'] = df_loan_train['status']\n",
    "df_loans_train_clean['status'] = df_loans_train_clean['status'].apply(lambda x: 0 if x == 1 else 1)\n",
    "df_loans_train_clean.to_csv('clean_datasets/loans_train.csv', index=False)\n",
    "\n",
    "df_loans_test_clean = df_loans[df_loans['loan_id'].isin(df_loan_test['loan_id'].values)]\n",
    "df_loans_test_clean['status'] = df_loan_test['status']\n",
    "df_loans_test_clean['status'] = df_loans_test_clean['status'].apply(lambda x: 0 if x == 1 else 1)\n",
    "df_loans_test_clean.to_csv('clean_datasets/loans_test.csv', index=False)"
   ]
  },
  {
   "cell_type": "markdown",
   "metadata": {},
   "source": [
    "### Cards Data"
   ]
  },
  {
   "cell_type": "code",
   "execution_count": null,
   "metadata": {},
   "outputs": [],
   "source": [
    "df_card_train = pd.read_csv('datasets/card_train.csv', sep=\";\")\n",
    "df_card_test = pd.read_csv('datasets/card_test.csv', sep=\";\")"
   ]
  },
  {
   "cell_type": "code",
   "execution_count": null,
   "metadata": {},
   "outputs": [],
   "source": [
    "df_cards = pd.concat([df_card_train, df_card_test])\n",
    "\n",
    "df_cards.head()"
   ]
  },
  {
   "cell_type": "markdown",
   "metadata": {},
   "source": [
    "#### Card issuance dates from number to datetime format"
   ]
  },
  {
   "cell_type": "code",
   "execution_count": null,
   "metadata": {},
   "outputs": [],
   "source": [
    "df_cards.issued = df_cards.issued.apply(lambda x: pd.to_datetime(\"19\" + str(x), format=\"%Y%m%d\"))\n",
    "df_cards = df_cards.rename(columns={\"issued\": \"card_date\"})\n",
    "df_cards.card_date = df_cards.card_date.astype('datetime64[ns]')\n",
    "df_cards.head()"
   ]
  },
  {
   "cell_type": "markdown",
   "metadata": {},
   "source": [
    "#### Replace 'type' column categories by numerical values (junior < classic < gold)"
   ]
  },
  {
   "cell_type": "code",
   "execution_count": null,
   "metadata": {},
   "outputs": [],
   "source": [
    "type_values = {\"junior\": -10, \"classic\": 0, \"gold\": 10}\n",
    "df_cards['type'] = df_cards['type'].apply(lambda x: type_values[x])\n",
    "df_cards.head()"
   ]
  },
  {
   "cell_type": "code",
   "execution_count": null,
   "metadata": {},
   "outputs": [],
   "source": [
    "df_card_train_clean = df_cards[df_cards['card_id'].isin(df_card_train['card_id'].values)]\n",
    "df_card_train_clean = df_card_train_clean.rename(columns={\"type\":\"card_type\"})\n",
    "df_card_train_clean.to_csv('clean_datasets/cards_train.csv', index=False)\n",
    "\n",
    "df_card_test_clean = df_cards[df_cards['card_id'].isin(df_card_test['card_id'].values)]\n",
    "df_card_test_clean = df_card_test_clean.rename(columns={\"type\":\"card_type\"})\n",
    "df_card_test_clean.to_csv('clean_datasets/cards_test.csv', index=False)"
   ]
  },
  {
   "cell_type": "markdown",
   "metadata": {},
   "source": [
    "### Transactions"
   ]
  },
  {
   "cell_type": "markdown",
   "metadata": {},
   "source": [
    "For the transactions to be ready to be used many changes need to be made.\n",
    "These changes consist of:\n",
    "- Making the account_id unique\n",
    "- Drop every transaction of enyone without a loan\n",
    "- Drop every transaction after a loan has been made\n",
    "\n",
    "Having these points in mind we cna start working on the data."
   ]
  },
  {
   "cell_type": "code",
   "execution_count": null,
   "metadata": {},
   "outputs": [],
   "source": [
    "df_trans_train = pd.read_csv(\"datasets/trans_train.csv\", sep=\";\")\n",
    "df_trans_test = pd.read_csv(\"datasets/trans_test.csv\", sep=\";\")\n",
    "\n",
    "print(len(df_trans_test[\"trans_id\"]))\n",
    "\n",
    "print(len(set(df_trans_test[\"trans_id\"].values) - set(df_trans_train[\"trans_id\"].values)))"
   ]
  },
  {
   "cell_type": "markdown",
   "metadata": {},
   "source": [
    "No duplicate ids in the test and train so we can merge them together to work on both at the same time."
   ]
  },
  {
   "cell_type": "code",
   "execution_count": null,
   "metadata": {},
   "outputs": [],
   "source": [
    "df_trans_merge = pd.concat([df_trans_test, df_trans_train])\n",
    "df_trans_merge.drop(columns=[\"account\", \"k_symbol\", \"bank\"], inplace=True)\n",
    "\n",
    "df_trans_merge.head()"
   ]
  },
  {
   "cell_type": "markdown",
   "metadata": {},
   "source": [
    "After merging both, let's make it so that the account_id is also unique so when merging with other tables we do not get duplicate values.\n",
    "\n",
    "We will start by making two new columns, one for the mean credit amounts, and another for the mean of withdrawal amounts."
   ]
  },
  {
   "cell_type": "code",
   "execution_count": null,
   "metadata": {},
   "outputs": [],
   "source": [
    "#gets the mean amount of credits\n",
    "df_credits = df_trans_merge[df_trans_merge[\"type\"] == \"credit\"].groupby(\"account_id\")['amount'].agg([np.mean])\n",
    "\n",
    "#gets the mean amount of withdrawal\n",
    "df_withdrawals = df_trans_merge[(df_trans_merge[\"type\"] == \"withdrawal\") | (df_trans_merge['type'] == \"withdrawal in cash\")].groupby(\"account_id\")['amount'].agg([np.mean])\n",
    "\n",
    "df_credits = df_credits.reset_index()\n",
    "df_withdrawals = df_withdrawals.reset_index()\n",
    "\n",
    "#renames both columns\n",
    "df_credits = df_credits.rename(columns={\"mean\":\"credits_mean\"})\n",
    "df_withdrawals = df_withdrawals.rename(columns={\"mean\":\"withdrawal_mean\"})\n",
    "\n",
    "#drops values no longer needed because of the new columns\n",
    "df_trans_merge.drop(columns=[\"type\", \"operation\", \"amount\"], inplace=True)\n",
    "\n",
    "#adds the new columns to the main dataframe\n",
    "df_trans_merge = pd.merge(df_trans_merge, df_credits, on=\"account_id\", how=\"left\")\n",
    "df_trans_merge = pd.merge(df_trans_merge, df_withdrawals, on=\"account_id\", how=\"left\")\n",
    "\n"
   ]
  },
  {
   "cell_type": "markdown",
   "metadata": {},
   "source": [
    "To start working on the date we need to make it a panda datetime object."
   ]
  },
  {
   "cell_type": "code",
   "execution_count": null,
   "metadata": {},
   "outputs": [],
   "source": [
    "df_trans_merge.date = df_trans_merge.date.apply(lambda x: pd.to_datetime(\"19\" + str(x), format=\"%Y%m%d\"))"
   ]
  },
  {
   "cell_type": "code",
   "execution_count": null,
   "metadata": {},
   "outputs": [],
   "source": [
    "print(df_trans_merge)"
   ]
  },
  {
   "cell_type": "markdown",
   "metadata": {},
   "source": [
    "After all the data preparing we can start filtering all unwanted rows according to the transaction date.\n",
    "Here we will only keep the last transaction before the loan, in order to keep how the account was at that time. On top of that, we will remove every row with date after the loan date."
   ]
  },
  {
   "cell_type": "code",
   "execution_count": null,
   "metadata": {},
   "outputs": [],
   "source": [
    "df_loans_merge = pd.concat([pd.read_csv('clean_datasets/loans_train.csv'),pd.read_csv('clean_datasets/loans_test.csv')])\n",
    "\n",
    "df_trans_merge = df_trans_merge.merge(df_loans_merge[[\"account_id\", \"loan_date\"]], on=\"account_id\", how=\"left\")\n",
    "\n",
    "df_trans_merge = df_trans_merge[(df_trans_merge[\"date\"] <= df_trans_merge[\"loan_date\"])].drop(columns=\"loan_date\")\n",
    "\n",
    "#gets the minimum value of balance\n",
    "min_value = df_trans_merge.groupby('account_id').balance.min()\n",
    "\n",
    "#gets the maximum value of balance\n",
    "max_value = df_trans_merge.groupby('account_id').balance.max()\n",
    "\n",
    "df_trans_merge = df_trans_merge.drop(columns=['trans_id'])\n",
    "\n",
    "df1 = df_trans_merge.reset_index() #makes the index a normal column for easier data handle\n",
    "g = df1.groupby([\"account_id\",])\n",
    "once = df1[g[\"index\"].transform(len) == 1] #gets all rows whose index only appears once in the table\n",
    "more = df1[g[\"index\"].transform(len) > 1] #gets all rows whose index appears multiple times in the table\n",
    "g2 = more.groupby([\"account_id\"], as_index=False)\n",
    "\n",
    "max_mores  = df1.loc[g2[\"date\"].agg(lambda x: x.idxmax())[\"date\"]] #filter by date, leaving only the one more recent\n",
    "df_trans_clean = pd.concat([once, max_mores]).reset_index() #concatenates the 'once' and 'max_more' tables to have a complete dataframe\n",
    "df_trans_clean.drop(columns=[\"index\",\"level_0\"],inplace=True) # columns created by reset_index()\n",
    "\n",
    "df_trans_clean['credits_mean'] = df_trans_clean['credits_mean'].apply(lambda x: 0 if pd.isna(x) else x)\n",
    "df_trans_clean['withdrawal_mean'] = df_trans_clean['withdrawal_mean'].apply(lambda x: 0 if pd.isna(x) else x)\n",
    "df_trans_clean = df_trans_clean.merge(min_value, on=\"account_id\", how=\"left\", suffixes=('', '_min'))\n",
    "df_trans_clean = df_trans_clean.merge(max_value, on=\"account_id\", how=\"left\", suffixes=('', '_max'))\n",
    "\n",
    "df_trans_clean = df_trans_clean.rename(columns={\"date\":\"trans_date\", \"balance\":\"last_balance\"})\n",
    "\n",
    "df_trans_train =  df_trans_clean[df_trans_clean['account_id'].isin(df_trans_train['account_id'].values)]   \n",
    "df_trans_test = df_trans_clean[df_trans_clean['account_id'].isin(df_trans_test['account_id'].values)]  \n",
    "df_trans_train.to_csv('clean_datasets/trans_train.csv', index=False)\n",
    "df_trans_test.to_csv('clean_datasets/trans_test.csv', index=False)"
   ]
  },
  {
   "cell_type": "code",
   "execution_count": null,
   "metadata": {},
   "outputs": [],
   "source": [
    "df_trans_clean.head()"
   ]
  },
  {
   "cell_type": "markdown",
   "metadata": {},
   "source": [
    "## Merging the Data"
   ]
  },
  {
   "cell_type": "code",
   "execution_count": null,
   "metadata": {},
   "outputs": [],
   "source": [
    "df_loan_train = pd.read_csv('clean_datasets/loans_train.csv', parse_dates=['loan_date'], date_parser=pd.to_datetime)\n",
    "df_loan_test = pd.read_csv('clean_datasets/loans_test.csv', parse_dates=['loan_date'], date_parser=pd.to_datetime)"
   ]
  },
  {
   "cell_type": "code",
   "execution_count": null,
   "metadata": {},
   "outputs": [],
   "source": [
    "df_accounts_test = pd.read_csv('clean_datasets/account.csv', parse_dates=['account_date'], date_parser=pd.to_datetime)"
   ]
  },
  {
   "cell_type": "code",
   "execution_count": null,
   "metadata": {},
   "outputs": [],
   "source": [
    "df_districts_test = pd.read_csv('clean_datasets/district.csv', dtype={\"region\":\"category\"})\n",
    "df_districts_test = df_districts_test.reset_index()"
   ]
  },
  {
   "cell_type": "code",
   "execution_count": null,
   "metadata": {},
   "outputs": [],
   "source": [
    "df_clients = pd.read_csv('clean_datasets/client.csv', dtype={\"birthdate\":\"datetime64[ns]\"})\n",
    "df_disp = pd.read_csv('clean_datasets/disp.csv')"
   ]
  },
  {
   "cell_type": "code",
   "execution_count": null,
   "metadata": {},
   "outputs": [],
   "source": [
    "merge_clients_disp = pd.merge(df_clients,df_disp, on=\"client_id\", how=\"left\")\n",
    "merge_clients_disp.head()"
   ]
  },
  {
   "cell_type": "code",
   "execution_count": null,
   "metadata": {},
   "outputs": [],
   "source": [
    "pd_card_test = pd.read_csv('clean_datasets/cards_test.csv')\n",
    "pd_card_train = pd.read_csv('clean_datasets/cards_train.csv')\n",
    "pd_concat = pd.concat([pd_card_test,pd_card_train])"
   ]
  },
  {
   "cell_type": "code",
   "execution_count": null,
   "metadata": {},
   "outputs": [],
   "source": [
    "merge_clients_disp_card = pd.merge(merge_clients_disp, pd_concat, on=\"disp_id\", how=\"left\")\n",
    "merge_clients_disp_card.head()"
   ]
  },
  {
   "cell_type": "code",
   "execution_count": null,
   "metadata": {},
   "outputs": [],
   "source": [
    "n_account_ids = merge_clients_disp_card.groupby(\"account_id\")[\"client_id\"].count()"
   ]
  },
  {
   "cell_type": "code",
   "execution_count": null,
   "metadata": {},
   "outputs": [],
   "source": [
    "merge_clients_disp_card = pd.merge(merge_clients_disp_card, n_account_ids, on=\"account_id\").rename(columns={\"client_id_x\": \"client_id\",\"client_id_y\": \"n_clients\"})"
   ]
  },
  {
   "cell_type": "code",
   "execution_count": null,
   "metadata": {},
   "outputs": [],
   "source": [
    "n_cards = merge_clients_disp_card[merge_clients_disp_card[\"card_id\"].notnull()].groupby(\"account_id\")[\"client_id\"].count()"
   ]
  },
  {
   "cell_type": "code",
   "execution_count": null,
   "metadata": {},
   "outputs": [],
   "source": [
    "cards_value = merge_clients_disp_card[merge_clients_disp_card[\"card_id\"].notnull()].groupby(\"account_id\")[\"card_type\"].sum()\n",
    "card_avg = cards_value / n_cards\n",
    "card_avg = pd.DataFrame({\"account_id\": card_avg.index.values, \"card_avg\": card_avg.values})"
   ]
  },
  {
   "cell_type": "code",
   "execution_count": null,
   "metadata": {},
   "outputs": [],
   "source": [
    "merge_clients_disp_card = pd.merge(merge_clients_disp_card, card_avg, on=\"account_id\", how=\"left\")\n",
    "merge_clients_disp_card['card_avg'] = merge_clients_disp_card['card_avg'].apply(lambda x: 0 if np.isnan(x) else x) \n",
    "merge_clients_disp_card['card_avg'] = merge_clients_disp_card['card_avg'].astype('int')\n",
    "merge_clients_disp_card"
   ]
  },
  {
   "cell_type": "code",
   "execution_count": null,
   "metadata": {},
   "outputs": [],
   "source": [
    "merge_clients_disp_card = merge_clients_disp_card[merge_clients_disp_card[\"disp_type\"]==\"OWNER\"]"
   ]
  },
  {
   "cell_type": "code",
   "execution_count": null,
   "metadata": {},
   "outputs": [],
   "source": [
    "merge_clients_disp_card = merge_clients_disp_card.drop(columns=[\"card_id\", \"card_type\", \"card_date\",\"district_id\"])\n",
    "\n",
    "\n",
    "merge_clients_disp_train =  merge_clients_disp_card[merge_clients_disp_card['account_id'].isin(df_loan_train['account_id'].values)]   \n",
    "merge_clients_disp_test = merge_clients_disp_card[merge_clients_disp_card['account_id'].isin(df_loan_test['account_id'].values)]  \n",
    "\n",
    "merge_clients_disp_train.to_csv(\"merge_clients_disp_train.csv\", index=False)\n",
    "merge_clients_disp_test.to_csv(\"merge_clients_disp_test.csv\", index=False)"
   ]
  },
  {
   "cell_type": "code",
   "execution_count": null,
   "metadata": {},
   "outputs": [],
   "source": [
    "merge_train = pd.merge(df_loan_train, df_accounts_test, on = 'account_id', how='left')\n",
    "merge_train = pd.merge(merge_train, df_districts_test, on = 'district_id',how='left')\n",
    "merge_train = pd.merge(merge_train, df_trans_train, on='account_id', how=\"left\")\n",
    "merge_train = pd.merge(merge_train, merge_clients_disp_train, on='account_id', how=\"left\")"
   ]
  },
  {
   "cell_type": "code",
   "execution_count": null,
   "metadata": {},
   "outputs": [],
   "source": [
    "merge_test = pd.merge(df_loan_test, df_accounts_test, on = 'account_id', how='left')\n",
    "merge_test = pd.merge(merge_test, df_districts_test, on = 'district_id',how='left')\n",
    "merge_test = pd.merge(merge_test, df_trans_test, on='account_id', how=\"left\")\n",
    "merge_test = pd.merge(merge_test, merge_clients_disp_test, on='account_id', how=\"left\")"
   ]
  },
  {
   "cell_type": "code",
   "execution_count": null,
   "metadata": {},
   "outputs": [],
   "source": [
    "merge_train.head()"
   ]
  },
  {
   "cell_type": "code",
   "execution_count": null,
   "metadata": {},
   "outputs": [],
   "source": [
    "for df in (merge_train, merge_test):\n",
    "    df['time_since_create'] = (df[\"loan_date\"] - df[\"account_date\"]).dt.days\n",
    "    df['time_since_last_trans'] = (df[\"loan_date\"] - df[\"trans_date\"]).dt.days\n",
    "\n",
    "merge_train = merge_train.drop(columns=[\"account_date\", \"index\", \"trans_date\"])\n",
    "merge_test = merge_test.drop(columns=[\"account_date\", \"index\", \"trans_date\"])\n",
    "merge_train[\"no. of inhabitants\"] = np.log(merge_train[\"no. of inhabitants\"])"
   ]
  },
  {
   "cell_type": "code",
   "execution_count": null,
   "metadata": {},
   "outputs": [],
   "source": [
    "merge_train.to_csv(\"merge_train.csv\", index=False)\n",
    "merge_test.to_csv(\"merge_test.csv\", index=False)"
   ]
  },
  {
   "cell_type": "markdown",
   "metadata": {},
   "source": [
    "## Analysis"
   ]
  },
  {
   "cell_type": "markdown",
   "metadata": {},
   "source": [
    "### Class Balance"
   ]
  },
  {
   "cell_type": "code",
   "execution_count": null,
   "metadata": {},
   "outputs": [],
   "source": [
    "merge_train = pd.read_csv(\"merge_train.csv\")\n",
    "plt.figure(figsize=(8, 8))\n",
    "\n",
    "cp = sb.countplot(x='status', data=merge_train)\n",
    "total = len(merge_train)\n",
    "\n",
    "patchNegative = cp.patches[0]\n",
    "percentage = '{:.1f}%'.format(100 * patchNegative.get_height() / total)\n",
    "x = patchNegative.get_x() + (patchNegative.get_width() / 2.3)\n",
    "y = patchNegative.get_y() + patchNegative.get_height() + 1.5\n",
    "cp.annotate(percentage, (x, y))\n",
    "\n",
    "patchPositive = cp.patches[1]\n",
    "percentage = '{:.1f}%'.format(100 * patchPositive.get_height() / total)\n",
    "x = patchPositive.get_x() + (patchPositive.get_width() / 2.3)\n",
    "y = patchPositive.get_y() + patchPositive.get_height() + 1.5\n",
    "cp.annotate(percentage, (x, y))\n",
    "\n",
    "plt.show()"
   ]
  },
  {
   "cell_type": "markdown",
   "metadata": {},
   "source": [
    "This dataset is **very unbalanced**. Only 14% of the rows are relative to refused loans."
   ]
  },
  {
   "cell_type": "markdown",
   "metadata": {},
   "source": [
    "### Correlations"
   ]
  },
  {
   "cell_type": "code",
   "execution_count": null,
   "metadata": {},
   "outputs": [],
   "source": [
    "merge_train = pd.concat([pd.read_csv(\"merge_train.csv\"),pd.read_csv(\"merge_test.csv\")])\n",
    "\n",
    "plt.figure(figsize=(30,20))\n",
    "sb.heatmap(merge_train.drop(columns=['loan_id', 'account_id', 'district_id', 'region_0', 'region_1', 'region_2', 'region_3']).corr(method=\"pearson\"), annot=True)\n",
    "plt.show()"
   ]
  },
  {
   "cell_type": "markdown",
   "metadata": {},
   "source": [
    "### Class distribution"
   ]
  },
  {
   "cell_type": "code",
   "execution_count": null,
   "metadata": {},
   "outputs": [],
   "source": [
    "merge_train = pd.read_csv(\"merge_train.csv\")\n",
    "\n",
    "fig = plt.figure(figsize=(30, 40))\n",
    "sb.set(font_scale=1.4)\n",
    "\n",
    "ax = fig.add_subplot(4, 3, 1)\n",
    "sb.histplot(merge_train, x=\"amount\", multiple=\"stack\", hue=\"status\", ax=ax)\n",
    "ax = fig.add_subplot(4, 3, 2)\n",
    "sb.histplot(merge_train, x=\"duration\", multiple=\"stack\", hue=\"status\", ax=ax)\n",
    "ax = fig.add_subplot(4, 3, 3)\n",
    "sb.histplot(merge_train, x=\"payments\", multiple=\"stack\", hue=\"status\", ax=ax)\n",
    "ax = fig.add_subplot(4, 3, 4)\n",
    "sb.histplot(merge_train, x=\"average salary\", multiple=\"stack\", hue=\"status\", ax=ax)\n",
    "ax = fig.add_subplot(4, 3, 5)\n",
    "sb.histplot(merge_train, x=\"last_balance\", multiple=\"stack\", hue=\"status\", ax=ax)\n",
    "ax = fig.add_subplot(4, 3, 6)\n",
    "sb.histplot(merge_train, x=\"time_since_last_trans\", multiple=\"stack\", hue=\"status\", ax=ax)\n",
    "ax = fig.add_subplot(4, 3, 7)\n",
    "sb.histplot(merge_train, x=\"time_since_create\", multiple=\"stack\", hue=\"status\", ax=ax)\n",
    "ax = fig.add_subplot(4, 3, 8)\n",
    "sb.histplot(merge_train, x=\"credits_mean\", multiple=\"stack\", hue=\"status\", ax=ax)\n",
    "ax = fig.add_subplot(4, 3, 9)\n",
    "sb.histplot(merge_train, x=\"withdrawal_mean\", multiple=\"stack\", hue=\"status\", ax=ax)\n",
    "ax = fig.add_subplot(4, 3, 10)\n",
    "sb.histplot(merge_train, x=\"no. of inhabitants\", multiple=\"stack\", hue=\"status\", ax=ax)\n",
    "\n",
    "plt.show()\n",
    "from sklearn import svm\n",
    "from sklearn.linear_model import LogisticRegression\n",
    "from sklearn.tree import DecisionTreeClassifier\n"
   ]
  },
  {
   "cell_type": "markdown",
   "metadata": {},
   "source": [
    "### Feature Engineering"
   ]
  },
  {
   "cell_type": "code",
   "execution_count": null,
   "metadata": {},
   "outputs": [],
   "source": [
    "merge_train = pd.read_csv(\"merge_train.csv\")\n",
    "merge_test = pd.read_csv(\"merge_test.csv\")\n",
    "\n",
    "# merge_train[\"age\"] = merge_train[merge_train[\"birth_date\"]\n",
    "\n",
    "merge_train = merge_train.drop(columns=[\"district_id\",\"account_id\",\"client_id\",\"disp_id\", \"birth_date\", \"sex\", \"disp_type\"])\n",
    "merge_test = merge_test.drop(columns=[\"district_id\",\"account_id\",\"client_id\",\"disp_id\", \"birth_date\", \"sex\", \"disp_type\"])\n",
    "\n",
    "# \"birth_date\", \"sex\", \"disp_type\"\n",
    "print(merge_train.columns.tolist())\n",
    "merge_train.head()"
   ]
  },
  {
   "cell_type": "code",
   "execution_count": null,
   "metadata": {},
   "outputs": [],
   "source": [
    "merge_train[\"no. of municipalities\"] = merge_train[\"no. of municipalities with inhabitants 2000-9999\"] + merge_train[\"no. of municipalities with inhabitants 500-1999\"] + merge_train[\"no. of municipalities with inhabitants < 499\"] + merge_train[\"no. of municipalities with inhabitants >10000\"]\n",
    "merge_test[\"no. of municipalities\"] = merge_test[\"no. of municipalities with inhabitants 2000-9999\"] + merge_test[\"no. of municipalities with inhabitants 500-1999\"] + merge_test[\"no. of municipalities with inhabitants < 499\"] + merge_test[\"no. of municipalities with inhabitants >10000\"]"
   ]
  },
  {
   "cell_type": "markdown",
   "metadata": {},
   "source": [
    "### Anova Test"
   ]
  },
  {
   "cell_type": "code",
   "execution_count": null,
   "metadata": {},
   "outputs": [],
   "source": [
    "bestfeatures = SelectKBest(score_func = f_classif,k = \"all\")\n",
    "fit = bestfeatures.fit(merge_train,merge_train[\"status\"])\n",
    "\n",
    "d = {'feature' : merge_train.columns.tolist(), 'values' : fit.scores_}\n",
    "anova_df = pd.DataFrame(data=d)\n",
    "anova_df.sort_values(\"values\", ascending=False)\n"
   ]
  },
  {
   "cell_type": "code",
   "execution_count": null,
   "metadata": {},
   "outputs": [],
   "source": [
    "merge_train.drop(columns=[\"balance_max\",\"no. of cities\", \"no. of municipalities with inhabitants < 499\", \"no. of municipalities with inhabitants 500-1999\",\"no. of municipalities with inhabitants >10000\", \"no. of municipalities with inhabitants 2000-9999\", \"withdrawal_mean\", \"average salary\"\n",
    "                          , \"no. of enterpreneurs per 1000 inhabitants\", \"ratio of urban inhabitants\", \"no. of inhabitants\", \"card_avg\", \"duration\", \"unemploymant_rate\"], inplace = True)\n",
    "merge_test.drop(columns=[\"balance_max\",\"no. of cities\", \"no. of municipalities with inhabitants < 499\", \"no. of municipalities with inhabitants 500-1999\", \"no. of municipalities with inhabitants >10000\", \"no. of municipalities with inhabitants 2000-9999\", \"withdrawal_mean\", \"average salary\"\n",
    "                          , \"no. of enterpreneurs per 1000 inhabitants\", \"ratio of urban inhabitants\", \"no. of inhabitants\", \"card_avg\", \"duration\", \"unemploymant_rate\"], inplace = True)"
   ]
  },
  {
   "cell_type": "code",
   "execution_count": null,
   "metadata": {},
   "outputs": [],
   "source": [
    "bestfeatures = SelectKBest(score_func = f_classif,k = \"all\")\n",
    "fit = bestfeatures.fit(merge_train,merge_train[\"status\"])\n",
    "\n",
    "d = {'feature' : merge_train.columns.tolist(), 'values' : fit.scores_}\n",
    "anova_df = pd.DataFrame(data=d)\n",
    "anova_df.sort_values(\"values\", ascending=False)"
   ]
  },
  {
   "cell_type": "code",
   "execution_count": null,
   "metadata": {},
   "outputs": [],
   "source": [
    "merge_train.to_csv(\"merge_train.csv\", index=False)\n",
    "merge_test.to_csv(\"merge_test.csv\", index=False)"
   ]
  },
  {
   "cell_type": "markdown",
   "metadata": {},
   "source": [
    "### SMOTE Oversampling"
   ]
  },
  {
   "cell_type": "code",
   "execution_count": null,
   "metadata": {},
   "outputs": [],
   "source": [
    "def smote(train, train_classes):\n",
    "    sm = SMOTE()\n",
    "    X_res, Y_res = sm.fit_resample(train, train_classes)\n",
    "    return X_res,Y_res\n",
    "        \n"
   ]
  },
  {
   "cell_type": "markdown",
   "metadata": {},
   "source": [
    "## Classification"
   ]
  },
  {
   "cell_type": "markdown",
   "metadata": {},
   "source": [
    "### Validation Technique"
   ]
  },
  {
   "cell_type": "markdown",
   "metadata": {
    "tags": []
   },
   "source": [
    "#### Stratified Cross Validation"
   ]
  },
  {
   "cell_type": "code",
   "execution_count": null,
   "metadata": {},
   "outputs": [],
   "source": [
    "def train_model(model, train, test, fold_no, do_smote):\n",
    "    \n",
    "    X_train = train[train.columns.difference(['status'])]\n",
    "    y_train = train['status']\n",
    "    X_test = test[test.columns.difference([\"status\"])]\n",
    "    y_test = test['status']\n",
    "    \n",
    "    if do_smote:\n",
    "        X_train, y_train = smote(X_train,y_train)\n",
    "    model.fit(X_train, y_train)\n",
    "    predictions = model.predict(X_test)\n",
    "    predictions_proba = model.predict_proba(X_test)\n",
    "    predictions_proba = predictions_proba[:,1]\n",
    "    \n",
    "    # precision, recall, _ = precision_recall_curve(y_test, predictions_proba)\n",
    "    # plt.plot(recall, precision, alpha=0.3,\n",
    "    #              label='PR fold %d (AP = %0.2f, AUC = %0.2f)' % (fold_no, average_precision_score(y_test, predictions_proba), auc(recall, precision)))\n",
    "\n",
    "    fpr, tpr, _ = roc_curve(y_test, predictions_proba)\n",
    "    plt.plot(fpr, tpr, alpha=0.3,\n",
    "                 label='ROC fold %d (AUC = %0.2f)' % (fold_no, auc(fpr, tpr)))\n",
    "\n",
    "    \n",
    "    return (model, X_train, y_train, X_test, y_test, predictions_proba, predictions)\n",
    "    \n",
    "def cross_val(model, df, n_splits, do_smote):\n",
    "    results = []\n",
    "    target = df['status'].values\n",
    "    skf = StratifiedKFold(n_splits=n_splits)\n",
    "    \n",
    "    fold_no = 1\n",
    "    for train_index, test_index in skf.split(df, target):\n",
    "        train = df.iloc[train_index]\n",
    "        test = df.iloc[test_index]\n",
    "        results.append(train_model(model, train, test, fold_no, do_smote))\n",
    "        fold_no += 1\n",
    "\n",
    "    y_test_all = []\n",
    "    predictions_proba_all = []\n",
    "    predictions_all = []\n",
    "\n",
    "    for result in results:\n",
    "        (_, _, _, _, y_test, predictions_proba, predictions) = result\n",
    "        y_test_all.append(y_test)\n",
    "        predictions_proba_all.append(predictions_proba)\n",
    "        predictions_all.append(predictions)\n",
    "        \n",
    "    y_test_all = np.concatenate(y_test_all)\n",
    "    predictions_proba_all = np.concatenate(predictions_proba_all)\n",
    "    predictions_all = np.concatenate(predictions_all)\n",
    "    \n",
    "    fpr, tpr, _ = roc_curve(y_test_all, predictions_proba_all)\n",
    "\n",
    "    plt.rcParams[\"figure.figsize\"] = 10,7\n",
    "    plt.plot(fpr, tpr, color='b',\n",
    "    label=r'ROC (AUC = %0.2f)' % (auc(fpr, tpr)),\n",
    "    lw=2, alpha=.8)\n",
    "    plt.legend()\n",
    "    plt.title(\"ROC Curve\")\n",
    "    plt.xlabel('False Positive Rate')\n",
    "    plt.ylabel('True Positive Rate')\n",
    "    \n",
    "    return (y_test_all, predictions_proba_all, predictions_all)"
   ]
  },
  {
   "cell_type": "code",
   "execution_count": null,
   "metadata": {},
   "outputs": [],
   "source": [
    "def perform_classification(model, train, fold_no, do_smote, is_regression=False):\n",
    "    train = train.drop(columns=[\"loan_id\"])\n",
    "    (testing_classes, predictions_proba, predictions) = cross_val(model, train, fold_no, do_smote)\n",
    "    plt.figure()\n",
    "    plt.draw()\n",
    "\n",
    "    print(\"Classification Report:\")\n",
    "    print(classification_report(testing_classes, predictions))\n",
    "\n",
    "    confusion_matrix = pd.crosstab(testing_classes, predictions, rownames=['Actual'], colnames=['Predicted'])\n",
    "    sb.heatmap(confusion_matrix, annot=True)\n",
    "    plt.title(\"Confusion Matrix\")\n",
    "    plt.figure()\n",
    "    plt.draw()\n",
    "    \n",
    "    if is_regression:\n",
    "        print(\"F2 Score: {}\".format(fbeta_score(testing_classes, predictions, beta=2)))\n",
    "        print(\"Cohen's Kappa Score: {}\".format(cohen_kappa_score(testing_classes, predictions)))\n",
    "        print(\"Matthews Correlation Coefficient (MCC): {}\".format(matthews_corrcoef(testing_classes, predictions)))\n",
    "        print(\"\\n\")\n",
    "        print('Mean Absolute Error (MAE):', mean_absolute_error(testing_classes, predictions))\n",
    "        print('Mean Squared Error (MSE):', mean_squared_error(testing_classes, predictions))\n",
    "        print('R Squared:', r2_score(testing_classes, predictions))\n",
    "        \n",
    "    # plt.figure()\n",
    "    # predictors = [x for x in train.columns if x not in ['status']]\n",
    "    # feat_imp = pd.Series(model.feature_importances_, predictors).sort_values(ascending=False)\n",
    "    # feat_imp.plot(kind='bar', title='Feature Importances')\n",
    "    # plt.ylabel('Feature Importance Score')\n",
    "    plt.draw()"
   ]
  },
  {
   "cell_type": "code",
   "execution_count": null,
   "metadata": {},
   "outputs": [],
   "source": [
    "def submit_test(model, train, test):\n",
    "    if(model == 'logistic'):\n",
    "        classifier = LogisticRegression(class_weight='balanced', max_iter=500000)\n",
    "        print(\"Starting LogisticRegression\")\n",
    "    elif(model == 'svm'):\n",
    "        classifier = svm.SVC(kernel='linear', class_weight=\"balanced\")\n",
    "        print(\"Starting SVM\")\n",
    "    elif(model == 'decision'):\n",
    "        classifier = DecisionTreeClassifier()\n",
    "        print(\"Starting DecisionTreeClassifier\")\n",
    "    elif(model == 'random_forest'):\n",
    "        classifier = RandomForestClassifier()\n",
    "        print(\"Starting RandomForestClassifier\")\n",
    "    else:\n",
    "        return None\n",
    "\n",
    "    classifier.fit(train.drop(columns=['status', 'loan_id']), train['status'])\n",
    "    \n",
    "    predictions = classifier.predict(test.drop(columns=['status', 'loan_id']))\n",
    "    \n",
    "    df_predictions = pd.DataFrame({\"Id\": test.loan_id.values, \"Predicted\": predictions})\n",
    "    df_predictions['Predicted'] = df_predictions['Predicted'].apply(lambda x: -1 if x == 1 else 1)\n",
    "    \n",
    "    path = 'tests/' + model + '_predictions.csv'\n",
    "    df_predictions.to_csv(path, index=False)\n",
    "    \n",
    "    return df_predictions"
   ]
  },
  {
   "cell_type": "markdown",
   "metadata": {},
   "source": [
    "### Support Vector Machine"
   ]
  },
  {
   "cell_type": "code",
   "execution_count": null,
   "metadata": {},
   "outputs": [],
   "source": [
    "\n",
    "#clf = svm.SVC(kernel='linear', class_weight=\"balanced\")\n",
    "\n",
    "#clf.fit(merge_train.drop(columns=[\"status\", \"loan_id\", \"account_id\", \"district_id\"]), merge_train['status'])"
   ]
  },
  {
   "cell_type": "code",
   "execution_count": null,
   "metadata": {},
   "outputs": [],
   "source": [
    "#y_pred = clf.predict(merge_test.drop(columns=['status', \"loan_id\", \"account_id\", \"district_id\"]))\n",
    "#print(y_pred)"
   ]
  },
  {
   "cell_type": "markdown",
   "metadata": {},
   "source": [
    "### Logistic Regression"
   ]
  },
  {
   "cell_type": "code",
   "execution_count": null,
   "metadata": {},
   "outputs": [],
   "source": [
    "logreg = LogisticRegression(C=0.001, solver='sag', max_iter=50000)"
   ]
  },
  {
   "cell_type": "code",
   "execution_count": null,
   "metadata": {},
   "outputs": [],
   "source": [
    "parameter_grid = {'C': [0.001, 0.01, 0.1, 0.25, 0.5, 1],\n",
    "                  'solver': ['liblinear', 'sag', 'saga']\n",
    "                 }\n",
    "\n",
    "\n",
    "cross_validation = StratifiedKFold(n_splits=3)\n",
    "\n",
    "grid_search = GridSearchCV(logreg,\n",
    "                           param_grid=parameter_grid,\n",
    "                           cv=cross_validation, scoring='roc_auc')\n",
    "\n",
    "#X_train_logistic, y_train_logistic = smote(merge_train.drop(columns=[\"status\"]), merge_train[\"status\"])\n",
    "grid_search.fit(merge_train.drop(columns=[\"status\"]), merge_train[\"status\"])\n",
    "\n",
    "print('Best score: {}'.format(grid_search.best_score_))\n",
    "print('Best parameters: {}'.format(grid_search.best_params_))"
   ]
  },
  {
   "cell_type": "code",
   "execution_count": null,
   "metadata": {},
   "outputs": [],
   "source": [
    "do_smote=False\n",
    "perform_classification(logreg, merge_train, 5, do_smote, True)"
   ]
  },
  {
   "cell_type": "markdown",
   "metadata": {},
   "source": [
    "### Decision Tree"
   ]
  },
  {
   "cell_type": "code",
   "execution_count": null,
   "metadata": {},
   "outputs": [],
   "source": [
    "dtc = DecisionTreeClassifier(criterion='entropy', max_depth=6, max_features=5, splitter='random')"
   ]
  },
  {
   "cell_type": "code",
   "execution_count": null,
   "metadata": {},
   "outputs": [],
   "source": [
    "parameter_grid = {'criterion': ['gini', 'entropy'],\n",
    "                  'splitter': ['best', 'random'],\n",
    "                  'max_depth': [1, 2, 3, 4, 5, 6],\n",
    "                  'max_features': [1, 2, 3, 4, 5]}\n",
    "\n",
    "cross_validation = StratifiedKFold(n_splits=2)\n",
    "\n",
    "\n",
    "grid_search = GridSearchCV(dtc,\n",
    "                           param_grid=parameter_grid,\n",
    "                           cv=cross_validation, scoring='roc_auc')\n",
    "\n",
    "X_train_decision, y_train_decision = smote(merge_train.drop(columns=[\"status\"]), merge_train[\"status\"])\n",
    "grid_search.fit(X_train_decision, y_train_decision)\n",
    "\n",
    "print('Best score: {}'.format(grid_search.best_score_))\n",
    "print('Best parameters: {}'.format(grid_search.best_params_))"
   ]
  },
  {
   "cell_type": "code",
   "execution_count": null,
   "metadata": {},
   "outputs": [],
   "source": [
    "do_smote = True\n",
    "perform_classification(dtc, merge_train, 5, do_smote)"
   ]
  },
  {
   "cell_type": "markdown",
   "metadata": {},
   "source": []
  },
  {
   "cell_type": "markdown",
   "metadata": {},
   "source": [
    "### Random Forest"
   ]
  },
  {
   "cell_type": "code",
   "execution_count": null,
   "metadata": {},
   "outputs": [],
   "source": [
    "rfc = RandomForestClassifier()"
   ]
  },
  {
   "cell_type": "code",
   "execution_count": null,
   "metadata": {},
   "outputs": [],
   "source": [
    "parameter_grid = {\n",
    "    'bootstrap': [True],\n",
    "    'max_depth': [80, 90, 100, 110],\n",
    "    'max_features': [2, 3],\n",
    "    'min_samples_leaf': [3, 4, 5],\n",
    "    'min_samples_split': [8, 10, 12],\n",
    "    'n_estimators': [100, 200, 300, 1000]\n",
    "}\n",
    "\n",
    "cross_validation = StratifiedKFold(n_splits=3)\n",
    "\n",
    "\n",
    "grid_search = GridSearchCV(rfc,\n",
    "                           param_grid=parameter_grid,\n",
    "                           cv=cross_validation, scoring='roc_auc')\n",
    "\n",
    "X_train_decision, y_train_decision = smote(merge_train.drop(columns=[\"status\"]), merge_train[\"status\"])\n",
    "grid_search.fit(X_train_decision, y_train_decision)\n",
    "\n",
    "print('Best score: {}'.format(grid_search.best_score_))\n",
    "print('Best parameters: {}'.format(grid_search.best_params_))"
   ]
  },
  {
   "cell_type": "code",
   "execution_count": null,
   "metadata": {},
   "outputs": [],
   "source": [
    "do_smote = True\n",
    "perform_classification(rfc, merge_train, 3, do_smote)"
   ]
  },
  {
   "cell_type": "markdown",
   "metadata": {},
   "source": [
    "### K-Nearest Neighbors"
   ]
  },
  {
   "cell_type": "code",
   "execution_count": null,
   "metadata": {},
   "outputs": [],
   "source": [
    "neigh = KNeighborsClassifier(algorithm='auto', leaf_size=1, n_neighbors=8, p=1, weights='distance')\n",
    "\n",
    "neigh.get_params()"
   ]
  },
  {
   "cell_type": "code",
   "execution_count": null,
   "metadata": {},
   "outputs": [],
   "source": [
    "parameter_grid = {'n_neighbors': [2, 4, 5, 8, 10, 15],\n",
    "                  'weights': ['uniform', 'distance'],\n",
    "                  'algorithm': ['auto', 'ball_tree', 'kd_tree', 'brute'],\n",
    "                  'leaf_size': [1, 3, 5, 8, 10, 15, 20, 25, 30, 40, 50],\n",
    "                  'p': [1,2]}\n",
    "\n",
    "cross_validation = StratifiedKFold(n_splits=3)\n",
    "\n",
    "\n",
    "grid_search = GridSearchCV(neigh,\n",
    "                           param_grid=parameter_grid,\n",
    "                           cv=cross_validation, scoring='roc_auc')\n",
    "\n",
    "X_train_decision, y_train_decision = smote(merge_train.drop(columns=[\"status\"]), merge_train[\"status\"])\n",
    "grid_search.fit(X_train_decision, y_train_decision)\n",
    "\n",
    "print('Best score: {}'.format(grid_search.best_score_))\n",
    "print('Best parameters: {}'.format(grid_search.best_params_))"
   ]
  },
  {
   "cell_type": "code",
   "execution_count": null,
   "metadata": {},
   "outputs": [],
   "source": [
    "do_smote = True\n",
    "perform_classification(neigh, merge_train, 3, do_smote)"
   ]
  },
  {
   "cell_type": "markdown",
   "metadata": {
    "tags": []
   },
   "source": [
    "### Gradient Boosting"
   ]
  },
  {
   "cell_type": "code",
   "execution_count": null,
   "metadata": {},
   "outputs": [],
   "source": [
    "gb_clf = GradientBoostingClassifier()"
   ]
  },
  {
   "cell_type": "code",
   "execution_count": null,
   "metadata": {},
   "outputs": [],
   "source": [
    "parameter_grid = {'criterion': ['gini', 'entropy'],\n",
    "                  'splitter': ['best', 'random'],\n",
    "                  'max_depth': [1, 2, 3, 4, 5, 6],\n",
    "                  'max_features': [1, 2, 3, 4, 5]}\n",
    "\n",
    "cross_validation = StratifiedKFold(n_splits=3)\n",
    "\n",
    "\n",
    "grid_search = GridSearchCV(gb_clf,\n",
    "                           param_grid=parameter_grid,\n",
    "                           cv=cross_validation, scoring='roc_auc')\n",
    "\n",
    "X_train_decision, y_train_decision = smote(merge_train.drop(columns=[\"status\"]), merge_train[\"status\"])\n",
    "grid_search.fit(X_train_decision, y_train_decision)\n",
    "\n",
    "print('Best score: {}'.format(grid_search.best_score_))\n",
    "print('Best parameters: {}'.format(grid_search.best_params_))"
   ]
  },
  {
   "cell_type": "code",
   "execution_count": null,
   "metadata": {},
   "outputs": [],
   "source": [
    "do_smote = True\n",
    "perform_classification(gb_clf, merge_train, 5, do_smote)"
   ]
  },
  {
   "cell_type": "markdown",
   "metadata": {},
   "source": [
    "## Final Predictions "
   ]
  },
  {
   "cell_type": "code",
   "execution_count": null,
   "metadata": {},
   "outputs": [],
   "source": [
    "merge_train = pd.read_csv(\"merge_train.csv\")\n",
    "merge_test = pd.read_csv(\"merge_test.csv\")\n",
    "\n",
    "submit_test(\"random_forest\", merge_train, merge_test)"
   ]
  },
  {
   "cell_type": "code",
   "execution_count": null,
   "metadata": {},
   "outputs": [],
   "source": []
  }
 ],
 "metadata": {
  "kernelspec": {
   "display_name": "Python 3 (ipykernel)",
   "language": "python",
   "name": "python3"
  },
  "language_info": {
   "codemirror_mode": {
    "name": "ipython",
    "version": 3
   },
   "file_extension": ".py",
   "mimetype": "text/x-python",
   "name": "python",
   "nbconvert_exporter": "python",
   "pygments_lexer": "ipython3",
   "version": "3.8.12"
  }
 },
 "nbformat": 4,
 "nbformat_minor": 4
}
